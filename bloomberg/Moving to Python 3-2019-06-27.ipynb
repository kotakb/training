{
 "cells": [
  {
   "cell_type": "markdown",
   "metadata": {
    "nbpresent": {
     "id": "ce2bdbfa-efaa-47f1-94f6-fa04558f09fc"
    },
    "slideshow": {
     "slide_type": "slide"
    }
   },
   "source": [
    "\n",
    "\n",
    "# Moving to Python 3\n",
    "\n",
    "**Naomi Ceder, @naomiceder**\n",
    "\n",
    "- **Chair, Python Software Foundation**\n",
    "- **Quick Python Book, 3rd ed**\n",
    "- **Dick Blick Art Materials** \n",
    "\n",
    "**This notebook will be available for a week at https://github.com/nceder/training/tree/master/bloomberg**\n",
    "\n",
    "**Online sign in - `ATND <GO>`, code JKTDYH - from email**\n",
    "\n",
    "**or email rbasil@bloomberg.net**\n"
   ]
  },
  {
   "cell_type": "markdown",
   "metadata": {
    "slideshow": {
     "slide_type": "skip"
    }
   },
   "source": [
    "## Course Description\n",
    "\n",
    "Getting Ready for Python 3 - migrating from Python 2 to Python 3 is a non-trivial undertaking. This course will look at the differences between the two languages, common pitfalls in converting, existing conversion tools, and strategies to get Python 2.x code as close to ready to convert as possible and then make the conversion.\n",
    "```\n",
    "Monday\n",
    "- AM: Intermediate Python\n",
    "- PM: Iterators, Generators, Collections\n",
    "\n",
    "Tuesday\n",
    "- AM: Pythonic Coding\n",
    "- PM: Moving to Python 3\n",
    "\n",
    "Wednesday\n",
    "- AM: Data cleaning\n",
    "- PM: Intermediate Python (repeat)\n",
    "\n",
    "Thursday\n",
    "- AM: Moving to Python 3 (repeat)\n",
    "- PM: Debugging Profiling Timing\n",
    "\n",
    "Friday\n",
    "- AM: Code organization and packaging\n",
    "- PM: Pythonic coding (repeat)\n",
    "```"
   ]
  },
  {
   "cell_type": "markdown",
   "metadata": {
    "slideshow": {
     "slide_type": "slide"
    }
   },
   "source": [
    "## Introductions"
   ]
  },
  {
   "cell_type": "markdown",
   "metadata": {
    "slideshow": {
     "slide_type": "slide"
    }
   },
   "source": [
    "## How this works\n",
    "\n",
    "* My course outline is only a general guide\n",
    "* We can be guided by your needs/interests\n",
    "* I need direction on what those are\n",
    "* The more we interact the better the outcome is likely to be\n"
   ]
  },
  {
   "cell_type": "markdown",
   "metadata": {
    "nbpresent": {
     "id": "77c00728-08d0-4c2d-9e6c-a73cdba1af60"
    },
    "slideshow": {
     "slide_type": "slide"
    }
   },
   "source": [
    "### You\n",
    "\n",
    "* What do you do?\n",
    "* What coding experience do you have?\n",
    "* What are your repetitive hassles and time sinks?\n",
    "* What are your concerns about moving to Python 3?"
   ]
  },
  {
   "cell_type": "markdown",
   "metadata": {
    "nbpresent": {
     "id": "c9ee43ac-0688-4c98-805d-15305a8f4e96"
    },
    "slideshow": {
     "slide_type": "slide"
    }
   },
   "source": [
    "## What we'll do\n",
    "\n",
    "* Introduction\n",
    "* A Brief History of Python\n",
    "* Why moving to 3 is desirable/good/inevitable\n",
    "* Changes in Python 3.x\n",
    "* How to migrate to 3\n",
    "* How to prepare to migrate\n",
    "* Scenarios and strategies\n"
   ]
  },
  {
   "cell_type": "markdown",
   "metadata": {
    "slideshow": {
     "slide_type": "slide"
    }
   },
   "source": [
    "## Why is 2 vs 3 even a thing?"
   ]
  },
  {
   "cell_type": "markdown",
   "metadata": {
    "slideshow": {
     "slide_type": "slide"
    }
   },
   "source": [
    "## A short history of Python\n",
    "\n",
    "### Older Python versions\n",
    "  * pre-1.0 - 1989\n",
    "  * 1.0 - 1994\n",
    "  * 1.5 - 1997, 1.6 - 2000\n",
    "  * 2.0-2.2 - 2000 - 2001\n",
    "  * 2.4 - 2004\n",
    "  * 2.5 - 2006\n",
    "  * 2.6 - 2008\n",
    "  * 2.7 - 2010\n",
    "  "
   ]
  },
  {
   "cell_type": "markdown",
   "metadata": {
    "slideshow": {
     "slide_type": "slide"
    }
   },
   "source": [
    "### Python 3\n",
    "  * Python 3000 - Guido PyCon Keynotes - “mythical” 2004, “who knows?” 2005\n",
    "  * Migration planning/discussion/expectations, PEP 3000 - 2006-2008\n",
    "  * Python 3.0 - 2008\n",
    "  * Python 3.1-3.4 - 2009 - 2014\n",
    "  * Python 3.5 - 2015\n",
    "  * Python 3.6 2016\n",
    "  * Python 3.7 2018\n",
    "  * Python 3.8 beta 2 2019-06-24, release, 2019-10-21???\n",
    "  "
   ]
  },
  {
   "cell_type": "markdown",
   "metadata": {
    "slideshow": {
     "slide_type": "slide"
    }
   },
   "source": [
    "## What changed in Python 3?\n",
    "\n",
    "\n",
    "\n",
    "**Why can't just be fixed automatically?**"
   ]
  },
  {
   "cell_type": "markdown",
   "metadata": {
    "slideshow": {
     "slide_type": "slide"
    }
   },
   "source": [
    "### A lot of things broke... (partial list)\n",
    "\n",
    "* print\n",
    "* input()\n",
    "* exceptions\n",
    "* reorganization & renaming of some std libraries\n",
    "* strings vs bytes\n",
    "* keyword only args\n",
    "* C extensions"
   ]
  },
  {
   "cell_type": "markdown",
   "metadata": {
    "slideshow": {
     "slide_type": "slide"
    }
   },
   "source": [
    "### Easy stuff\n",
    "\n",
    "* print<br>\n",
    "  `print \"hello\"` --> `print(\"hello\")`\n",
    "* input()<br>\n",
    "  `my_int = input(\"enter an integer\")` --> `my_int = int(input(\"enter an integer\"))`\n",
    "* exceptions <br>\n",
    "  `except Exception, e:` --> `except Exception as e:`\n",
    "* reorganization & renaming of some std libraries"
   ]
  },
  {
   "cell_type": "markdown",
   "metadata": {
    "slideshow": {
     "slide_type": "slide"
    }
   },
   "source": [
    "### Harder stuff\n",
    "* keyword only args\n",
    "* C extensions\n",
    "* strings vs bytes"
   ]
  },
  {
   "cell_type": "code",
   "execution_count": null,
   "metadata": {
    "slideshow": {
     "slide_type": "slide"
    }
   },
   "outputs": [],
   "source": [
    "# in Python 2.7\n",
    "protocol_string = b\"HTTP/1.1\"\n",
    "main_version = int(protocol_string[5])\n",
    "minor_version = int(protocol_string[7])\n",
    "print main_version, minor_version\n",
    "\n",
    "protocol_string = u\"HTTP/1.1\"\n",
    "main_version = int(protocol_string[5])\n",
    "minor_version = int(protocol_string[7])\n",
    "print main_version, minor_version"
   ]
  },
  {
   "cell_type": "code",
   "execution_count": 1,
   "metadata": {
    "slideshow": {
     "slide_type": "slide"
    }
   },
   "outputs": [
    {
     "name": "stdout",
     "output_type": "stream",
     "text": [
      "49 49\n",
      "1 1\n"
     ]
    }
   ],
   "source": [
    "# in Python 3\n",
    "protocol_string = b\"HTTP/1.1\"\n",
    "main_version = int(protocol_string[5])\n",
    "minor_version = int(protocol_string[7])\n",
    "print(main_version, minor_version)\n",
    "\n",
    "protocol_string = \"HTTP/1.1\"\n",
    "main_version = int(protocol_string[5])\n",
    "minor_version = int(protocol_string[7])\n",
    "print(main_version, minor_version)"
   ]
  },
  {
   "cell_type": "markdown",
   "metadata": {
    "slideshow": {
     "slide_type": "slide"
    }
   },
   "source": [
    "### Some things are different\n",
    "\n",
    "* ranges, views, etc are all iterators\n",
    "* imports\n",
    "* super()\n"
   ]
  },
  {
   "cell_type": "markdown",
   "metadata": {
    "slideshow": {
     "slide_type": "slide"
    }
   },
   "source": [
    "### Lots of Additions\n",
    "\n",
    "* string formatting\n",
    "* f-strings\n",
    "* dictionary, set comprehensions\n",
    "* libaries, e.g., pathlib \n",
    "* yield from, co-routines, etc."
   ]
  },
  {
   "cell_type": "markdown",
   "metadata": {
    "slideshow": {
     "slide_type": "slide"
    }
   },
   "source": [
    "## Adoption - Cons and Pros\n",
    "\n",
    "* FUD\n",
    "* Some VERY vocal objectors (for various reasons)\n",
    "* Lack of Libraries\n",
    "   * lack of tests\n",
    "   * broken C extensions\n",
    "* Lack of tests\n",
    "   * strings/bytes\n",
    "* Progress\n",
    "   * pretty linear & steady\n",
    "   * by now (late 2017) pretty complete\n",
    "   * http://py3readiness.org/"
   ]
  },
  {
   "cell_type": "markdown",
   "metadata": {
    "slideshow": {
     "slide_type": "slide"
    }
   },
   "source": [
    "<img src=\"python2_vs_3.jpg\">\n",
    "\n",
    "<blockquote class=\"twitter-tweet\" data-lang=\"en\"><p lang=\"en\" dir=\"ltr\"><a href=\"https://twitter.com/hashtag/Python?src=hash\">#Python</a> 3: 50%, 2: 65% (overlap), 3 outgrows 2 by 2017-12 (source: <a href=\"https://twitter.com/pycharm\">@PyCharm</a> stats) contrary to <a href=\"https://twitter.com/zedshaw\">@zedshaw</a> claims in <a href=\"https://t.co/E470kVLq5x\">https://t.co/E470kVLq5x</a> <a href=\"https://t.co/CFvTddQnhZ\">pic.twitter.com/CFvTddQnhZ</a></p>&mdash; Andrey Vlasovskikh (@vlasovskikh) <a href=\"https://twitter.com/vlasovskikh/status/801720613312364544\">November 24, 2016</a></blockquote>\n",
    "<script async src=\"//platform.twitter.com/widgets.js\" charset=\"utf-8\"></script>\n",
    "\n",
    "**(actually they crossed earlier - in June 2017)**"
   ]
  },
  {
   "cell_type": "markdown",
   "metadata": {
    "slideshow": {
     "slide_type": "slide"
    }
   },
   "source": [
    "### Alternatives?\n",
    "  * There will never be a Python 2.8\n",
    "  * forks - 2 way incompatibility\n",
    "  * switching languages (aw... don't do that)"
   ]
  },
  {
   "cell_type": "markdown",
   "metadata": {
    "slideshow": {
     "slide_type": "slide"
    }
   },
   "source": [
    "### Reasons to move to 3\n",
    "* 2.7 expires at the end of 2019\n",
    "* 3 is better, esp 3.6+\n",
    "* 3 has new features\n",
    "  * coroutines, etc.\n",
    "  * f-strings\n",
    "  * dataclasses\n",
    "  * the \"walrus\" operator `:=`\n",
    "  * all future development"
   ]
  },
  {
   "cell_type": "markdown",
   "metadata": {
    "slideshow": {
     "slide_type": "slide"
    }
   },
   "source": [
    "### Any negatives with Python 3?\n",
    "\n",
    "* Slower start up time (but catching up), and similar or faster for the rest\n",
    "* The codebase itself is more complex\n",
    "* Python 2 C extensions won't work"
   ]
  },
  {
   "cell_type": "markdown",
   "metadata": {
    "slideshow": {
     "slide_type": "slide"
    }
   },
   "source": [
    "## Migration Strategy"
   ]
  },
  {
   "cell_type": "markdown",
   "metadata": {
    "slideshow": {
     "slide_type": "slide"
    }
   },
   "source": [
    "### Practical considerations\n",
    "\n",
    "* Level of test coverage - 0 <---\\> 100%\n",
    "* External users of the **code** - none <---\\> many\n",
    "* Criticality of system and uptime - downtime is okay <---\\> system and uptime critical\n",
    "* Migration strategy and method - parallel system replacement <---\\> migration in place while active"
   ]
  },
  {
   "cell_type": "markdown",
   "metadata": {
    "slideshow": {
     "slide_type": "slide"
    }
   },
   "source": [
    "### Option 1 - Give up\n",
    "* Throw out entire application\n",
    "* Re-implement, possibly in different language\n",
    "* Most work, arguable highest risk"
   ]
  },
  {
   "cell_type": "markdown",
   "metadata": {
    "slideshow": {
     "slide_type": "slide"
    }
   },
   "source": [
    "### You might do this if... \n",
    "\n",
    "* The app is complex or poorly written, hard to maintain, no one understands it, etc\n",
    "* There are few to no tests\n",
    "* It's currently in a version of Python pre-2.6\n",
    "* Team expertise has shifted"
   ]
  },
  {
   "cell_type": "markdown",
   "metadata": {
    "slideshow": {
     "slide_type": "subslide"
    }
   },
   "source": [
    "### Option 2 - Supporting *both* 2 and 3\n",
    "\n",
    "* good for libraries \n",
    "* tricky for maintainers"
   ]
  },
  {
   "cell_type": "markdown",
   "metadata": {
    "slideshow": {
     "slide_type": "slide"
    }
   },
   "source": [
    "### You might do this if... \n",
    "\n",
    "* The app is widely used and it's hard to upgrade everyone, e.g., a library, or widely distribruted client app\n",
    "* You expect a long transition period\n",
    "* It's difficult for some other reason to make a clean cut-over"
   ]
  },
  {
   "cell_type": "markdown",
   "metadata": {
    "slideshow": {
     "slide_type": "slide"
    }
   },
   "source": [
    "#### Maintain 2 and 3 versions\n",
    "\n",
    "  * two versions of same code - branches or locations\n",
    "  * more effort\n",
    "  * disribution/configuration issues"
   ]
  },
  {
   "cell_type": "markdown",
   "metadata": {
    "slideshow": {
     "slide_type": "slide"
    }
   },
   "source": [
    "#### Maintain the 2 version, and convert to 3\n",
    "\n",
    "  * convert the 2 version to 3 on installation\n",
    "  * test on both versions\n",
    "  * limits code to lowest common denominator supported by conversion\n",
    "  * may be helped by conversion libraries"
   ]
  },
  {
   "cell_type": "markdown",
   "metadata": {
    "slideshow": {
     "slide_type": "slide"
    }
   },
   "source": [
    "#### Maintain a “hybrid” version\n",
    "\n",
    "  * use libraries, etc to maintain compatibility\n",
    "  * requires testing on both 2 and 3\n",
    "  * limited to features supported by compatibility libraries"
   ]
  },
  {
   "cell_type": "markdown",
   "metadata": {
    "slideshow": {
     "slide_type": "slide"
    }
   },
   "source": [
    "## Python 2 to 3 - The Short Explanation\n",
    "\n",
    "To make your project be single-source Python 2/3 compatible, the basic steps are:\n",
    "\n",
    "1. Only worry about supporting Python 2.7\n",
    "2. Make sure you have good test coverage (coverage.py can help; pip install coverage)\n",
    "3. Learn the differences between Python 2 & 3\n",
    "6. Use caniusepython3 to find out which of your dependencies are blocking your use of Python 3 (pip install caniusepython3)\n",
    "4. Use Futurize (or Modernize) to update your code (e.g. pip install future)\n",
    "5. Use Pylint to help make sure you don’t regress on your Python 3 support (pip install pylint)\n",
    "7. Once your dependencies are no longer blocking you, make sure you stay compatible with Python 2 & 3 (tox can help test against multiple versions of Python; pip install tox)\n",
    "8. Consider using optional static type checking to make sure your type usage works in both Python 2 & 3 (e.g. use mypy to check your typing under both Python 2 & Python 3)."
   ]
  },
  {
   "cell_type": "markdown",
   "metadata": {
    "slideshow": {
     "slide_type": "slide"
    }
   },
   "source": [
    "### Option 3 - One time migration, 2 -> 3\n",
    "\n",
    "* Have > 90% test coverage\n",
    "* Convert once and don't look back\n",
    "* Simplest (?), fastest, works for smaller user applications"
   ]
  },
  {
   "cell_type": "markdown",
   "metadata": {
    "slideshow": {
     "slide_type": "slide"
    }
   },
   "source": [
    "### You might do this if... \n",
    "\n",
    "* upgrading the app is managable, e.g., a service or server\n",
    "* there is good test coverage\n",
    "* Cut-over can be fairly short, controlled, and atomic\n"
   ]
  },
  {
   "cell_type": "markdown",
   "metadata": {
    "slideshow": {
     "slide_type": "slide"
    }
   },
   "source": [
    "## Preparation Strategies\n"
   ]
  },
  {
   "cell_type": "markdown",
   "metadata": {
    "slideshow": {
     "slide_type": "slide"
    }
   },
   "source": [
    "## Things to do in 2.x\n",
    "\n",
    "* Move to 2.7!\n",
    "* Consider strings and bytes\n",
    "  * use bytes() and str() as they will be used in 3 (or `b`  prefix)\n",
    "* Add tests! Target > 90% coverage (pay special attention to bytes)\n",
    "* run with -3 switch and fix warnings"
   ]
  },
  {
   "cell_type": "markdown",
   "metadata": {
    "slideshow": {
     "slide_type": "slide"
    }
   },
   "source": [
    "### Move to 2.7\n",
    "* fullest compatibility features for move to 3\n",
    "* relatively easy, esp from 2.6\n",
    "\n",
    "\n",
    "### Use Python 2.7!!"
   ]
  },
  {
   "cell_type": "markdown",
   "metadata": {
    "slideshow": {
     "slide_type": "slide"
    }
   },
   "source": [
    "### Strings and bytes\n",
    "* 2.7 has bytes() and str() - both return strings\n",
    "* 2.7 also supports `b` constant prefixe\n",
    "* strings and string handling\n"
   ]
  },
  {
   "cell_type": "markdown",
   "metadata": {
    "slideshow": {
     "slide_type": "slide"
    }
   },
   "source": [
    "### Tests\n",
    "* 90% coverage is a good target\n",
    "* strings and string handling\n"
   ]
  },
  {
   "cell_type": "markdown",
   "metadata": {
    "slideshow": {
     "slide_type": "slide"
    }
   },
   "source": [
    "### Use -3 to flag issues in Python 2.7\n",
    "\n",
    "* python -3\n",
    "* fix warning issues\n",
    "  * dict.has_key()\n",
    "  * apply()\n",
    "  * callable()\n",
    "  * coerce()\n",
    "  * execfile()\n",
    "  * reduce()\n",
    "  * reload()\n",
    "  * operator.isCallable()\n",
    "  * operator.sequenceIncludes()\n",
    "  * -Qwarn - warn on int/int or long/long division\n",
    "  * `<>`"
   ]
  },
  {
   "cell_type": "markdown",
   "metadata": {
    "slideshow": {
     "slide_type": "slide"
    }
   },
   "source": [
    "### Exercise: run your sample code with the -3 flag\n",
    "\n",
    "**Work on a copy, and give the new files names to indicate what was used - e.g., my_file_3flag.py, etc**\n",
    "\n",
    "* Run with the -3 flag\n",
    "* note warnings and fix"
   ]
  },
  {
   "cell_type": "code",
   "execution_count": 2,
   "metadata": {
    "scrolled": false,
    "slideshow": {
     "slide_type": "slide"
    }
   },
   "outputs": [
    {
     "name": "stdout",
     "output_type": "stream",
     "text": [
      "def greet(name):\n",
      "    print \"Hello, {0}!\".format(name)\n",
      "x = input(\"enter a number\")\n",
      "if x <> 0:\n",
      "    try:\n",
      "        y = 10 / x\n",
      "    except Exception, e:\n",
      "        print e\n",
      "print \"What's your name?\"\n",
      "name = raw_input()\n",
      "greet(name)\n",
      "info = {'name': 'Nalini', 'age': 42 }\n",
      "for key in info.iterkeys():\n",
      "    print key\n"
     ]
    }
   ],
   "source": [
    "\n",
    "! cp test-2_3\\ copy.py test-2_3_3flag.py\n",
    "\n",
    "with open(\"test-2_3_3flag.py\") as oldfile:\n",
    "    for line in oldfile:\n",
    "        print(line.rstrip())\n",
    " "
   ]
  },
  {
   "cell_type": "code",
   "execution_count": null,
   "metadata": {
    "slideshow": {
     "slide_type": "slide"
    }
   },
   "outputs": [],
   "source": [
    "!python2.7 -3 test-2_3_flag.py\n"
   ]
  },
  {
   "cell_type": "markdown",
   "metadata": {
    "slideshow": {
     "slide_type": "slide"
    }
   },
   "source": [
    "### `__future__`\n",
    "\n",
    "* e.g., `from __future__ import division`\n",
    "* print_function\n",
    "* division\n",
    "* absolute_import\n",
    "* unicode_literals"
   ]
  },
  {
   "cell_type": "markdown",
   "metadata": {
    "slideshow": {
     "slide_type": "slide"
    }
   },
   "source": [
    "### `future_builtins`\n",
    "\n",
    "* e.g, `from future_builtins import map`\n",
    "* Python 3 versions of \n",
    "  * `ascii()`\n",
    "  * `map()`\n",
    "  * `filter()`\n",
    "  * `hex()`\n",
    "  * `oct()`\n",
    "  * `zip()`\n"
   ]
  },
  {
   "cell_type": "code",
   "execution_count": null,
   "metadata": {
    "scrolled": true
   },
   "outputs": [],
   "source": [
    "! pip install future\n",
    "! pip install modernize\n",
    "! pip install mypy\n"
   ]
  },
  {
   "cell_type": "markdown",
   "metadata": {
    "slideshow": {
     "slide_type": "slide"
    }
   },
   "source": [
    "### Run modernize \n",
    "\n",
    "* refactors to be as forward compatible as possible\n",
    "* wrapper around 2to3 to update Python 2 code for later conversion\n",
    "* uses several fixers from 2to3\n",
    "* uses several fixers from six (mentioned below)* doesn't use additional libraries\n",
    "* still runs on Python 2\n",
    "* probably still doesn't run on Pythnon 3\n"
   ]
  },
  {
   "cell_type": "markdown",
   "metadata": {
    "slideshow": {
     "slide_type": "slide"
    }
   },
   "source": [
    "### six (i.e, 2 * 3)\n",
    "\n",
    "* compatibility layer\n",
    "* aliases to relocate/renamed libraries\n",
    "* aliases for unsupported types, etc\n",
    "* suited for somewhat manually implementing compatibility\n"
   ]
  },
  {
   "cell_type": "code",
   "execution_count": 5,
   "metadata": {
    "scrolled": true
   },
   "outputs": [
    {
     "name": "stdout",
     "output_type": "stream",
     "text": [
      "Python           _              _\r\n",
      "   _ __  ___  __| |___ _ _ _ _ (_)______\r\n",
      "  | '  \\/ _ \\/ _` / -_) '_| ' \\| |_ / -_)\r\n",
      "  |_|_|_\\___/\\__,_\\___|_| |_||_|_/__\\___| 0.7\r\n",
      "\r\n",
      "Usage: modernize [options] file|dir ...\r\n",
      "\r\n",
      "Options:\r\n",
      "  --version             show program's version number and exit\r\n",
      "  -h, --help            show this help message and exit\r\n",
      "  -v, --verbose         Show more verbose logging.\r\n",
      "  --no-diffs            Don't show diffs of the refactoring.\r\n",
      "  -l, --list-fixes      List standard transformations.\r\n",
      "  -d, --doctests_only   Fix up doctests only.\r\n",
      "  -f FIX, --fix=FIX     Each FIX specifies a transformation; '-f default'\r\n",
      "                        includes default fixers.\r\n",
      "  --fixers-here         Add current working directory to python path (so\r\n",
      "                        fixers can be found)\r\n",
      "  -j PROCESSES, --processes=PROCESSES\r\n",
      "                        Run 2to3 concurrently.\r\n",
      "  -x NOFIX, --nofix=NOFIX\r\n",
      "                        Prevent a fixer from being run.\r\n",
      "  -p, --print-function  Modify the grammar so that print() is a function.\r\n",
      "  -w, --write           Write back modified files.\r\n",
      "  -n, --nobackups       Don't write backups for modified files.\r\n",
      "  --six-unicode         Wrap unicode literals in six.u().\r\n",
      "  --future-unicode      Use 'from __future__ import unicode_literals'(only\r\n",
      "                        useful for Python 2.6+).\r\n",
      "  --no-six              Exclude fixes that depend on the six package.\r\n",
      "  --enforce             Returns non-zero exit code of any fixers had to be\r\n",
      "                        applied.  Useful for enforcing Python 3 compatibility.\r\n"
     ]
    }
   ],
   "source": [
    "! python-modernize --help"
   ]
  },
  {
   "cell_type": "code",
   "execution_count": 7,
   "metadata": {
    "slideshow": {
     "slide_type": "slide"
    }
   },
   "outputs": [
    {
     "name": "stdout",
     "output_type": "stream",
     "text": [
      " Loading the following fixers:\n",
      "    lib2to3.fixes.fix_apply  (apply)\n",
      "    lib2to3.fixes.fix_except  (except)\n",
      "    lib2to3.fixes.fix_exec  (exec)\n",
      "    lib2to3.fixes.fix_execfile  (execfile)\n",
      "    lib2to3.fixes.fix_exitfunc  (exitfunc)\n",
      "    lib2to3.fixes.fix_funcattrs  (funcattrs)\n",
      "    lib2to3.fixes.fix_has_key  (has_key)\n",
      "    lib2to3.fixes.fix_idioms  (idioms)\n",
      "    lib2to3.fixes.fix_long  (long)\n",
      "    lib2to3.fixes.fix_methodattrs  (methodattrs)\n",
      "    lib2to3.fixes.fix_ne  (ne)\n",
      "    lib2to3.fixes.fix_numliterals  (numliterals)\n",
      "    lib2to3.fixes.fix_operator  (operator)\n",
      "    lib2to3.fixes.fix_paren  (paren)\n",
      "    lib2to3.fixes.fix_reduce  (reduce)\n",
      "    lib2to3.fixes.fix_renames  (renames)\n",
      "    lib2to3.fixes.fix_repr  (repr)\n",
      "    lib2to3.fixes.fix_set_literal  (set_literal)\n",
      "    lib2to3.fixes.fix_standarderror  (standarderror)\n",
      "    lib2to3.fixes.fix_sys_exc  (sys_exc)\n",
      "    lib2to3.fixes.fix_throw  (throw)\n",
      "    lib2to3.fixes.fix_tuple_params  (tuple_params)\n",
      "    lib2to3.fixes.fix_types  (types)\n",
      "    lib2to3.fixes.fix_ws_comma  (ws_comma)\n",
      "    lib2to3.fixes.fix_xreadlines  (xreadlines)\n",
      "    libmodernize.fixes.fix_basestring  (basestring)\n",
      "    libmodernize.fixes.fix_dict_six  (dict_six)\n",
      "    libmodernize.fixes.fix_file  (file)\n",
      "    libmodernize.fixes.fix_filter  (filter)\n",
      "    libmodernize.fixes.fix_import  (import)\n",
      "    libmodernize.fixes.fix_imports_six  (imports_six)\n",
      "    libmodernize.fixes.fix_input_six  (input_six)\n",
      "    libmodernize.fixes.fix_int_long_tuple  (int_long_tuple)\n",
      "    libmodernize.fixes.fix_itertools_imports_six  (itertools_imports_six)\n",
      "    libmodernize.fixes.fix_itertools_six  (itertools_six)\n",
      "    libmodernize.fixes.fix_map  (map)\n",
      "    libmodernize.fixes.fix_metaclass  (metaclass)\n",
      "    libmodernize.fixes.fix_next  (next)\n",
      "    libmodernize.fixes.fix_print  (print)\n",
      "    libmodernize.fixes.fix_raise  (raise)\n",
      "    libmodernize.fixes.fix_raise_six  (raise_six)\n",
      "    libmodernize.fixes.fix_unichr  (unichr)\n",
      "    libmodernize.fixes.fix_unicode_type  (unicode_type)\n",
      "    libmodernize.fixes.fix_urllib_six  (urllib_six)\n",
      "    libmodernize.fixes.fix_xrange_six  (xrange_six)\n",
      "    libmodernize.fixes.fix_zip  (zip)\n",
      " Applying the following explicit transformations:\n",
      "    (None)\n",
      "\n",
      "RefactoringTool: Skipping optional fixer: idioms\n",
      "RefactoringTool: Skipping optional fixer: set_literal\n",
      "RefactoringTool: Skipping optional fixer: ws_comma\n",
      "RefactoringTool: Refactored test-2_3_modernize.py\n",
      "--- test-2_3_modernize.py\t(original)\n",
      "+++ test-2_3_modernize.py\t(refactored)\n",
      "@@ -1,14 +1,17 @@\n",
      "+from __future__ import print_function\n",
      "+import six\n",
      "+from six.moves import input\n",
      " def greet(name):\n",
      "-    print \"Hello, {0}!\".format(name)\n",
      "-x = input(\"enter a number\")\n",
      "-if x <> 0:\n",
      "+    print(\"Hello, {0}!\".format(name))\n",
      "+x = eval(input(\"enter a number\"))\n",
      "+if x != 0:\n",
      "     try:\n",
      "         y = 10 / x\n",
      "-    except Exception, e:\n",
      "-        print e\n",
      "-print \"What's your name?\"\n",
      "-name = raw_input()\n",
      "+    except Exception as e:\n",
      "+        print(e)\n",
      "+print(\"What's your name?\")\n",
      "+name = input()\n",
      " greet(name)\n",
      " info = {'name': 'Nalini', 'age': 42 }\n",
      "-for key in info.iterkeys():\n",
      "-    print key\n",
      "+for key in six.iterkeys(info):\n",
      "+    print(key)\n",
      "RefactoringTool: Files that were modified:\n",
      "RefactoringTool: test-2_3_modernize.py\n",
      "from __future__ import print_function\n",
      "import six\n",
      "from six.moves import input\n",
      "def greet(name):\n",
      "    print(\"Hello, {0}!\".format(name))\n",
      "x = eval(input(\"enter a number\"))\n",
      "if x != 0:\n",
      "    try:\n",
      "        y = 10 / x\n",
      "    except Exception as e:\n",
      "        print(e)\n",
      "print(\"What's your name?\")\n",
      "name = input()\n",
      "greet(name)\n",
      "info = {'name': 'Nalini', 'age': 42 }\n",
      "for key in six.iterkeys(info):\n",
      "    print(key)\n"
     ]
    }
   ],
   "source": [
    "! cp test-2_3\\ copy.py test-2_3_modernize.py\n",
    "\n",
    "! python-modernize  -w test-2_3_modernize.py\n",
    "\n",
    "with open(\"test-2_3_modernize.py\") as oldfile:\n",
    "    for line in oldfile:\n",
    "        print(line.rstrip())"
   ]
  },
  {
   "cell_type": "code",
   "execution_count": 1,
   "metadata": {
    "slideshow": {
     "slide_type": "slide"
    }
   },
   "outputs": [
    {
     "name": "stdout",
     "output_type": "stream",
     "text": [
      "enter a number33\n",
      "What's your name?\n",
      "asdf\n",
      "Hello, asdf!\n",
      "name\n",
      "age\n"
     ]
    }
   ],
   "source": [
    "from __future__ import print_function\n",
    "#import six\n",
    "#from six.moves import input\n",
    "def greet(name):\n",
    "    print(\"Hello, {0}!\".format(name))\n",
    "x = int(input(\"enter a number\"))\n",
    "if x != 0:\n",
    "    try:\n",
    "        y = 10 / x\n",
    "    except Exception as e:\n",
    "        print(e)\n",
    "print(\"What's your name?\")\n",
    "name = input()\n",
    "greet(name)\n",
    "info = {'name': 'Nalini', 'age': 42 }\n",
    "for key in info:\n",
    "    print(key)\n"
   ]
  },
  {
   "cell_type": "markdown",
   "metadata": {
    "slideshow": {
     "slide_type": "slide"
    }
   },
   "source": [
    "### Exercise: Run modernize\n",
    "* Run python-modernize and test with Python 2.7\n",
    "* test with Python 3\n",
    "* consider dependency on six and what would be needed to eventually remove six"
   ]
  },
  {
   "cell_type": "markdown",
   "metadata": {
    "slideshow": {
     "slide_type": "slide"
    }
   },
   "source": [
    "### future\n",
    "\n",
    "* like six, aliases for what's been changed\n",
    "* futurize and pasteurize - to convert code to be forward/backward compatible (using additional libraries)\n"
   ]
  },
  {
   "cell_type": "code",
   "execution_count": 2,
   "metadata": {
    "scrolled": true
   },
   "outputs": [
    {
     "name": "stdout",
     "output_type": "stream",
     "text": [
      "Usage: futurize [options] file|dir ...\r\n",
      "\r\n",
      "Options:\r\n",
      "  -h, --help            show this help message and exit\r\n",
      "  -V, --version         Report the version number of futurize\r\n",
      "  -a, --all-imports     Add all __future__ and future imports to each module\r\n",
      "  -1, --stage1          Modernize Python 2 code only; no compatibility with\r\n",
      "                        Python 3 (or dependency on ``future``)\r\n",
      "  -2, --stage2          Take modernized (stage1) code and add a dependency on\r\n",
      "                        ``future`` to provide Py3 compatibility.\r\n",
      "  -0, --both-stages     Apply both stages 1 and 2\r\n",
      "  -u, --unicode-literals\r\n",
      "                        Add ``from __future__ import unicode_literals`` to\r\n",
      "                        implicitly convert all unadorned string literals ''\r\n",
      "                        into unicode strings\r\n",
      "  -f FIX, --fix=FIX     Each FIX specifies a transformation; default: all.\r\n",
      "                        Either use '-f division -f metaclass' etc. or use the\r\n",
      "                        fully-qualified module name: '-f\r\n",
      "                        lib2to3.fixes.fix_types -f\r\n",
      "                        libfuturize.fixes.fix_unicode_keep_u'\r\n",
      "  -j PROCESSES, --processes=PROCESSES\r\n",
      "                        Run 2to3 concurrently\r\n",
      "  -x NOFIX, --nofix=NOFIX\r\n",
      "                        Prevent a fixer from being run.\r\n",
      "  -l, --list-fixes      List available transformations\r\n",
      "  -p, --print-function  Modify the grammar so that print() is a function\r\n",
      "  -v, --verbose         More verbose logging\r\n",
      "  --no-diffs            Don't show diffs of the refactoring\r\n",
      "  -w, --write           Write back modified files\r\n",
      "  -n, --nobackups       Don't write backups for modified files.\r\n",
      "  -o OUTPUT_DIR, --output-dir=OUTPUT_DIR\r\n",
      "                        Put output files in this directory instead of\r\n",
      "                        overwriting the input files.  Requires -n. For Python\r\n",
      "                        >= 2.7 only.\r\n",
      "  -W, --write-unchanged-files\r\n",
      "                        Also write files even if no changes were required\r\n",
      "                        (useful with --output-dir); implies -w.\r\n",
      "  --add-suffix=ADD_SUFFIX\r\n",
      "                        Append this string to all output filenames. Requires\r\n",
      "                        -n if non-empty. For Python >= 2.7 only.ex: --add-\r\n",
      "                        suffix='3' will generate .py3 files.\r\n"
     ]
    }
   ],
   "source": [
    "! futurize --help"
   ]
  },
  {
   "cell_type": "markdown",
   "metadata": {
    "slideshow": {
     "slide_type": "slide"
    }
   },
   "source": [
    "### Run futurize -1 \n",
    "\n",
    "* refactors to be as forward compatible as possible\n",
    "* doesn't use additional libraries\n",
    "* still runs on Python 2\n",
    "* probably still doesn't run on Pythnon 3"
   ]
  },
  {
   "cell_type": "code",
   "execution_count": 3,
   "metadata": {
    "slideshow": {
     "slide_type": "slide"
    }
   },
   "outputs": [
    {
     "name": "stdout",
     "output_type": "stream",
     "text": [
      "RefactoringTool: Skipping optional fixer: idioms\n",
      "RefactoringTool: Skipping optional fixer: ws_comma\n",
      "RefactoringTool: Refactored test-2_3_futurize_1.py\n",
      "--- test-2_3_futurize_1.py\t(original)\n",
      "+++ test-2_3_futurize_1.py\t(refactored)\n",
      "@@ -1,14 +1,15 @@\n",
      "+from __future__ import print_function\n",
      " def greet(name):\n",
      "-    print \"Hello, {0}!\".format(name)\n",
      "+    print(\"Hello, {0}!\".format(name))\n",
      " x = input(\"enter a number\")\n",
      "-if x <> 0:\n",
      "+if x != 0:\n",
      "     try:\n",
      "         y = 10 / x\n",
      "-    except Exception, e:\n",
      "-        print e\n",
      "-print \"What's your name?\"\n",
      "+    except Exception as e:\n",
      "+        print(e)\n",
      "+print(\"What's your name?\")\n",
      " name = raw_input()\n",
      " greet(name)\n",
      " info = {'name': 'Nalini', 'age': 42 }\n",
      " for key in info.iterkeys():\n",
      "-    print key\n",
      "+    print(key)\n",
      "RefactoringTool: Files that were modified:\n",
      "RefactoringTool: test-2_3_futurize_1.py\n",
      "from __future__ import print_function\n",
      "def greet(name):\n",
      "    print(\"Hello, {0}!\".format(name))\n",
      "x = input(\"enter a number\")\n",
      "if x != 0:\n",
      "    try:\n",
      "        y = 10 / x\n",
      "    except Exception as e:\n",
      "        print(e)\n",
      "print(\"What's your name?\")\n",
      "name = raw_input()\n",
      "greet(name)\n",
      "info = {'name': 'Nalini', 'age': 42 }\n",
      "for key in info.iterkeys():\n",
      "    print(key)\n"
     ]
    }
   ],
   "source": [
    "! cp test-2_3\\ copy.py test-2_3_futurize_1.py\n",
    "\n",
    "! futurize -1 -w test-2_3_futurize_1.py\n",
    "\n",
    "with open(\"test-2_3_futurize_1.py\") as oldfile:\n",
    "    for line in oldfile:\n",
    "        print(line.rstrip())"
   ]
  },
  {
   "cell_type": "code",
   "execution_count": null,
   "metadata": {
    "slideshow": {
     "slide_type": "slide"
    }
   },
   "outputs": [],
   "source": [
    "from __future__ import print_function\n",
    "def greet(name):\n",
    "    print(\"Hello, {0}!\".format(name))\n",
    "x = input(\"enter a number\")\n",
    "if x != 0:\n",
    "    try:\n",
    "        y = 10 / x\n",
    "    except Exception as e:\n",
    "        print(e)\n",
    "print(\"What's your name?\")\n",
    "name = raw_input()\n",
    "greet(name)\n",
    "info = {'name': 'Nalini', 'age': 42 }\n",
    "for key in info.iterkeys():\n",
    "    print(key)"
   ]
  },
  {
   "cell_type": "markdown",
   "metadata": {
    "slideshow": {
     "slide_type": "slide"
    }
   },
   "source": [
    "### Full version of futurize using libraries"
   ]
  },
  {
   "cell_type": "markdown",
   "metadata": {
    "slideshow": {
     "slide_type": "slide"
    }
   },
   "source": [
    "### Run futurize -2\n",
    "\n",
    "* uses future library for some functions\n",
    "* still runs on Python 2\n",
    "* also runs on Pythnon 3"
   ]
  },
  {
   "cell_type": "code",
   "execution_count": 4,
   "metadata": {
    "slideshow": {
     "slide_type": "slide"
    }
   },
   "outputs": [
    {
     "name": "stdout",
     "output_type": "stream",
     "text": [
      "RefactoringTool: Refactored test-2_3_futurize_2.py\n",
      "--- test-2_3_futurize_2.py\t(original)\n",
      "+++ test-2_3_futurize_2.py\t(refactored)\n",
      "@@ -1,15 +1,18 @@\n",
      " from __future__ import print_function\n",
      "+from __future__ import division\n",
      "+from builtins import input\n",
      "+from past.utils import old_div\n",
      " def greet(name):\n",
      "     print(\"Hello, {0}!\".format(name))\n",
      "-x = input(\"enter a number\")\n",
      "+x = eval(input(\"enter a number\"))\n",
      " if x != 0:\n",
      "     try:\n",
      "-        y = 10 / x\n",
      "+        y = old_div(10, x)\n",
      "     except Exception as e:\n",
      "         print(e)\n",
      " print(\"What's your name?\")\n",
      "-name = raw_input()\n",
      "+name = input()\n",
      " greet(name)\n",
      " info = {'name': 'Nalini', 'age': 42 }\n",
      "-for key in info.iterkeys():\n",
      "+for key in info.keys():\n",
      "     print(key)\n",
      "RefactoringTool: Files that were modified:\n",
      "RefactoringTool: test-2_3_futurize_2.py\n",
      "from __future__ import print_function\n",
      "from __future__ import division\n",
      "from builtins import input\n",
      "from past.utils import old_div\n",
      "def greet(name):\n",
      "    print(\"Hello, {0}!\".format(name))\n",
      "x = eval(input(\"enter a number\"))\n",
      "if x != 0:\n",
      "    try:\n",
      "        y = old_div(10, x)\n",
      "    except Exception as e:\n",
      "        print(e)\n",
      "print(\"What's your name?\")\n",
      "name = input()\n",
      "greet(name)\n",
      "info = {'name': 'Nalini', 'age': 42 }\n",
      "for key in info.keys():\n",
      "    print(key)\n"
     ]
    }
   ],
   "source": [
    "! cp test-2_3_futurize_1.py test-2_3_futurize_2.py\n",
    "\n",
    "! futurize -2 -w test-2_3_futurize_2.py\n",
    "\n",
    "with open(\"test-2_3_futurize_2.py\") as oldfile:\n",
    "    for line in oldfile:\n",
    "        print(line.rstrip())"
   ]
  },
  {
   "cell_type": "code",
   "execution_count": null,
   "metadata": {
    "slideshow": {
     "slide_type": "slide"
    }
   },
   "outputs": [],
   "source": [
    "from __future__ import print_function\n",
    "from __future__ import division\n",
    "from builtins import input\n",
    "from past.utils import old_div\n",
    "def greet(name):\n",
    "    print(\"Hello, {0}!\".format(name))\n",
    "x = eval(input(\"enter a number\"))\n",
    "if x != 0:\n",
    "    try:\n",
    "        y = old_div(10, x)\n",
    "    except Exception as e:\n",
    "        print(e)\n",
    "print(\"What's your name?\")\n",
    "name = input()\n",
    "greet(name)\n",
    "info = {'name': 'Nalini', 'age': 42 }\n",
    "for key in info.keys():\n",
    "    print(key)\n"
   ]
  },
  {
   "cell_type": "markdown",
   "metadata": {
    "slideshow": {
     "slide_type": "slide"
    }
   },
   "source": [
    "### Exercise: run futurize on your code\n",
    "\n",
    "**Work on a copy, and give the new files names to indicate what was used - e.g., my_file_futurize_1.py, etc**\n",
    "\n",
    "* run futurize -1 on your code (use -w flag to write changes)\n",
    "* check to make sure it still runs on python 2.7"
   ]
  },
  {
   "cell_type": "markdown",
   "metadata": {
    "slideshow": {
     "slide_type": "subslide"
    }
   },
   "source": [
    "## 2to3\n",
    "\n",
    "* converts obvious, mechanical things\n",
    "* creates a diff\n",
    "* can write changes in place or to a directory\n",
    "* can be called by setup.py (setuptools)"
   ]
  },
  {
   "cell_type": "code",
   "execution_count": 5,
   "metadata": {
    "slideshow": {
     "slide_type": "slide"
    }
   },
   "outputs": [
    {
     "name": "stdout",
     "output_type": "stream",
     "text": [
      "def greet(name):\n",
      "    print \"Hello, {0}!\".format(name)\n",
      "x = input(\"enter a number\")\n",
      "if x <> 0:\n",
      "    try:\n",
      "        y = 10 / x\n",
      "    except Exception, e:\n",
      "        print e\n",
      "print \"What's your name?\"\n",
      "name = raw_input()\n",
      "greet(name)\n",
      "info = {'name': 'Nalini', 'age': 42 }\n",
      "for key in info.iterkeys():\n",
      "    print key\n"
     ]
    }
   ],
   "source": [
    "! cp test-2_3\\ copy.py test-2_3_convert.py\n",
    " \n",
    "with open(\"test-2_3_convert.py\") as oldfile:\n",
    "    for line in oldfile:\n",
    "        print(line.rstrip())\n",
    "        \n"
   ]
  },
  {
   "cell_type": "code",
   "execution_count": null,
   "metadata": {
    "slideshow": {
     "slide_type": "slide"
    }
   },
   "outputs": [],
   "source": [
    "\n",
    "!2to3  test-2_3_convert.py\n"
   ]
  },
  {
   "cell_type": "code",
   "execution_count": 6,
   "metadata": {
    "slideshow": {
     "slide_type": "slide"
    }
   },
   "outputs": [
    {
     "name": "stdout",
     "output_type": "stream",
     "text": [
      "RefactoringTool: Skipping optional fixer: buffer\n",
      "RefactoringTool: Skipping optional fixer: idioms\n",
      "RefactoringTool: Skipping optional fixer: set_literal\n",
      "RefactoringTool: Skipping optional fixer: ws_comma\n",
      "RefactoringTool: Refactored test-2_3_convert.py\n",
      "--- test-2_3_convert.py\t(original)\n",
      "+++ test-2_3_convert.py\t(refactored)\n",
      "@@ -1,14 +1,14 @@\n",
      " def greet(name):\n",
      "-    print \"Hello, {0}!\".format(name)\n",
      "-x = input(\"enter a number\")\n",
      "-if x <> 0:\n",
      "+    print(\"Hello, {0}!\".format(name))\n",
      "+x = eval(input(\"enter a number\"))\n",
      "+if x != 0:\n",
      "     try:\n",
      "         y = 10 / x\n",
      "-    except Exception, e:\n",
      "-        print e\n",
      "-print \"What's your name?\"\n",
      "-name = raw_input()\n",
      "+    except Exception as e:\n",
      "+        print(e)\n",
      "+print(\"What's your name?\")\n",
      "+name = input()\n",
      " greet(name)\n",
      " info = {'name': 'Nalini', 'age': 42 }\n",
      "-for key in info.iterkeys():\n",
      "-    print key\n",
      "+for key in info.keys():\n",
      "+    print(key)\n",
      "RefactoringTool: Files that were modified:\n",
      "RefactoringTool: test-2_3_convert.py\n",
      "def greet(name):\n",
      "    print(\"Hello, {0}!\".format(name))\n",
      "x = eval(input(\"enter a number\"))\n",
      "if x != 0:\n",
      "    try:\n",
      "        y = 10 / x\n",
      "    except Exception as e:\n",
      "        print(e)\n",
      "print(\"What's your name?\")\n",
      "name = input()\n",
      "greet(name)\n",
      "info = {'name': 'Nalini', 'age': 42 }\n",
      "for key in info.keys():\n",
      "    print(key)\n"
     ]
    }
   ],
   "source": [
    "! 2to3 -w test-2_3_convert.py\n",
    "\n",
    "with open(\"test-2_3_convert.py\") as oldfile:\n",
    "    for line in oldfile:\n",
    "        print(line.rstrip())"
   ]
  },
  {
   "cell_type": "code",
   "execution_count": null,
   "metadata": {
    "slideshow": {
     "slide_type": "slide"
    }
   },
   "outputs": [],
   "source": [
    "def greet(name):\n",
    "    print(\"Hello, {0}!\".format(name))\n",
    "x = eval(input(\"enter a number\"))\n",
    "if x != 0:\n",
    "    try:\n",
    "        y = 10 / x\n",
    "    except Exception as e:\n",
    "        print(e)\n",
    "print(\"What's your name?\")\n",
    "name = input()\n",
    "greet(name)\n",
    "info = {'name': 'Nalini', 'age': 42 }\n",
    "for key in info.keys():\n",
    "    print(key) "
   ]
  },
  {
   "cell_type": "code",
   "execution_count": null,
   "metadata": {
    "slideshow": {
     "slide_type": "slide"
    }
   },
   "outputs": [],
   "source": [
    "from __future__ import division\n",
    "from __future__ import print_function\n",
    "  \n",
    "from builtins import input\n",
    "def greet(name):\n",
    "    print(\"Hello, {0}!\".format(name))\n",
    "x = eval(input(\"enter a number :\"))\n",
    "if x != 0:\n",
    "    try:\n",
    "        y = 10 / x\n",
    "    except Exception as e:\n",
    "        print(e)\n",
    "print(\"What's your name?\")\n",
    "name = input()\n",
    "greet(name)\n",
    "info = {'name': 'Nalini', 'age': 42 }\n",
    "for key in info.keys():\n",
    "    print(key)\n"
   ]
  },
  {
   "cell_type": "markdown",
   "metadata": {
    "slideshow": {
     "slide_type": "slide"
    }
   },
   "source": [
    "### Exercise: run 2to3 on your code\n",
    "\n",
    "**Work on a copy, and give the new files names to indicate what was used - e.g., my_file_2to3.py, etc**\n",
    "\n",
    "* run 2to3 (use -w flag to write changes) on the results from using the -3 flag, above\n",
    "* run 2to3 (use -w flag to write changes) on the results of using futurize -1 above\n",
    "* compare the results of the two versions... \n",
    "* Which approach will you want to use? What are the advantages and disadvantages?"
   ]
  },
  {
   "cell_type": "markdown",
   "metadata": {
    "slideshow": {
     "slide_type": "slide"
    }
   },
   "source": [
    "## Additional tools "
   ]
  },
  {
   "cell_type": "markdown",
   "metadata": {
    "slideshow": {
     "slide_type": "slide"
    }
   },
   "source": [
    "## Recommendations - summary\n",
    "\n",
    "* Determine strategy, tools \n",
    "* Use Python 2.7, with the -3 switch, fix, possibly use six library, future library\n",
    "* Solidify test coverage\n"
   ]
  },
  {
   "cell_type": "markdown",
   "metadata": {
    "slideshow": {
     "slide_type": "slide"
    }
   },
   "source": [
    "## Virtual environments\n",
    "\n",
    "Before we get started, it's a good idea to use virtual environments.\n",
    "\n",
    "* create separate environments for different interpreters, e.g., Python 2.7, Python 3.6, Python 3.7\n",
    "* keep dependencies, library versions, etc separate\n",
    "* basic package is [virtualenv](https://pypi.python.org/pypi/virtualenv) (now a part of Python 3.6)\n",
    "\n",
    "```\n",
    "$ virtualenv -p python2.7 my_project \n",
    "$ source my_project/bin/activate\n",
    "$ pip install <package>\n",
    "... work on stuff...\n",
    "$ deactivate\n",
    "```\n",
    "Save packages for an environment:\n",
    "\n",
    "    $ pip freeze > requirements.txt\n",
    "\n",
    "Install saved requirements:\n",
    "\n",
    "    $ pip install -r requirements.txt"
   ]
  },
  {
   "cell_type": "markdown",
   "metadata": {
    "slideshow": {
     "slide_type": "slide"
    }
   },
   "source": [
    "## virtualenvwrapper\n",
    "\n",
    "To make using virtual envs easier, you might want to use [virtualenvwrapper](https://virtualenvwrapper.readthedocs.io/en/latest/index.html)\n",
    "\n",
    "```\n",
    "$ mkvirtualenv my_project \n",
    "(or)\n",
    "$ mkproject myproject     \n",
    "$ workon myproject        \n",
    "$ deactive                \n",
    "```"
   ]
  },
  {
   "cell_type": "markdown",
   "metadata": {
    "slideshow": {
     "slide_type": "slide"
    }
   },
   "source": [
    "## tox\n",
    "\n",
    "* Automates virtual envs for different Python versions\n",
    "* single command to create sdist package, install, test\n",
    "  * this means that you need an installable package with a setup.py \n",
    "* https://tox.readthedocs.io/en/latest/"
   ]
  },
  {
   "cell_type": "code",
   "execution_count": null,
   "metadata": {
    "slideshow": {
     "slide_type": "slide"
    }
   },
   "outputs": [],
   "source": [
    "! pip install tox"
   ]
  },
  {
   "cell_type": "code",
   "execution_count": null,
   "metadata": {
    "slideshow": {
     "slide_type": "slide"
    }
   },
   "outputs": [],
   "source": [
    "# content of: tox.ini , put in same dir as setup.py\n",
    "[tox]\n",
    "envlist = py27,py36\n",
    "\n",
    "[testenv]\n",
    "# install pytest in the virtualenv where commands will be executed\n",
    "deps = pytest\n",
    "commands =\n",
    "    # NOTE: you can run any command line tool here - not just tests\n",
    "    pytest"
   ]
  },
  {
   "cell_type": "code",
   "execution_count": null,
   "metadata": {
    "slideshow": {
     "slide_type": "slide"
    }
   },
   "outputs": [],
   "source": [
    "# run from commandline with\n",
    "> tox"
   ]
  },
  {
   "cell_type": "markdown",
   "metadata": {
    "slideshow": {
     "slide_type": "slide"
    }
   },
   "source": [
    "## Resources\n",
    "\n",
    "* [Porting Python 2 to 3](https://docs.python.org/2/howto/pyporting.html)\n",
    "* [Porting Python 2 Code to Python 3](http://python-future.org/compatible_idioms.html)\n",
    "* [Supporting Python 2 and 3 in setuptools](http://setuptools.readthedocs.io/en/latest/python3.html)\n",
    "* [Python 3 Porting](http://python3porting.com/)\n",
    "* [six](https://pythonhosted.org/six/)\n",
    "* [future](http://python-future.org/overview.html)\n",
    "* [2-to-3 Compatible code cheatsheet](http://python-future.org/compatible_idioms.html)\n",
    "* [Nick Coghlan's Q/A on Python 3](https://ncoghlan-devs-python-notes.readthedocs.io/en/latest/python3/questions_and_answers.html)\n",
    "* [Brett Cannon's Why Python 3 Exists](https://snarky.ca/why-python-3-exists/)\n",
    "* [Python 3 in 2016](https://hynek.me/articles/python3-2016/)"
   ]
  },
  {
   "cell_type": "code",
   "execution_count": null,
   "metadata": {},
   "outputs": [],
   "source": []
  }
 ],
 "metadata": {
  "celltoolbar": "Slideshow",
  "kernelspec": {
   "display_name": "Python 3.7",
   "language": "python",
   "name": "python3.7"
  },
  "language_info": {
   "codemirror_mode": {
    "name": "ipython",
    "version": 3
   },
   "file_extension": ".py",
   "mimetype": "text/x-python",
   "name": "python",
   "nbconvert_exporter": "python",
   "pygments_lexer": "ipython3",
   "version": "3.7.3"
  },
  "livereveal": {
   "scroll": true,
   "start_slideshow_at": "selected",
   "theme": "simple",
   "transition": "none"
  },
  "nbpresent": {
   "slides": {
    "40364f11-911c-44c8-ac73-03063e821efc": {
     "id": "40364f11-911c-44c8-ac73-03063e821efc",
     "prev": "77a19b23-0141-4213-990a-16581836886f",
     "regions": {
      "87f20508-2b6d-46ad-8baf-2417f1959dfc": {
       "attrs": {
        "height": 0.24760704739520922,
        "width": 0.8844521404366287,
        "x": 0.06427024827681099,
        "y": 0.42989716924088267
       },
       "content": {
        "cell": "e9f63db5-abbf-45ad-b431-865c637fe521",
        "part": "source"
       },
       "id": "87f20508-2b6d-46ad-8baf-2417f1959dfc"
      },
      "ca7a8a32-e2db-40d8-b568-78e0b866ae7f": {
       "attrs": {
        "height": 0.2127587188668325,
        "width": 0.8818102883884584,
        "x": 0.06643568777518605,
        "y": 0.6835770836760736
       },
       "content": {
        "cell": "e9f63db5-abbf-45ad-b431-865c637fe521",
        "part": "outputs"
       },
       "id": "ca7a8a32-e2db-40d8-b568-78e0b866ae7f"
      },
      "ed127b1b-25b7-458d-bf51-d1681d956d67": {
       "attrs": {
        "height": 0.37303141371537785,
        "width": 0.91476829341388,
        "x": 0.04802945203899766,
        "y": 0.042304322555255916
       },
       "content": {
        "cell": "8142cff1-61c8-44e5-a3b6-c5a820019670",
        "part": "source"
       },
       "id": "ed127b1b-25b7-458d-bf51-d1681d956d67"
      }
     }
    },
    "49a00256-8c85-4934-9da0-1fee3faebca0": {
     "id": "49a00256-8c85-4934-9da0-1fee3faebca0",
     "prev": "9b38d5ba-71d4-484a-8783-456938664565",
     "regions": {
      "f69e44ff-2f13-4dc9-b4f9-8a62df587a99": {
       "attrs": {
        "height": 1,
        "width": 1,
        "x": 0,
        "y": 0
       },
       "content": {
        "cell": "77c00728-08d0-4c2d-9e6c-a73cdba1af60",
        "part": "source"
       },
       "id": "f69e44ff-2f13-4dc9-b4f9-8a62df587a99"
      }
     }
    },
    "503a41af-e7a1-415f-8371-6efcf1f7773c": {
     "id": "503a41af-e7a1-415f-8371-6efcf1f7773c",
     "prev": "49a00256-8c85-4934-9da0-1fee3faebca0",
     "regions": {
      "6bb0686d-f1c9-4661-ac2c-d22873e64c9d": {
       "attrs": {
        "height": 1,
        "width": 1,
        "x": 0,
        "y": 0
       },
       "content": {
        "cell": "c9ee43ac-0688-4c98-805d-15305a8f4e96",
        "part": "source"
       },
       "id": "6bb0686d-f1c9-4661-ac2c-d22873e64c9d"
      }
     }
    },
    "77a19b23-0141-4213-990a-16581836886f": {
     "id": "77a19b23-0141-4213-990a-16581836886f",
     "prev": "503a41af-e7a1-415f-8371-6efcf1f7773c",
     "regions": {
      "1de83d17-c655-41a9-b4b3-cbb69f852253": {
       "attrs": {
        "height": 1,
        "width": 1,
        "x": 0,
        "y": 0
       },
       "content": {
        "cell": "5e533626-971b-4c0f-a77f-fc7a091105cf",
        "part": "source"
       },
       "id": "1de83d17-c655-41a9-b4b3-cbb69f852253"
      }
     }
    },
    "9b38d5ba-71d4-484a-8783-456938664565": {
     "id": "9b38d5ba-71d4-484a-8783-456938664565",
     "prev": null,
     "regions": {
      "d58a3d64-4fef-4f06-a0c9-28276a70abd6": {
       "attrs": {
        "height": 1,
        "width": 1,
        "x": 0,
        "y": 0
       },
       "id": "d58a3d64-4fef-4f06-a0c9-28276a70abd6"
      },
      "e9bc78b7-1ebb-462f-bfaa-27f5b32a869c": {
       "attrs": {
        "height": 0.8,
        "width": 0.8,
        "x": 0.1,
        "y": 0.1
       },
       "content": {
        "cell": "ce2bdbfa-efaa-47f1-94f6-fa04558f09fc",
        "part": "source"
       },
       "id": "e9bc78b7-1ebb-462f-bfaa-27f5b32a869c"
      }
     }
    }
   },
   "themes": {
    "default": "505f01f4-a905-4d5a-a17d-687296bacaf8",
    "theme": {
     "505f01f4-a905-4d5a-a17d-687296bacaf8": {
      "id": "505f01f4-a905-4d5a-a17d-687296bacaf8",
      "palette": {
       "19cc588f-0593-49c9-9f4b-e4d7cc113b1c": {
        "id": "19cc588f-0593-49c9-9f4b-e4d7cc113b1c",
        "rgb": [
         252,
         252,
         252
        ]
       },
       "31af15d2-7e15-44c5-ab5e-e04b16a89eff": {
        "id": "31af15d2-7e15-44c5-ab5e-e04b16a89eff",
        "rgb": [
         68,
         68,
         68
        ]
       },
       "50f92c45-a630-455b-aec3-788680ec7410": {
        "id": "50f92c45-a630-455b-aec3-788680ec7410",
        "rgb": [
         155,
         177,
         192
        ]
       },
       "c5cc3653-2ee1-402a-aba2-7caae1da4f6c": {
        "id": "c5cc3653-2ee1-402a-aba2-7caae1da4f6c",
        "rgb": [
         43,
         126,
         184
        ]
       },
       "efa7f048-9acb-414c-8b04-a26811511a21": {
        "id": "efa7f048-9acb-414c-8b04-a26811511a21",
        "rgb": [
         25.118061674008803,
         73.60176211453744,
         107.4819383259912
        ]
       }
      },
      "rules": {
       "blockquote": {
        "color": "50f92c45-a630-455b-aec3-788680ec7410"
       },
       "code": {
        "font-family": "Anonymous Pro"
       },
       "h1": {
        "color": "c5cc3653-2ee1-402a-aba2-7caae1da4f6c",
        "font-family": "Lato",
        "font-size": 8
       },
       "h2": {
        "color": "c5cc3653-2ee1-402a-aba2-7caae1da4f6c",
        "font-family": "Lato",
        "font-size": 6
       },
       "h3": {
        "color": "50f92c45-a630-455b-aec3-788680ec7410",
        "font-family": "Lato",
        "font-size": 5.5
       },
       "h4": {
        "color": "c5cc3653-2ee1-402a-aba2-7caae1da4f6c",
        "font-family": "Lato",
        "font-size": 5
       },
       "h5": {
        "font-family": "Lato"
       },
       "h6": {
        "font-family": "Lato"
       },
       "h7": {
        "font-family": "Lato"
       },
       "pre": {
        "font-family": "Anonymous Pro",
        "font-size": 4
       }
      },
      "text-base": {
       "font-family": "Merriweather",
       "font-size": 4
      }
     }
    }
   }
  },
  "toc": {
   "nav_menu": {},
   "number_sections": false,
   "sideBar": true,
   "skip_h1_title": false,
   "toc_cell": false,
   "toc_position": {},
   "toc_section_display": "block",
   "toc_window_display": false
  }
 },
 "nbformat": 4,
 "nbformat_minor": 2
}
