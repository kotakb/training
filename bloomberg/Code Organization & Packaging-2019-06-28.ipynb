{
 "cells": [
  {
   "cell_type": "markdown",
   "metadata": {
    "nbpresent": {
     "id": "ce2bdbfa-efaa-47f1-94f6-fa04558f09fc"
    },
    "slideshow": {
     "slide_type": "slide"
    }
   },
   "source": [
    "# Python Code Organization and Packaging\n",
    "\n",
    "**Naomi Ceder, @naomiceder**\n",
    "\n",
    "- **Chair, Python Software Foundation**\n",
    "- **Quick Python Book, 3rd ed**\n",
    "- **Dick Blick Art Materials**\n",
    "\n",
    "\n",
    "**This notebook will be available for a week at https://github.com/nceder/training/tree/master/bloomberg**\n",
    "\n",
    "**Online sign in - `ATND <GO>`, code VBZXTZ - from email**\n",
    "\n",
    "**or email rbasil@bloomberg.net**\n"
   ]
  },
  {
   "cell_type": "markdown",
   "metadata": {
    "slideshow": {
     "slide_type": "skip"
    }
   },
   "source": [
    "## Description\n",
    "\n",
    "Code Organization in Pyton - covers the important considerations of creating Python modules and packages. Topics will include how to organize your code and common package layout, how packages can account for the differences between Python 2 and Python 3, options for including C extensions, packaging/distribution options, and considerations for participation in open source projects.\n",
    "\n",
    "```\n",
    "Monday\n",
    "- AM: Intermediate Python\n",
    "- PM: Iterators, Generators, Collections\n",
    "\n",
    "Tuesday\n",
    "- AM: Pythonic Coding\n",
    "- PM: Moving to Python 3\n",
    "\n",
    "Wednesday\n",
    "- AM: Data cleaning\n",
    "- PM: Intermediate Python (repeat)\n",
    "\n",
    "Thursday\n",
    "- AM: Moving to Python 3 (repeat)\n",
    "- PM: Debugging Profiling Timing\n",
    "\n",
    "Friday\n",
    "- AM: Code organization and packaging\n",
    "- PM: Pythonic coding (repeat)\n",
    "```"
   ]
  },
  {
   "cell_type": "markdown",
   "metadata": {
    "slideshow": {
     "slide_type": "slide"
    }
   },
   "source": [
    "## Course Assumptions\n",
    "\n",
    "* My course outline is only a general guide\n",
    "* We can be guided by your needs/interests\n",
    "* I need direction on what those are\n",
    "* The more we interact the better the outcome is likely to be"
   ]
  },
  {
   "cell_type": "markdown",
   "metadata": {
    "nbpresent": {
     "id": "77c00728-08d0-4c2d-9e6c-a73cdba1af60"
    },
    "slideshow": {
     "slide_type": "slide"
    }
   },
   "source": [
    "### You\n",
    "\n",
    "* What do you do?\n",
    "* What coding experience do you have?\n",
    "* What are your repetitive hassles and time sinks?\n",
    "* What problems do you want/hope to solve with code?"
   ]
  },
  {
   "cell_type": "markdown",
   "metadata": {
    "nbpresent": {
     "id": "c9ee43ac-0688-4c98-805d-15305a8f4e96"
    },
    "slideshow": {
     "slide_type": "slide"
    }
   },
   "source": [
    "### What we'll do\n",
    "\n",
    "* Introduction\n",
    "* Python and dependencies\n",
    "* Module vs. Package \n",
    "* Modules and importing under the hood\n",
    "* Multi-file Packages\n",
    "* Zip file packages\n"
   ]
  },
  {
   "cell_type": "markdown",
   "metadata": {
    "slideshow": {
     "slide_type": "skip"
    }
   },
   "source": [
    "## Python 3 vs Python 2\n",
    "### Friends don't let friends use Python 2\n",
    "\n",
    "I'm going to be using Python 3, but if you're using Python 2, you should be okay if you do the following:\n",
    "1. `from __future__ import print_function` - `print` becomes a function, requires ()\n",
    "2. `from __future__ import division` - `/` is no longer integer division and will return a `real`\n",
    "3. use \"new style\" classes, i.e., `class my_class(object)`\n",
    "\n",
    "Other key differences will be pointed out as they arise.\n"
   ]
  },
  {
   "cell_type": "code",
   "execution_count": null,
   "metadata": {
    "slideshow": {
     "slide_type": "skip"
    }
   },
   "outputs": [],
   "source": [
    "from __future__ import print_function\n",
    "from __future__ import division"
   ]
  },
  {
   "cell_type": "markdown",
   "metadata": {
    "slideshow": {
     "slide_type": "slide"
    }
   },
   "source": [
    "## Managing dependencies\n",
    "\n",
    "* Variety of packages - versions, dependencies, etc\n",
    "* Issues with Python package management\n",
    "* Need to keep system environment different from dev and application"
   ]
  },
  {
   "cell_type": "markdown",
   "metadata": {
    "slideshow": {
     "slide_type": "slide"
    }
   },
   "source": [
    "### Pip \n",
    "\n",
    "* Based on setuptools, easy_install, included in current Python 2 and 3\n",
    "* Installs a package from PyPI, Github, local dir - `pip install requests`\n",
    "* Also can read/generate list of dependencies in a requirements.txt file.\n",
    "* [PyPI](https://pypi.python.org/pypi) or in the future, [the Warehouse](https://pypi.org/)\n",
    "* Can install/manage dependencies, including versions\n",
    "* See also [Pip-tools](https://github.com/jazzband/pip-tools) for managing versions, etc"
   ]
  },
  {
   "cell_type": "code",
   "execution_count": null,
   "metadata": {
    "slideshow": {
     "slide_type": "slide"
    }
   },
   "outputs": [],
   "source": [
    "# pip installation if not in Python, nor in system package manager\n",
    "$ curl https://bootstrap.pypa.io/get-pip.py | python"
   ]
  },
  {
   "cell_type": "markdown",
   "metadata": {
    "slideshow": {
     "slide_type": "slide"
    }
   },
   "source": [
    "#### pip install package\n",
    "```\n",
    "$ pip install requests\n",
    "```\n",
    "\n",
    "#### pip install from current directory\n",
    "\n",
    "```\n",
    "$ pip install .\n",
    "or \n",
    "$ pip istall -e .    (editable, changes in package will be reflected in environment)\n",
    "\n",
    "\n",
    "```\n",
    "\n",
    "#### pip install from requirements file\n",
    "```\n",
    "$ pip install -r requirements.txt\n",
    "```\n",
    "\n",
    "#### pip install from git repo\n",
    "```\n",
    "$ pip install git+<URL of repo/branch/etc>\n",
    "```\n",
    "\n",
    "**or for development**\n",
    "\n",
    "```\n",
    "$ git clone <URL of repo/branch/etc>\n",
    "$ pip istall -e .\n",
    "```\n"
   ]
  },
  {
   "cell_type": "markdown",
   "metadata": {
    "collapsed": true,
    "slideshow": {
     "slide_type": "slide"
    }
   },
   "source": [
    "```\n",
    "$ pip install -r packaging/requirements.txt \n",
    "Collecting requests (from -r packaging/requirements.txt (line 1))\n",
    "  Using cached requests-2.18.4-py2.py3-none-any.whl\n",
    "Collecting idna<2.7,>=2.5 (from requests->-r packaging/requirements.txt (line 1))\n",
    "  Using cached idna-2.6-py2.py3-none-any.whl\n",
    "Collecting certifi>=2017.4.17 (from requests->-r packaging/requirements.txt (line 1))\n",
    "  Using cached certifi-2017.7.27.1-py2.py3-none-any.whl\n",
    "Collecting chardet<3.1.0,>=3.0.2 (from requests->-r packaging/requirements.txt (line 1))\n",
    "  Using cached chardet-3.0.4-py2.py3-none-any.whl\n",
    "Collecting urllib3<1.23,>=1.21.1 (from requests->-r packaging/requirements.txt (line 1))\n",
    "  Using cached urllib3-1.22-py2.py3-none-any.whl\n",
    "Installing collected packages: idna, certifi, chardet, urllib3, requests\n",
    "Successfully installed certifi-2017.7.27.1 chardet-3.0.4 idna-2.6 requests-2.18.4 urllib3-1.22\n",
    "```"
   ]
  },
  {
   "cell_type": "markdown",
   "metadata": {
    "collapsed": true,
    "slideshow": {
     "slide_type": "slide"
    }
   },
   "source": [
    "```\n",
    "$ pip freeze\n",
    "certifi==2017.7.27.1\n",
    "chardet==3.0.4\n",
    "idna==2.6\n",
    "requests==2.18.4\n",
    "urllib3==1.22\n",
    "```"
   ]
  },
  {
   "cell_type": "markdown",
   "metadata": {
    "slideshow": {
     "slide_type": "slide"
    }
   },
   "source": [
    "### Virtual environments\n",
    "\n",
    "Before we get started, it's a good idea to use virtual environments.\n",
    "\n",
    "* create separate environments for different interpreters, e.g., Python 2.7, Python 3.5, Python 3.6\n",
    "* keep dependencies, library versions, etc separate\n",
    "* part of Python 3, but install virtualenv package for Bloomberg\n",
    "\n",
    "```\n",
    "$ python3 -m venv my_project \n",
    "\n",
    "```\n",
    "\n",
    "or at Bloomberg\n",
    "\n",
    "```\n",
    "$ virtualenv -p python3 my_project\n",
    "$ source my_project/bin/activate\n",
    "$ pip install <packages>\n",
    "... work on stuff...\n",
    "$ deactivate\n",
    "```\n",
    "Save packages for an environment:\n",
    "\n",
    "    $ pip freeze > requirements.txt\n",
    "\n",
    "Install saved requirements:\n",
    "\n",
    "    $ pip install -r requirements.txt"
   ]
  },
  {
   "cell_type": "markdown",
   "metadata": {
    "slideshow": {
     "slide_type": "skip"
    }
   },
   "source": [
    "### Python 2.7 differences\n",
    "\n",
    "* basic package is [virtualenv](https://pypi.python.org/pypi/virtualenv) (now a part of Python 3.6)\n",
    "\n",
    "```\n",
    "$ virtualenv -p python2.7 my_project     # install as separate package\n",
    "```\n"
   ]
  },
  {
   "cell_type": "markdown",
   "metadata": {
    "slideshow": {
     "slide_type": "slide"
    }
   },
   "source": [
    "### virtualenv wrapper\n",
    "\n",
    "To make using virtual envs easier, you might want to use [virtualenvwrapper](https://virtualenvwrapper.readthedocs.io/en/latest/index.html)\n",
    "\n",
    "```\n",
    "$ mkvirtualenv my_project # creates env inside $WORKON_HOME\n",
    "(or)\n",
    "$ mkproject myproject     # creates env and project directory inside $PROJECT_HOME, workon will cd there\n",
    "$ workon myproject        # activates env (and if created with mkproject, cd's to project dir\n",
    "$ deactivate              # works the same as with virtualenv\n",
    "```"
   ]
  },
  {
   "cell_type": "markdown",
   "metadata": {
    "slideshow": {
     "slide_type": "slide"
    }
   },
   "source": [
    "### pipenv\n",
    "\n",
    "https://docs.pipenv.org/\n",
    "\n",
    "* Combines pip and virtualenv\n",
    "* Simplified workflow for developers\n",
    "\n",
    "#### Caveats\n",
    "\n",
    "* Opinionated - not for everyone\n",
    "* Not quite mature\n",
    "* Intended for *applications*, not *libraries*\n",
    "* also see https://chriswarrick.com/blog/2018/07/17/pipenv-promises-a-lot-delivers-very-little/ for more on pipenv"
   ]
  },
  {
   "cell_type": "markdown",
   "metadata": {
    "slideshow": {
     "slide_type": "slide"
    }
   },
   "source": [
    "```\n",
    "$ pip install --user pipenv        # install pipenv for user one time only\n",
    "\n",
    "$ cd myproject                     # change to project directory\n",
    "$ pipenv install requests          # install a library into THIS project only\n",
    "$ pipenv run python mymodule.py    # run a script in this project environment\n",
    "$ pipenv shell                     # run a shell in this environment\n",
    "```"
   ]
  },
  {
   "cell_type": "markdown",
   "metadata": {
    "slideshow": {
     "slide_type": "slide"
    }
   },
   "source": [
    "## Basic importing\n",
    "\n",
    "* a module is some Python code in a file\n",
    "* importing the module executes that code\n",
    "* ImportError if name can't be found/imported\n",
    "* namespaces - dictionaries of what bindings are in a scope\n",
    "* import x brings in x's global(module) namespace \n",
    "* that namespace is bound in the current namespace and in sys.modules[`<modulename>`]\n",
    "* import as binds module namespace to different name"
   ]
  },
  {
   "cell_type": "code",
   "execution_count": 2,
   "metadata": {
    "slideshow": {
     "slide_type": "slide"
    }
   },
   "outputs": [
    {
     "name": "stdout",
     "output_type": "stream",
     "text": [
      "['In', 'Out', '_', '__', '___', '__builtin__', '__builtins__', '__doc__', '__loader__', '__name__', '__package__', '__spec__', '_dh', '_i', '_i1', '_i2', '_ih', '_ii', '_iii', '_oh', 'black', 'csv', 'exit', 'get_ipython', 'quit']\n"
     ]
    }
   ],
   "source": [
    "import csv\n",
    "print(dir())"
   ]
  },
  {
   "cell_type": "code",
   "execution_count": 3,
   "metadata": {
    "slideshow": {
     "slide_type": "fragment"
    }
   },
   "outputs": [
    {
     "name": "stdout",
     "output_type": "stream",
     "text": [
      "['In', 'Out', '_', '__', '___', '__builtin__', '__builtins__', '__doc__', '__loader__', '__name__', '__package__', '__spec__', '_dh', '_i', '_i1', '_i2', '_i3', '_ih', '_ii', '_iii', '_oh', 'black', 'c', 'csv', 'exit', 'get_ipython', 'quit']\n"
     ]
    }
   ],
   "source": [
    "#del csv\n",
    "import csv as c\n",
    "print(dir() )"
   ]
  },
  {
   "cell_type": "code",
   "execution_count": 4,
   "metadata": {
    "scrolled": true,
    "slideshow": {
     "slide_type": "slide"
    }
   },
   "outputs": [
    {
     "name": "stdout",
     "output_type": "stream",
     "text": [
      "['csv']\n",
      "['In', 'Out', '_', '__', '___', '__builtin__', '__builtins__', '__doc__', '__loader__', '__name__', '__package__', '__spec__', '_dh', '_i', '_i1', '_i2', '_i3', '_i4', '_ih', '_ii', '_iii', '_oh', 'black', 'c', 'exit', 'get_ipython', 'quit', 'test']\n"
     ]
    }
   ],
   "source": [
    "# imports are into the current scope\n",
    "import csv\n",
    "def test():\n",
    "    import csv\n",
    "    print(dir())\n",
    "\n",
    "del csv\n",
    "test()\n",
    "print(dir())"
   ]
  },
  {
   "cell_type": "code",
   "execution_count": 5,
   "metadata": {
    "slideshow": {
     "slide_type": "slide"
    }
   },
   "outputs": [
    {
     "name": "stdout",
     "output_type": "stream",
     "text": [
      "['In', 'Out', '_', '__', '___', '__builtin__', '__builtins__', '__doc__', '__loader__', '__name__', '__package__', '__spec__', '_dh', '_i', '_i1', '_i2', '_i3', '_i4', '_i5', '_ih', '_ii', '_iii', '_oh', 'black', 'c', 'exit', 'foo', 'get_ipython', 'quit', 'test']\n",
      "\n",
      "Foo's __dict__\n",
      " {'__module__': '__main__', 'csv': <module 'csv' from '/usr/lib/python3.7/csv.py'>, '__dict__': <attribute '__dict__' of 'foo' objects>, '__weakref__': <attribute '__weakref__' of 'foo' objects>, '__doc__': None}\n",
      "['', '/home/naomi/Dropbox/bloomberg', '/usr/lib/python37.zip', '/usr/lib/python3.7', '/usr/lib/python3.7/lib-dynload', '/home/naomi/.virtualenvs/jupyter3.7/lib/python3.7/site-packages', '/home/naomi/.virtualenvs/jupyter3.7/lib/python3.7/site-packages/IPython/extensions', '/home/naomi/.ipython']\n"
     ]
    }
   ],
   "source": [
    "class foo:\n",
    "    import csv\n",
    "    pass\n",
    "\n",
    "\n",
    "print(dir())\n",
    "\n",
    "print(\"\\nFoo's __dict__\\n\", foo.__dict__)\n",
    "import sys\n",
    "print(sys.path)"
   ]
  },
  {
   "cell_type": "markdown",
   "metadata": {
    "slideshow": {
     "slide_type": "slide"
    }
   },
   "source": [
    "### sys.path\n",
    "\n",
    "* a list of directories Python searches in order for modules/packages\n",
    "* set by PYTHONPATH env variable at startup or programmatically"
   ]
  },
  {
   "cell_type": "code",
   "execution_count": 6,
   "metadata": {
    "slideshow": {
     "slide_type": "fragment"
    }
   },
   "outputs": [
    {
     "data": {
      "text/plain": [
       "['',\n",
       " '/home/naomi/Dropbox/bloomberg',\n",
       " '/usr/lib/python37.zip',\n",
       " '/usr/lib/python3.7',\n",
       " '/usr/lib/python3.7/lib-dynload',\n",
       " '/home/naomi/.virtualenvs/jupyter3.7/lib/python3.7/site-packages',\n",
       " '/home/naomi/.virtualenvs/jupyter3.7/lib/python3.7/site-packages/IPython/extensions',\n",
       " '/home/naomi/.ipython']"
      ]
     },
     "execution_count": 6,
     "metadata": {},
     "output_type": "execute_result"
    }
   ],
   "source": [
    "import sys \n",
    "sys.path"
   ]
  },
  {
   "cell_type": "markdown",
   "metadata": {
    "slideshow": {
     "slide_type": "slide"
    }
   },
   "source": [
    "### sys.modules\n",
    "\n",
    "* dictionary of imported modules\n",
    "* if module is in sys.modules, it's immediately used\n",
    "* code is only executed the first time it's imported\n",
    "* module's namespace is accessible to importing module\n",
    "\n",
    "```\n",
    ">>> import sys\n",
    ">>> print(sys.modules.keys())\n",
    "```"
   ]
  },
  {
   "cell_type": "markdown",
   "metadata": {
    "slideshow": {
     "slide_type": "slide"
    }
   },
   "source": [
    "### if not in sys.modules\n",
    "\n",
    "* interpreter locates module's .py file\n",
    "* looks for compiled .pyc file\n",
    "* if .pyc if found, it's used if newer\n",
    "* else module is recompiled to create new .pyc file and loaded"
   ]
  },
  {
   "cell_type": "markdown",
   "metadata": {
    "slideshow": {
     "slide_type": "slide"
    }
   },
   "source": [
    "### From x import y, z\n",
    "\n",
    "* module is imported\n",
    "* specific names are copied to importing namespace\n",
    "* imported module's namespace is not bound in importing namespace\n",
    "* if module rebinds a name, this does not change the binding in the importing namespace"
   ]
  },
  {
   "cell_type": "code",
   "execution_count": 8,
   "metadata": {
    "slideshow": {
     "slide_type": "fragment"
    }
   },
   "outputs": [
    {
     "name": "stdout",
     "output_type": "stream",
     "text": [
      "['In', 'Out', '_', '_6', '__', '___', '__builtin__', '__builtins__', '__doc__', '__loader__', '__name__', '__package__', '__spec__', '_dh', '_i', '_i1', '_i2', '_i3', '_i4', '_i5', '_i6', '_i7', '_i8', '_ih', '_ii', '_iii', '_oh', 'black', 'c', 'cos', 'exit', 'foo', 'get_ipython', 'quit', 'sys', 'test']\n",
      "cmath\n"
     ]
    }
   ],
   "source": [
    "from math import cos\n",
    "#print(dir())\n",
    "#print(cos.__module__)\n",
    "#print\n",
    "from cmath import cos\n",
    "print(dir())\n",
    "print(cos.__module__)\n",
    "\n",
    "\n"
   ]
  },
  {
   "cell_type": "markdown",
   "metadata": {
    "slideshow": {
     "slide_type": "slide"
    }
   },
   "source": [
    "## importlib — The implementation of import\n",
    "\n",
    "Documentation at https://docs.python.org/3/library/importlib.html"
   ]
  },
  {
   "cell_type": "markdown",
   "metadata": {
    "slideshow": {
     "slide_type": "slide"
    }
   },
   "source": [
    "### `importlib.import_module(name, package=None)`\n",
    "\n",
    "Imports a module. `name` can be relative, but if so, then package must be set.\n"
   ]
  },
  {
   "cell_type": "code",
   "execution_count": 9,
   "metadata": {
    "slideshow": {
     "slide_type": "fragment"
    }
   },
   "outputs": [
    {
     "data": {
      "text/plain": [
       "['In',\n",
       " 'Out',\n",
       " '_',\n",
       " '_6',\n",
       " '__',\n",
       " '___',\n",
       " '__builtin__',\n",
       " '__builtins__',\n",
       " '__doc__',\n",
       " '__loader__',\n",
       " '__name__',\n",
       " '__package__',\n",
       " '__spec__',\n",
       " '_dh',\n",
       " '_i',\n",
       " '_i1',\n",
       " '_i2',\n",
       " '_i3',\n",
       " '_i4',\n",
       " '_i5',\n",
       " '_i6',\n",
       " '_i7',\n",
       " '_i8',\n",
       " '_i9',\n",
       " '_ih',\n",
       " '_ii',\n",
       " '_iii',\n",
       " '_oh',\n",
       " 'black',\n",
       " 'c',\n",
       " 'cos',\n",
       " 'exit',\n",
       " 'foo',\n",
       " 'get_ipython',\n",
       " 'importlib',\n",
       " 'json_mod',\n",
       " 'quit',\n",
       " 'sys',\n",
       " 'test']"
      ]
     },
     "execution_count": 9,
     "metadata": {},
     "output_type": "execute_result"
    }
   ],
   "source": [
    "import importlib\n",
    "\n",
    "json_mod = importlib.import_module('json')\n",
    "json_mod\n",
    "dir()"
   ]
  },
  {
   "cell_type": "code",
   "execution_count": 10,
   "metadata": {
    "slideshow": {
     "slide_type": "slide"
    }
   },
   "outputs": [
    {
     "data": {
      "text/plain": [
       "['JSONDecodeError',\n",
       " 'JSONDecoder',\n",
       " 'JSONEncoder',\n",
       " '__all__',\n",
       " '__author__',\n",
       " '__builtins__',\n",
       " '__cached__',\n",
       " '__doc__',\n",
       " '__file__',\n",
       " '__loader__',\n",
       " '__name__',\n",
       " '__package__',\n",
       " '__path__',\n",
       " '__spec__',\n",
       " '__version__',\n",
       " '_default_decoder',\n",
       " '_default_encoder',\n",
       " 'codecs',\n",
       " 'decoder',\n",
       " 'detect_encoding',\n",
       " 'dump',\n",
       " 'dumps',\n",
       " 'encoder',\n",
       " 'load',\n",
       " 'loads',\n",
       " 'scanner']"
      ]
     },
     "execution_count": 10,
     "metadata": {},
     "output_type": "execute_result"
    }
   ],
   "source": [
    "dir(json_mod)"
   ]
  },
  {
   "cell_type": "markdown",
   "metadata": {
    "slideshow": {
     "slide_type": "slide"
    }
   },
   "source": [
    "### `importlib.invalidate_caches()`\n",
    "\n",
    "\n",
    "This function should be called if any modules are created/installed while your program is running to guarantee all finders will notice the new module’s existence."
   ]
  },
  {
   "cell_type": "markdown",
   "metadata": {
    "slideshow": {
     "slide_type": "slide"
    }
   },
   "source": [
    "### `importlib.reload(module)`\n",
    "\n",
    "Reload a previously imported module. The argument must be a module object, so it must have been successfully imported before.\n"
   ]
  },
  {
   "cell_type": "code",
   "execution_count": 13,
   "metadata": {
    "slideshow": {
     "slide_type": "fragment"
    }
   },
   "outputs": [
    {
     "data": {
      "text/plain": [
       "<module 'json' from '/usr/lib/python3.7/json/__init__.py'>"
      ]
     },
     "execution_count": 13,
     "metadata": {},
     "output_type": "execute_result"
    }
   ],
   "source": [
    "importlib.reload(json_mod)"
   ]
  },
  {
   "cell_type": "code",
   "execution_count": 14,
   "metadata": {
    "slideshow": {
     "slide_type": "fragment"
    }
   },
   "outputs": [
    {
     "ename": "NameError",
     "evalue": "name 'csv' is not defined",
     "output_type": "error",
     "traceback": [
      "\u001b[0;31m---------------------------------------------------------------------------\u001b[0m",
      "\u001b[0;31mNameError\u001b[0m                                 Traceback (most recent call last)",
      "\u001b[0;32m<ipython-input-14-573cdccff118>\u001b[0m in \u001b[0;36m<module>\u001b[0;34m()\u001b[0m\n\u001b[0;32m----> 1\u001b[0;31m \u001b[0mimportlib\u001b[0m\u001b[0;34m.\u001b[0m\u001b[0mreload\u001b[0m\u001b[0;34m(\u001b[0m\u001b[0mcsv\u001b[0m\u001b[0;34m)\u001b[0m\u001b[0;34m\u001b[0m\u001b[0;34m\u001b[0m\u001b[0m\n\u001b[0m",
      "\u001b[0;31mNameError\u001b[0m: name 'csv' is not defined"
     ]
    }
   ],
   "source": [
    "importlib.reload(csv)"
   ]
  },
  {
   "cell_type": "markdown",
   "metadata": {
    "slideshow": {
     "slide_type": "slide"
    }
   },
   "source": [
    "## Single file module\n",
    "\n",
    "* at least one function or class\n",
    "* possibly a `__main__` / main() structure\n",
    "\n",
    "**(remember, the code gets executed when loaded)**"
   ]
  },
  {
   "cell_type": "code",
   "execution_count": null,
   "metadata": {
    "slideshow": {
     "slide_type": "slide"
    }
   },
   "outputs": [],
   "source": [
    "\"\"\"\n",
    "   mymodule.py\n",
    "\n",
    "   This would explain what my module does and how to use it.\n",
    " \n",
    "   by me, 2017-09-09\n",
    "\"\"\"\n",
    "\n",
    "import sys\n",
    "\n",
    "\n",
    "def the_function(parameter):\n",
    "    \"\"\" this function prints the parameter \"\"\"\n",
    "\n",
    "    print(parameter)\n",
    "\n",
    "\n",
    "def main():\n",
    "    \"\"\"this function will be called if the module is run as ma in \"\"\"\n",
    "\n",
    "    param = \"no param\" \n",
    "    if len(sys.argv) > 1:\n",
    "        param = sys.argv[1]\n",
    "\n",
    "    the_function(param)\n",
    "\n",
    "\n",
    "if __name__ == '__main__':\n",
    "    main()\n"
   ]
  },
  {
   "cell_type": "code",
   "execution_count": 15,
   "metadata": {
    "slideshow": {
     "slide_type": "slide"
    }
   },
   "outputs": [
    {
     "name": "stdout",
     "output_type": "stream",
     "text": [
      "test\n",
      "no param\n",
      "test\n",
      "no param\n"
     ]
    }
   ],
   "source": [
    "! python mymodule.py test\n",
    "! python mymodule.py\n",
    " \n",
    "! python  -m mymodule test\n",
    "! python -m mymodule\n"
   ]
  },
  {
   "cell_type": "markdown",
   "metadata": {
    "slideshow": {
     "slide_type": "slide"
    }
   },
   "source": [
    "#### Notes\n",
    "\n",
    "* Can be called using `python -m <module name>`, thanks to the `__main__` bit.\n",
    "* This pattern is pretty limited, not used much professionally.\n",
    "* No documentation, no license, no tests, etc"
   ]
  },
  {
   "cell_type": "markdown",
   "metadata": {
    "slideshow": {
     "slide_type": "slide"
    }
   },
   "source": [
    "## Multiple file packages\n",
    "\n",
    "* When a single file is rarely enough\n",
    "* Need to include separate test files\n",
    "* Need to break files into smaller units"
   ]
  },
  {
   "cell_type": "markdown",
   "metadata": {
    "slideshow": {
     "slide_type": "slide"
    }
   },
   "source": [
    "### Simplest Python Package Structure\n",
    "\n",
    "```\n",
    "./mypackage/\n",
    "    __init__.py  \n",
    "    mymodule.py       \n",
    "```\n",
    "\n",
    "* `__init__.py` can be (often is) empty, but can contain Python code executed when package is loaded.\n"
   ]
  },
  {
   "cell_type": "code",
   "execution_count": 16,
   "metadata": {
    "slideshow": {
     "slide_type": "slide"
    }
   },
   "outputs": [
    {
     "ename": "ModuleNotFoundError",
     "evalue": "No module named 'mypackage_00'",
     "output_type": "error",
     "traceback": [
      "\u001b[0;31m---------------------------------------------------------------------------\u001b[0m",
      "\u001b[0;31mModuleNotFoundError\u001b[0m                       Traceback (most recent call last)",
      "\u001b[0;32m<ipython-input-16-db00cbeb0bb2>\u001b[0m in \u001b[0;36m<module>\u001b[0;34m()\u001b[0m\n\u001b[0;32m----> 1\u001b[0;31m \u001b[0;32mimport\u001b[0m \u001b[0mmypackage_00\u001b[0m\u001b[0;34m\u001b[0m\u001b[0;34m\u001b[0m\u001b[0m\n\u001b[0m\u001b[1;32m      2\u001b[0m \u001b[0mdir\u001b[0m\u001b[0;34m(\u001b[0m\u001b[0;34m)\u001b[0m\u001b[0;34m\u001b[0m\u001b[0;34m\u001b[0m\u001b[0m\n\u001b[1;32m      3\u001b[0m \u001b[0;34m[\u001b[0m\u001b[0;34m'__builtins__'\u001b[0m\u001b[0;34m,\u001b[0m \u001b[0;34m'__doc__'\u001b[0m\u001b[0;34m,\u001b[0m \u001b[0;34m'__name__'\u001b[0m\u001b[0;34m,\u001b[0m \u001b[0;34m'__package__'\u001b[0m\u001b[0;34m,\u001b[0m \u001b[0;34m'mypackage_00'\u001b[0m\u001b[0;34m]\u001b[0m\u001b[0;34m\u001b[0m\u001b[0;34m\u001b[0m\u001b[0m\n\u001b[1;32m      4\u001b[0m \u001b[0mdir\u001b[0m\u001b[0;34m(\u001b[0m\u001b[0mmypackage_00\u001b[0m\u001b[0;34m)\u001b[0m\u001b[0;34m\u001b[0m\u001b[0;34m\u001b[0m\u001b[0m\n\u001b[1;32m      5\u001b[0m \u001b[0;34m[\u001b[0m\u001b[0;34m'__builtins__'\u001b[0m\u001b[0;34m,\u001b[0m \u001b[0;34m'__doc__'\u001b[0m\u001b[0;34m,\u001b[0m \u001b[0;34m'__file__'\u001b[0m\u001b[0;34m,\u001b[0m \u001b[0;34m'__name__'\u001b[0m\u001b[0;34m,\u001b[0m \u001b[0;34m'__package__'\u001b[0m\u001b[0;34m,\u001b[0m \u001b[0;34m'__path__'\u001b[0m\u001b[0;34m]\u001b[0m\u001b[0;34m\u001b[0m\u001b[0;34m\u001b[0m\u001b[0m\n",
      "\u001b[0;31mModuleNotFoundError\u001b[0m: No module named 'mypackage_00'"
     ]
    }
   ],
   "source": [
    ">>>\n",
    ">>> dir()\n",
    "['__builtins__', '__doc__', '__name__', '__package__', 'mypackage_00']\n",
    ">>> dir(mypackage_00)\n",
    "['__builtins__', '__doc__', '__file__', '__name__', '__package__', '__path__']\n",
    ">>> import mypackage_00.mymodule\n",
    ">>> dir(mypackage_00)\n",
    "['__builtins__', '__doc__ ', '__file__', '__name__', '__package__', '__path__', 'mymodule']\n",
    ">>> dir(mypackage_00.mymodule)\n",
    "['__builtins__', '__doc__', '__file__', '__name__', '__package__', 'main', 'sys', 'the_function']\n"
   ]
  },
  {
   "cell_type": "code",
   "execution_count": null,
   "metadata": {
    "slideshow": {
     "slide_type": "slide"
    }
   },
   "outputs": [],
   "source": [
    "naomi@naomi-UX330UAK:~/bloomberg/source/packaging$ python mypackage_00/mymodule.py\n",
    "no param\n",
    "naomi@naomi-UX330UAK:~/bloomberg/source/packaging$ python -m mypackage_00.mymodule\n",
    "no param\n",
    "naomi@naomi-UX330UAK:~/bloomberg/source/packaging$ python -m mypackage_00\n",
    "/usr/bin/python: No module named mypackage_00.__main__; 'mypackage_00' is a package and cannot be directly executed\n"
   ]
  },
  {
   "cell_type": "markdown",
   "metadata": {
    "slideshow": {
     "slide_type": "slide"
    }
   },
   "source": [
    "### Using `__init__.py` and `__main__.py`\n",
    "\n",
    "* `__init__.py` runs when the package loads, can import modules\n",
    "* any bindings resulting from running `__init__.py` are bound to package namespace\n",
    "* sub-modules can also be imported\n",
    "* single underscore visibility\n",
    "* `__all__`\n",
    "\n",
    "* `__main__.py` runs when called with `python -m`\n"
   ]
  },
  {
   "cell_type": "code",
   "execution_count": 17,
   "metadata": {
    "slideshow": {
     "slide_type": "slide"
    }
   },
   "outputs": [
    {
     "ename": "ImportError",
     "evalue": "cannot import name 'mymodule' from '__main__' (unknown location)",
     "output_type": "error",
     "traceback": [
      "\u001b[0;31m---------------------------------------------------------------------------\u001b[0m",
      "\u001b[0;31mImportError\u001b[0m                               Traceback (most recent call last)",
      "\u001b[0;32m<ipython-input-17-ea81a355bf7a>\u001b[0m in \u001b[0;36m<module>\u001b[0;34m()\u001b[0m\n\u001b[1;32m      1\u001b[0m \u001b[0;31m# contents of __init__.py\u001b[0m\u001b[0;34m\u001b[0m\u001b[0;34m\u001b[0m\u001b[0;34m\u001b[0m\u001b[0m\n\u001b[1;32m      2\u001b[0m \u001b[0;34m\u001b[0m\u001b[0m\n\u001b[0;32m----> 3\u001b[0;31m \u001b[0;32mfrom\u001b[0m \u001b[0;34m.\u001b[0m \u001b[0;32mimport\u001b[0m \u001b[0mmymodule\u001b[0m\u001b[0;34m\u001b[0m\u001b[0;34m\u001b[0m\u001b[0m\n\u001b[0m",
      "\u001b[0;31mImportError\u001b[0m: cannot import name 'mymodule' from '__main__' (unknown location)"
     ]
    }
   ],
   "source": [
    "# contents of __init__.py\n",
    "\n",
    "from . import mymodule"
   ]
  },
  {
   "cell_type": "code",
   "execution_count": null,
   "metadata": {
    "slideshow": {
     "slide_type": "fragment"
    }
   },
   "outputs": [],
   "source": [
    ">>> import mypackage_01\n",
    ">>> dir()\n",
    "['__builtins__', '__doc__', '__name__', '__package__', 'mypackage_01']\n",
    ">>> dir(mypackage_01)\n",
    "['__builtins__', '__doc__', '__file__', '__name__', '__package__', '__path__', 'mymodule']\n"
   ]
  },
  {
   "cell_type": "code",
   "execution_count": null,
   "metadata": {
    "slideshow": {
     "slide_type": "slide"
    }
   },
   "outputs": [],
   "source": [
    "# contents of __init__.py\n",
    "__all__ = ['mymodule']\n",
    "\n",
    "from . import mymodule"
   ]
  },
  {
   "cell_type": "markdown",
   "metadata": {
    "slideshow": {
     "slide_type": "slide"
    }
   },
   "source": [
    "#### Using `__all__` \n",
    "```\n",
    "\n",
    ">>> from mypackage_01 import *    # only what is listed in the __all__ property imports\n",
    ">>> dir()\n",
    "['__builtins__', '__doc__', '__name__', '__package__', 'mymodule']\n",
    "```"
   ]
  },
  {
   "cell_type": "code",
   "execution_count": null,
   "metadata": {
    "slideshow": {
     "slide_type": "slide"
    }
   },
   "outputs": [],
   "source": [
    "# contents of __main__.py\n",
    "\n",
    "import sys\n",
    "from . import mymodule\n",
    " \n",
    "def main():\n",
    "    \"\"\"this function will be called if the module is run as main \"\"\"\n",
    "\n",
    "    param = \"no param\"\n",
    "    if len(sys.argv) > 1:\n",
    "        param = sys.argv[1]\n",
    "\n",
    "    mymodule.the_function(param)\n",
    "\n",
    "\n",
    "if __name__ == '__main__':\n",
    "    main() \n",
    " "
   ]
  },
  {
   "cell_type": "code",
   "execution_count": 18,
   "metadata": {
    "slideshow": {
     "slide_type": "fragment"
    }
   },
   "outputs": [
    {
     "ename": "SyntaxError",
     "evalue": "invalid syntax (<ipython-input-18-d323eab51065>, line 1)",
     "output_type": "error",
     "traceback": [
      "\u001b[0;36m  File \u001b[0;32m\"<ipython-input-18-d323eab51065>\"\u001b[0;36m, line \u001b[0;32m1\u001b[0m\n\u001b[0;31m    naomi@naomi-UX330UAK:~/bloomberg/source/packaging$ python -m mypackage_01\u001b[0m\n\u001b[0m                          ^\u001b[0m\n\u001b[0;31mSyntaxError\u001b[0m\u001b[0;31m:\u001b[0m invalid syntax\n"
     ]
    }
   ],
   "source": [
    "naomi@naomi-UX330UAK:~/bloomberg/source/packaging$ python -m mypackage_01\n",
    "no param "
   ]
  },
  {
   "cell_type": "markdown",
   "metadata": {
    "slideshow": {
     "slide_type": "slide"
    }
   },
   "source": [
    "## Exercise - Create a simple package\n",
    "\n",
    "Create a package along the lines discussed above. It doesn't need to do much, maybe just printing out which file is being loaded. It should have at least an `__init__.py`, a `__main__.py`, and one module.\n",
    "\n",
    "Make sure you can import and execute the code in your module, both using imports, and using the -m commandline switch.\n"
   ]
  },
  {
   "cell_type": "markdown",
   "metadata": {
    "slideshow": {
     "slide_type": "slide"
    }
   },
   "source": [
    "### Packages need more than code\n",
    "\n",
    "* Documentation\n",
    "* Tests\n",
    "* Dependencies\n",
    "* Setup code"
   ]
  },
  {
   "cell_type": "markdown",
   "metadata": {
    "collapsed": true,
    "slideshow": {
     "slide_type": "slide"
    }
   },
   "source": [
    "## Basic code structure\n",
    "\n",
    "Depending on the situation packages could need:\n",
    "\n",
    "1. a directory to hold all of your project\n",
    "   * `mypackage/ or MyPackage/`\n",
    "2. a directory for the code, also called mypackage (single file okay instead) \n",
    "   * `mypackage/ or mymodule.py\n",
    "2. a README.rst file to explain the package (user reST format)\n",
    "3. a license file - LICENSE\n",
    "4. a setup.py file \n",
    "5. requirements.txt for the requirements for pip\n",
    "5. dev-requirements.txt for the requirements for tests, local dev\n",
    "6. a Makefile - targets for clean, test, etc\n",
    "8. a tests/ folder\n",
    "9. a docs/ folder\n"
   ]
  },
  {
   "cell_type": "markdown",
   "metadata": {
    "slideshow": {
     "slide_type": "slide"
    }
   },
   "source": [
    "## Fuller format - pip installable\n",
    "\n",
    "```\n",
    "./mypackage/                     \n",
    "           mypackage/            \n",
    "                    mymodule.py  \n",
    "                    __init__.py  \n",
    "           setup.py              \n",
    "           requirements.txt\n",
    "           dev-requirements.txt\n",
    "           README.rst            \n",
    "           MANIFEST.in            \n",
    "           tests/\n",
    "                 test_mymodule.py\n",
    "           docs/\n",
    "                mypackage_docs.rst\n",
    "           Makefile\n",
    "           \n",
    "```"
   ]
  },
  {
   "cell_type": "code",
   "execution_count": null,
   "metadata": {
    "slideshow": {
     "slide_type": "slide"
    }
   },
   "outputs": [],
   "source": [
    "# setup.py\n",
    "\n",
    "from setuptools import setup\n",
    "\n",
    "setup(name='mypackage_02',\n",
    "      version='0.1',\n",
    "      description=\"Doesn't do much, actually\",\n",
    "      url='https://github.com/mypackage',\n",
    "      author='A Coder',\n",
    "      author_email='mypackage@example.com',\n",
    "      license='MIT',\n",
    "      packages=['mypackage_02'],\n",
    "      entry_points={\n",
    "          'console_scripts': [\n",
    "              'mypackage_02 = mypackage_02.__main__:main'\n",
    "          ]\n",
    "       }\n",
    "     )\n",
    "\n",
    "\n",
    "# MANIFEST.in\n",
    "include README.rst\n",
    "\n",
    "# README.rst\n",
    "MyPackage\n",
    "---------\n",
    "\n",
    "To use, simply do::\n",
    "\n",
    "    >>> import mypackage_02\n",
    "    >>> mypackage_02.mymodule.thefunction()\n",
    "    \n",
    "Or from the commandline do::\n",
    "        \n",
    "    $ mypackage_02\n"
   ]
  },
  {
   "cell_type": "markdown",
   "metadata": {
    "slideshow": {
     "slide_type": "slide"
    }
   },
   "source": [
    "## Absolute and relative imports"
   ]
  },
  {
   "cell_type": "markdown",
   "metadata": {
    "collapsed": true,
    "slideshow": {
     "slide_type": "fragment"
    }
   },
   "source": [
    "## Imports within packages\n",
    "\n",
    "Things get more complicated with subpackages, particularly when you want to import from other subpackages.\n",
    "\n",
    "For example:\n",
    "```\n",
    "./mypackage/         # main directory for project, git repository\n",
    "   mypackage/             \n",
    "       __init__.py   # __init__.py for package\n",
    "       mysubpackage1/\n",
    "           __init__.py     # __init__.py for subpackage\n",
    "           mymodule.py     # the module \n",
    "       commandline/\n",
    "           __init__.py     # __init__.py for subpackage\n",
    "           cmd.py          # extra comandline stuff\n",
    "   setup.py             # file to install the package with pip\n",
    "   README.rst           # a readme file\n",
    "   MANIFEST.in          # a file to make sure that README.rst gets included\n",
    "```\n",
    "\n",
    "* absolute imports work - `import mypackage.mysubpackage1`\n",
    "* one . is the current directory - `from . import mysubpackage1`\n",
    "* two .. is the directory above"
   ]
  },
  {
   "cell_type": "markdown",
   "metadata": {
    "slideshow": {
     "slide_type": "slide"
    }
   },
   "source": [
    "## Creating an installable package\n",
    "\n",
    "```\n",
    "python setup.py sdist \n",
    "```\n",
    "\n",
    "This creates a source distribution, which will work fine for pure Python packages. "
   ]
  },
  {
   "cell_type": "markdown",
   "metadata": {
    "slideshow": {
     "slide_type": "slide"
    }
   },
   "source": [
    "### Wheels\n",
    "\n",
    "The source distribution created above the simplest basic package and works fine for pure Python packages. However, there is a newer format called a \"wheel\" which is preferred because:\n",
    "\n",
    "* it's faster to install\n",
    "* avoies setup.py (no arbitrary code execution)\n",
    "* creates .pyc files to match interpreter\n",
    "* it is better for also packaging precompiled libraries, if necessary.\n",
    "\n",
    "Typically both source distributions and wheels are created:\n",
    "```\n",
    "python setup.py sdist bdist_wheel\n",
    "\n",
    "```"
   ]
  },
  {
   "cell_type": "markdown",
   "metadata": {
    "slideshow": {
     "slide_type": "slide"
    }
   },
   "source": [
    "#### Wheels for both 2 and 3 (universal)\n",
    "\n",
    "```\n",
    "python setup.py --universal bdist_wheel\n",
    "```\n",
    "\n",
    "`setup.cfg`:\n",
    "```\n",
    "[bdist_wheel]\n",
    "universal = 1\n",
    "\n",
    "[metadata]\n",
    "license_file = LICENSE\n",
    "```\n",
    "\n",
    "See https://pythonwheels.com for common wheels.\n",
    "\n",
    "To get a package on PyPI, see further instructions in the [Python Packaging Tutorial](https://python-packaging.readthedocs.io/en/latest/minimal.html)"
   ]
  },
  {
   "cell_type": "markdown",
   "metadata": {
    "slideshow": {
     "slide_type": "slide"
    }
   },
   "source": [
    "## Installing\n",
    "\n",
    "* `pip install .` - installs current directory as packagge for system or environment\n",
    "* `pip install -e .` - symlink install, updates to files are automatically available to installation\n",
    "* `pip install mypackage_02-0.1-py3-none-any.whl` - install a wheel\n",
    "* `pip install mypackage_02-0.1.tar.gz` - install a source dist package\n",
    "* `pip uninstall mypackage_02` - uninstalls for **all** of the cases above \n"
   ]
  },
  {
   "cell_type": "markdown",
   "metadata": {
    "slideshow": {
     "slide_type": "slide"
    }
   },
   "source": [
    "## zip packages\n",
    "\n",
    "* You can execute a .zip file of a package if it contains a `__main__.py` module\n",
    "* You can put a zip file on the Python search path\n"
   ]
  },
  {
   "cell_type": "markdown",
   "metadata": {
    "slideshow": {
     "slide_type": "slide"
    }
   },
   "source": [
    "Python has been able to execute zip files which contain a \\_\\_main__.py file since version 2.6.\n",
    "\n",
    "In order to be executed by Python, an application archive simply has to be **a standard zip file \n",
    "containing a \\_\\_main__.py file** which will be run as the entry point for the application. \n",
    "\n",
    "As usual for any Python script, the parent of the script (in this case the zip file) will be \n",
    "placed on sys.path and thus further modules can be imported from the zip file."
   ]
  },
  {
   "cell_type": "markdown",
   "metadata": {
    "slideshow": {
     "slide_type": "slide"
    }
   },
   "source": [
    "#### Formally, the Python zip application format is therefore:\n",
    "\n",
    "* An optional shebang line, containing the characters b'#!' followed by an interpreter name, and then a newline (b'\\n') character. \n",
    "* Standard zipfile data, as generated by the zipfile module. \n",
    "* The zipfile content must include a file called \\_\\_main__.py (which must be in the “root” of the zipfile - i.e., it cannot be in a subdirectory). \n",
    "* The zipfile data can be compressed or uncompressed.\n",
    "* If an application archive has a shebang line, it may have the executable bit set on POSIX systems, to allow it to be executed directly."
   ]
  },
  {
   "cell_type": "code",
   "execution_count": 20,
   "metadata": {
    "slideshow": {
     "slide_type": "slide"
    }
   },
   "outputs": [
    {
     "name": "stdout",
     "output_type": "stream",
     "text": [
      "__init__.py  __main__.py  mymodule.py  __pycache__\r\n"
     ]
    }
   ],
   "source": [
    "! ls packaging/mypackage_zip\n"
   ]
  },
  {
   "cell_type": "code",
   "execution_count": 19,
   "metadata": {
    "slideshow": {
     "slide_type": "fragment"
    }
   },
   "outputs": [
    {
     "name": "stdout",
     "output_type": "stream",
     "text": [
      "no param\r\n"
     ]
    }
   ],
   "source": [
    "! python packaging/mypackage_zip.zip"
   ]
  },
  {
   "cell_type": "markdown",
   "metadata": {
    "slideshow": {
     "slide_type": "slide"
    }
   },
   "source": [
    "## zipapp — Manage executable python zip archives\n",
    "\n",
    "* creates executable zips from packages (even zipped packages)\n",
    "* can create appropriate `__main__.py` files\n",
    "* can add #! first line to call interpreter, make executable\n"
   ]
  },
  {
   "cell_type": "code",
   "execution_count": null,
   "metadata": {
    "slideshow": {
     "slide_type": "slide"
    }
   },
   "outputs": [],
   "source": [
    "python -m zipapp mypackage_zip -p \"/usr/bin/env python3.7\"\n",
    "./mypackage_zip.pyz\n",
    "\n",
    "python -m zipapp mypackage_zip.zip -p \"/usr/bin/env python3.7\" -o mypackage_zip_app.zip"
   ]
  },
  {
   "cell_type": "markdown",
   "metadata": {
    "slideshow": {
     "slide_type": "slide"
    }
   },
   "source": [
    "## pex — zip file format for self-contained virtual envs\n"
   ]
  },
  {
   "cell_type": "markdown",
   "metadata": {
    "slideshow": {
     "slide_type": "slide"
    }
   },
   "source": [
    "The pex file format buids on the zip format, but offers a number of features:\n",
    "\n",
    "* self-contained executable Python virtual environments\n",
    "* environment is created/discarded each run\n",
    "* support multiple platforms and python interpreters\n",
    "\n",
    "See [PEX](https://pex.readthedocs.io/en/stable/) and [Pants](https://www.pantsbuild.org/python-readme.html)\n"
   ]
  },
  {
   "cell_type": "markdown",
   "metadata": {
    "slideshow": {
     "slide_type": "slide"
    }
   },
   "source": [
    "### Other handy package related modules\n",
    "\n",
    "* modulefinder — Find modules used by a script\n",
    "* py_compile — Compile Python source files\n",
    "* compileall — Byte-compile Python libraries"
   ]
  },
  {
   "cell_type": "markdown",
   "metadata": {
    "slideshow": {
     "slide_type": "slide"
    }
   },
   "source": [
    "### Bytecode files\n",
    "\n",
    "When modules/libraries are loaded (except as `__main__`) \n",
    "\n",
    "* modules are compiled to bytecode\n",
    "* saved as a .pyc file\n",
    "\n",
    "When the same module is loaded again\n",
    "\n",
    "* if .pyc file is newer than source it's used\n",
    "* if .pyc file is older, it's re-compiled and saved"
   ]
  },
  {
   "cell_type": "markdown",
   "metadata": {
    "slideshow": {
     "slide_type": "slide"
    }
   },
   "source": [
    "### Bytecode file locations\n",
    "\n",
    "* Legacy (before Python 3.2)\n",
    "  * same location\n",
    "  * same base name\n",
    "  * .pyc extension\n",
    "  \n",
    "* Current (post Python 3.2)\n",
    "  * in `__pycache__` sub-folder\n",
    "  * base name includes 'magic tag' indicating implementation & version\n",
    "  * .pyc extension\n"
   ]
  },
  {
   "cell_type": "markdown",
   "metadata": {
    "slideshow": {
     "slide_type": "slide"
    }
   },
   "source": [
    "### Bytecode only distributions\n",
    "\n",
    "What if you want to only distribute .pyc files?\n",
    "\n",
    ".pyc files in `__pycache__` \n",
    "* can't be imported if .py files are missing \n",
    "* can be run directly\n",
    "* but only by the corresponding implementation/version of Python\n"
   ]
  },
  {
   "cell_type": "markdown",
   "metadata": {
    "slideshow": {
     "slide_type": "slide"
    }
   },
   "source": [
    "### Bytecode only distributions, 2\n",
    "\n",
    "Use `compileall` with the `-b` option to use legacy location and name\n",
    "\n",
    "* **can** be imported if .py files are missing \n",
    "* can be run directly\n",
    "* will **always** be ignored if .py version of file is in same location\n",
    "* but only by the corresponding implementation/version of Python\n"
   ]
  },
  {
   "cell_type": "code",
   "execution_count": null,
   "metadata": {
    "slideshow": {
     "slide_type": "slide"
    }
   },
   "outputs": [],
   "source": [
    "# bacon.py\n",
    "\n",
    "import itertools\n",
    "\n",
    "try:\n",
    "    import baconhameggs\n",
    "except ImportError:\n",
    "    pass\n",
    "\n",
    "try:\n",
    "    import guido.python.ham\n",
    "except ImportError:\n",
    "    pass"
   ]
  },
  {
   "cell_type": "code",
   "execution_count": null,
   "metadata": {
    "slideshow": {
     "slide_type": "slide"
    }
   },
   "outputs": [],
   "source": [
    "from modulefinder import ModuleFinder\n",
    "\n",
    "finder = ModuleFinder()\n",
    "finder.run_script('bacon.py')\n",
    "\n",
    "print('Loaded modules:')\n",
    "for name, mod in finder.modules.items():\n",
    "    print(f'{name}: ', end='')\n",
    "    print(','.join(list(mod.globalnames.keys())[:3]))\n",
    "\n",
    "print('-' * 50)\n",
    "print('Modules not imported:')\n",
    "print('\\n'.join(finder.badmodules.keys()))"
   ]
  },
  {
   "cell_type": "markdown",
   "metadata": {
    "slideshow": {
     "slide_type": "slide"
    }
   },
   "source": [
    "## Exercise: \n",
    "\n",
    "Create a package structure for a package named `hello` which has subdirectory; create an installable package; install and test."
   ]
  },
  {
   "cell_type": "markdown",
   "metadata": {
    "slideshow": {
     "slide_type": "slide"
    }
   },
   "source": [
    "## Resources\n",
    "\n",
    "* [Python Tutorial - Modules](https://docs.python.org/3/tutorial/modules.html)\n",
    "* [pipenv](https://github.com/kennethreitz/pipenv)\n",
    "* [setup.py (for humans)](https://github.com/kennethreitz/setup.py)\n",
    "* [Overview of Python Packaging](https://packaging.python.org/overview/)\n",
    "* [Packaging Python Projects Tutorial](https://packaging.python.org/tutorials/packaging-projects/) \n",
    "* [The Packaging Gradient(Mahmoud Hashemi)](https://sedimental.org/the_packaging_gradient.html)\n",
    "* [Hithchiker's Guide to Python - Structuring your Project](http://docs.python-guide.org/en/latest/writing/structure/#modules)\n",
    "* [Hitchhiker's Guide to Packaging](https://the-hitchhikers-guide-to-packaging.readthedocs.io/en/latest/creation.html)\n",
    "* [Hitchhiker's Guide to Python - Freezing your code](https://python-guide.readthedocs.io/en/latest/shipping/freezing/)\n",
    "* [dh-virtualenv](http://dh-virtualenv.readthedocs.io/en/1.0/tutorial.html) - virtualenv meets debian packaging\n",
    "* [CookieCutter](https://github.com/audreyr/cookiecutter-pypackage) and [CookieCutter Docs](https://cookiecutter-pypackage.readthedocs.io/en/latest/)\n",
    "* [PEX](https://pex.readthedocs.io/en/stable/) and [Pants](https://www.pantsbuild.org/python-readme.html)\n"
   ]
  },
  {
   "cell_type": "code",
   "execution_count": null,
   "metadata": {},
   "outputs": [],
   "source": []
  }
 ],
 "metadata": {
  "celltoolbar": "Slideshow",
  "kernelspec": {
   "display_name": "Python 3.7",
   "language": "python",
   "name": "python3.7"
  },
  "language_info": {
   "codemirror_mode": {
    "name": "ipython",
    "version": 3
   },
   "file_extension": ".py",
   "mimetype": "text/x-python",
   "name": "python",
   "nbconvert_exporter": "python",
   "pygments_lexer": "ipython3",
   "version": "3.7.3"
  },
  "livereveal": {
   "scroll": true,
   "start_slideshow_at": "selected",
   "theme": "white",
   "transition": "none"
  },
  "toc": {
   "nav_menu": {},
   "number_sections": false,
   "sideBar": true,
   "skip_h1_title": false,
   "toc_cell": false,
   "toc_position": {},
   "toc_section_display": "block",
   "toc_window_display": false
  }
 },
 "nbformat": 4,
 "nbformat_minor": 2
}
