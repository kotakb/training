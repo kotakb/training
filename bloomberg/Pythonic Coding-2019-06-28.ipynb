{
 "cells": [
  {
   "cell_type": "markdown",
   "metadata": {
    "nbpresent": {
     "id": "ce2bdbfa-efaa-47f1-94f6-fa04558f09fc"
    },
    "slideshow": {
     "slide_type": "slide"
    }
   },
   "source": [
    "# Pythonic Coding\n",
    "\n",
    "**Naomi Ceder, @naomiceder**\n",
    "\n",
    "- **Chair, Python Software Foundation**\n",
    "- **Quick Python Book, 3rd ed**\n",
    "- **Dick Blick Art Materials**\n",
    "\n",
    "**This notebook will be available for a week at https://github.com/nceder/training/tree/master/bloomberg**\n",
    "\n",
    "**Please sign in online using `{ATND <GO>}` and code: QNDUIV\n",
    " or email rbasil@bloomberg.net**"
   ]
  },
  {
   "cell_type": "markdown",
   "metadata": {
    "slideshow": {
     "slide_type": "skip"
    }
   },
   "source": [
    "## Course Description\n",
    "\n",
    "Pythonic Coding - other languages have best practices, but the notion of \"Pythonic\" coding goes beyond just code that uses the language well, to include the idea of matching the philosophy and aesthetic of the language, and of \"thinking in Python\". This course will be discussion driven, starting from Python's philosophy and style and moving on to examining specific examples for what makes them Pythonic or not. This course could be useful for all levels - newer Pythonistas will see examples of Pythonic code, intermediate people will be able to sharpen their sense of good Python, and experienced coders can argue about what makes code Pythonic.\n",
    "\n",
    "\n",
    "```\n",
    "Monday\n",
    "- AM: Intermediate Python\n",
    "- PM: Iterators, Generators, Collections\n",
    "\n",
    "Tuesday\n",
    "- AM: Pythonic Coding\n",
    "- PM: Moving to Python 3\n",
    "\n",
    "Wednesday\n",
    "- AM: Data cleaning\n",
    "- PM: Intermediate Python (repeat)\n",
    "\n",
    "Thursday\n",
    "- AM: Moving to Python 3 (repeat)\n",
    "- PM: Debugging Profiling Timing\n",
    "\n",
    "Friday\n",
    "- AM: Code organization and packaging\n",
    "- PM: Pythonic coding (repeat)\n",
    "```"
   ]
  },
  {
   "cell_type": "markdown",
   "metadata": {
    "slideshow": {
     "slide_type": "skip"
    }
   },
   "source": [
    "### Notes:\n",
    "\n",
    "* look for more examples\n",
    "* look for more ways to live code \n",
    "* make examples into quiz, audience participation"
   ]
  },
  {
   "cell_type": "markdown",
   "metadata": {
    "slideshow": {
     "slide_type": "slide"
    }
   },
   "source": [
    "## Course Assumptions\n",
    "\n",
    "* My course outline is only a general guide\n",
    "* We can be guided by your needs/interests\n",
    "* I need direction on what those are\n",
    "* The more we interact the better the outcome is likely to be\n"
   ]
  },
  {
   "cell_type": "markdown",
   "metadata": {
    "nbpresent": {
     "id": "77c00728-08d0-4c2d-9e6c-a73cdba1af60"
    },
    "slideshow": {
     "slide_type": "slide"
    }
   },
   "source": [
    "## You\n",
    "\n",
    "* What do you do?\n",
    "* What coding experience do you have?\n",
    "* What are your repetitive hassles and time sinks?\n",
    "* What problems do you want/hope to solve with code?"
   ]
  },
  {
   "cell_type": "markdown",
   "metadata": {
    "nbpresent": {
     "id": "c9ee43ac-0688-4c98-805d-15305a8f4e96"
    },
    "slideshow": {
     "slide_type": "slide"
    }
   },
   "source": [
    "## What we'll do\n",
    "\n",
    "* Discuss the notion of “Pythonic”\n",
    "* Talk about some things that are Pythonic\n",
    "* Look at some things that are NOT Pythonic\n",
    "* Discuss some cases to see whether they are Pythonic or not\n"
   ]
  },
  {
   "cell_type": "markdown",
   "metadata": {
    "slideshow": {
     "slide_type": "slide"
    }
   },
   "source": [
    "## Python 3 vs Python 2\n",
    "### Friends don't let friends use Python 2\n",
    "\n",
    "I'm going to be using Python 3, but if you're using Python 2, you should be okay if you do the following:\n",
    "1. `from __future__ import print_function` - `print` becomes a function, requires ()\n",
    "2. `from __future__ import division` - `/` is no longer integer division and will return a `real`\n",
    "3. use \"new style\" classes, i.e., `class my_class(object)`\n",
    "\n",
    "Other key differences will be pointed out as they arise.\n"
   ]
  },
  {
   "cell_type": "code",
   "execution_count": null,
   "metadata": {
    "slideshow": {
     "slide_type": "skip"
    }
   },
   "outputs": [],
   "source": [
    "from __future__ import print_function\n",
    "from __future__ import division"
   ]
  },
  {
   "cell_type": "markdown",
   "metadata": {
    "slideshow": {
     "slide_type": "slide"
    }
   },
   "source": [
    "## What is “Pythonic”?"
   ]
  },
  {
   "cell_type": "markdown",
   "metadata": {
    "slideshow": {
     "slide_type": "fragment"
    }
   },
   "source": [
    "* Coding style/best practices? \n",
    "* Readability? \n",
    "* “Elegance”? \n",
    "* “Efficiency”?\n",
    "* “Performance”? \n",
    "* EAFP? "
   ]
  },
  {
   "cell_type": "markdown",
   "metadata": {
    "slideshow": {
     "slide_type": "slide"
    }
   },
   "source": [
    "## Well... yes.\n",
    "\n",
    "“Pythonic” is a bit of all of those things...\n",
    "\n",
    "But it isn't **just** those things\n",
    "\n",
    "I can't define it, but I know it when I see it. \n",
    "\n",
    "With time, Pythonic style just “feels” like Python"
   ]
  },
  {
   "cell_type": "markdown",
   "metadata": {
    "slideshow": {
     "slide_type": "slide"
    }
   },
   "source": [
    "## The source - the [Zen of Python](#zen) (aka PEP 20)\n",
    "* Tim Peters\n",
    "* 1999\n",
    "* 20 principles, only 19 of which are written down\n",
    "* The first step in understanding the notion of Pythonic is to be aware of the Zen of Python\n",
    "* You may think I'm nuts, but **these are the most important 20 lines in Python**\n"
   ]
  },
  {
   "cell_type": "markdown",
   "metadata": {
    "slideshow": {
     "slide_type": "slide"
    }
   },
   "source": [
    "`>>> import this`\n",
    "\n",
    "`The Zen of Python, by Tim Peters`\n",
    "\n",
    "**`Beautiful is better than ugly.`**  \n",
    "**`Explicit is better than implicit.`**  \n",
    "**`Simple is better than complex.`**  \n",
    "`Complex is better than complicated.`  \n",
    "`Flat is better than nested.`  \n",
    "`Sparse is better than dense.`  \n",
    "**`Readability counts.`**  \n",
    "`Special cases aren't special enough \n",
    "   to break the rules.`  \n",
    "**`Although practicality beats purity.`**  \n",
    "`Errors should never pass silently.`  \n",
    "`Unless explicitly silenced.` "
   ]
  },
  {
   "cell_type": "markdown",
   "metadata": {
    "scrolled": true,
    "slideshow": {
     "slide_type": "slide"
    }
   },
   "source": [
    " \n",
    "**`In the face of ambiguity, \n",
    "   refuse the temptation to guess.`**  \n",
    "**`There should be one-- and preferably only one \n",
    "   --obvious way to do it.`**  \n",
    "`Although that way may not be obvious at first \n",
    "   unless you're Dutch.`  \n",
    "`Now is better than never.`  \n",
    "`Although never is often better than *right* now.`  \n",
    "`If the implementation is hard to explain, \n",
    "   it's a bad idea.`  \n",
    "`If the implementation is easy to explain, \n",
    "   it may be a good idea.`  \n",
    "`Namespaces are one honking great idea -- \n",
    "   let's do more of those!`  \n"
   ]
  },
  {
   "cell_type": "markdown",
   "metadata": {
    "slideshow": {
     "slide_type": "slide"
    }
   },
   "source": [
    "### Zen objections\n",
    "\n",
    "* It was meant to be humorous\n",
    "* It was meant for the development of the language, not the use of it\n",
    "* It's contradictory\n",
    "* It's too vague to be useful"
   ]
  },
  {
   "cell_type": "markdown",
   "metadata": {
    "slideshow": {
     "slide_type": "slide"
    }
   },
   "source": [
    "### PEP 8 - [Style Guide for Python Code](#resources)\n",
    "\n",
    "* Guido, Barry Warsaw, Nick Coghlan\n",
    "* Intended to make the spectrum of Python code more consistent\n",
    "* “A Foolish Consistency is the Hobgoblin of Little Minds”\n",
    "* **This is the second most important text in Python**\n",
    "* This course will be guided by PEP 8 in combination with the Zen of Python"
   ]
  },
  {
   "cell_type": "markdown",
   "metadata": {
    "slideshow": {
     "slide_type": "slide"
    }
   },
   "source": [
    "#### PEP 8 subjects\n",
    "\n",
    "* Code Lay-out\n",
    "* String Quotes\n",
    "* White Space\n",
    "* Naming\n",
    "* Programming Recommendations"
   ]
  },
  {
   "cell_type": "markdown",
   "metadata": {
    "slideshow": {
     "slide_type": "slide"
    }
   },
   "source": [
    "### Other references\n",
    "\n",
    "* [Elements of Python Style](#resources)\n",
    "* [Hitchhikers Guide](#resources)"
   ]
  },
  {
   "cell_type": "markdown",
   "metadata": {
    "slideshow": {
     "slide_type": "slide"
    }
   },
   "source": [
    "## The Easy Parts\n",
    "\n",
    "Some elements of Pythonic code are easy...\n",
    "\n",
    "* Code Lay-out\n",
    "  * Indentation\n",
    "  * tabs or spaces?\n",
    "  * blank lines, line length\n",
    "* Whitespace, Commas\n"
   ]
  },
  {
   "cell_type": "markdown",
   "metadata": {
    "slideshow": {
     "slide_type": "slide"
    }
   },
   "source": [
    "### Indentation\n",
    "\n",
    "* Use FOUR (4) **spaces** (NOT TABS!)\n",
    "* Line length < 80 chars (possibly up to 100)\n",
    "* Indent continued lines for readability\n",
    "* use \\ or () to wrap lines"
   ]
  },
  {
   "cell_type": "markdown",
   "metadata": {
    "slideshow": {
     "slide_type": "slide"
    }
   },
   "source": [
    "### Don't \n",
    "```\n",
    "# Arguments on first line forbidden when not using vertical alignment.\n",
    "foo = long_function_name(var_one, var_two,\n",
    "    var_three, var_four)\n",
    "\n",
    "# Further indentation required as indentation is not distinguishable.\n",
    "def long_function_name(\n",
    "    var_one, var_two, var_three,\n",
    "    var_four):\n",
    "    print(var_one)\n",
    "```\n"
   ]
  },
  {
   "cell_type": "markdown",
   "metadata": {
    "slideshow": {
     "slide_type": "slide"
    }
   },
   "source": [
    "### Do\n",
    "```\n",
    "# Aligned with opening delimiter.\n",
    "foo = long_function_name(var_one, var_two,\n",
    "                         var_three, var_four)\n",
    "\n",
    "# More indentation included to distinguish this from the rest.\n",
    "def long_function_name(\n",
    "        var_one, var_two, var_three,\n",
    "        var_four):\n",
    "    print(var_one)\n",
    "\n",
    "# Hanging indents should add a level.\n",
    "foo = long_function_name(\n",
    "    var_one, var_two,\n",
    "    var_three, var_four)\n",
    "    ```"
   ]
  },
  {
   "cell_type": "markdown",
   "metadata": {
    "slideshow": {
     "slide_type": "slide"
    }
   },
   "source": [
    "### For if statements, use parens, optionally add space\n",
    "```\n",
    "# Add some extra indentation on the conditional continuation line.\n",
    "if (this_is_one_thing and that_is_another_thing \n",
    "        and that_other_think_is_still_something_else):\n",
    "    do_something()\n",
    "```"
   ]
  },
  {
   "cell_type": "markdown",
   "metadata": {
    "slideshow": {
     "slide_type": "slide"
    }
   },
   "source": [
    "### Or use \\ for continuation\n",
    "```\n",
    "with open('/path/file/to/read') as file_1, \\\n",
    "     open('/path/file/written', 'w') as file_2:\n",
    "    file_2.write(file_1.read())\n",
    "```\n"
   ]
  },
  {
   "cell_type": "markdown",
   "metadata": {
    "slideshow": {
     "slide_type": "slide"
    }
   },
   "source": [
    "### Break lines before binary operators\n",
    "```\n",
    "# Yes: easy to match operators with operands\n",
    "income = (gross_wages\n",
    "          + taxable_interest\n",
    "          + (dividends - qualified_dividends)\n",
    "          - ira_deduction\n",
    "          - student_loan_interest)\n",
    "```"
   ]
  },
  {
   "cell_type": "markdown",
   "metadata": {
    "slideshow": {
     "slide_type": "slide"
    }
   },
   "source": [
    "### Use white space for readability\n",
    "\n",
    "**No**\n",
    "```\n",
    "i=i+1\n",
    "submitted +=1\n",
    "x = x * 2 - 1\n",
    "hypot2 = x * x + y * y\n",
    "c = (a + b) * (a - b)\n",
    "```\n",
    "\n",
    "**Yes**\n",
    "```\n",
    "i = i + 1\n",
    "submitted += 1\n",
    "x = x*2 - 1\n",
    "hypot2 = x*x + y*y\n",
    "c = (a+b) * (a-b)\n",
    "```"
   ]
  },
  {
   "cell_type": "markdown",
   "metadata": {
    "slideshow": {
     "slide_type": "slide"
    }
   },
   "source": [
    "## Readability counts.\n",
    "\n",
    "* \"Code is read more often than it's written\""
   ]
  },
  {
   "cell_type": "markdown",
   "metadata": {
    "slideshow": {
     "slide_type": "slide"
    }
   },
   "source": [
    "## The Harder Stuff\n",
    "\n",
    "All of the above is pretty easily enforcible with a PEP 8 linter. The items below require more thought.\n"
   ]
  },
  {
   "cell_type": "markdown",
   "metadata": {
    "slideshow": {
     "slide_type": "slide"
    }
   },
   "source": [
    "## Comments and Docstrings\n",
    "\n",
    "* Comments explain the why and how of code - they should be written for people who need to understand the code.\n",
    "* Docstrings explain what code does and how to use it - they should be written for the users of the code."
   ]
  },
  {
   "cell_type": "markdown",
   "metadata": {
    "slideshow": {
     "slide_type": "slide"
    }
   },
   "source": [
    "### Comments should...\n",
    "* be brief\n",
    "* be necessary\n",
    "* match the code, i.e., be updated\n",
    "\n",
    "(in general avoid inline comments)"
   ]
  },
  {
   "cell_type": "markdown",
   "metadata": {
    "slideshow": {
     "slide_type": "slide"
    }
   },
   "source": [
    "### Docstrings\n",
    "\n",
    "* For modules and exported functions, classes, methods\n",
    "* Triple double quotes at top of module or immediately after definition line\n",
    "* Preferably should use sphinx formatting\n",
    "* See [PEP 257](https://www.python.org/dev/peps/pep-0257/) for more on docstrings\n"
   ]
  },
  {
   "cell_type": "markdown",
   "metadata": {
    "slideshow": {
     "slide_type": "slide"
    }
   },
   "source": [
    "## Naming"
   ]
  },
  {
   "cell_type": "markdown",
   "metadata": {
    "slideshow": {
     "slide_type": "slide"
    }
   },
   "source": [
    "### Recommended\n",
    "\n",
    "* `ALL_CAPS` - constants\n",
    "* `lowercase_with_underscores` - variables, functions, modules\n",
    "* `CamelCase` - classes, types, exceptions \n",
    "   (end Exceptions with “Error” - `MySpecialError`)\n",
    "* `self` for instance\n",
    "* `cls` for class\n",
    "* `_xxx` for non-public\n",
    "* Trailing underscore, e.g., `list_` to avoid name clashes with builtins"
   ]
  },
  {
   "cell_type": "markdown",
   "metadata": {
    "slideshow": {
     "slide_type": "slide"
    }
   },
   "source": [
    "### Avoid\n",
    "\n",
    "* mixedCaseNames Except for compatibility with existing code\n",
    "* single letter names **except** - `i` for indexing and `x` in comprehensions and `e` for exceptions are okay.\n",
    "\n",
    "```\n",
    "for i, item in my_list:\n",
    "    print(i)\n",
    "    \n",
    "new_list = [x for x in some_iterator]\n",
    "```\n",
    "\n",
    "* your own `__xxx__` (“dunder”) names\n",
    "* name decorations, Hungarian naming, etc"
   ]
  },
  {
   "cell_type": "markdown",
   "metadata": {
    "slideshow": {
     "slide_type": "slide"
    }
   },
   "source": [
    "## Programming Suggestions"
   ]
  },
  {
   "cell_type": "markdown",
   "metadata": {
    "slideshow": {
     "slide_type": "slide"
    }
   },
   "source": [
    "### Recommended\n",
    "\n",
    "* use `startswith` and `endswith` instead of slicing for prefixes, suffixes\n",
    "* use `isinstance` instead of `type`\n",
    "* use “truthiness” of lists, strings, etc\n",
    "* context managers\n",
    "* specific imports, exceptions\n",
    "* Simple parameter and return types"
   ]
  },
  {
   "cell_type": "markdown",
   "metadata": {
    "slideshow": {
     "slide_type": "slide"
    }
   },
   "source": [
    "**No**\n",
    "```\n",
    "for i in range(len(some_series)):\n",
    "    print(some_series[i] * some_series[i])\n",
    "```    \n",
    "**Yes**\n",
    "```\n",
    "for item in some_series:\n",
    "    print(item ** 2)\n",
    "```\n",
    "if you need the index...\n",
    "```\n",
    "for i, item in enumerate(other_series):\n",
    "    print(\"index of %s is %d\" %  (item, i))\n",
    "```"
   ]
  },
  {
   "cell_type": "markdown",
   "metadata": {
    "slideshow": {
     "slide_type": "slide"
    }
   },
   "source": [
    "**No**\n",
    "```\n",
    "if x == True:   \n",
    "    print(\"True\")\n",
    "```\n",
    "(or worse)\n",
    "```\n",
    "if x is True:   \n",
    "    print(\"True\")\n",
    "```\n",
    "**Yes**\n",
    "```\n",
    "if x:\n",
    "    print(\"True\")\n",
    "```\n"
   ]
  },
  {
   "cell_type": "markdown",
   "metadata": {
    "slideshow": {
     "slide_type": "slide"
    }
   },
   "source": [
    "If you need to compare against None, use `is` and `is not`\n",
    "```\n",
    "if x is None:\n",
    "    print(\"None\")\n",
    "\n",
    "if x is not None:\n",
    "    print(\"x is set\")\n",
    "```\n",
    "**Note**\n",
    "\n",
    "`if x is not None` is **NOT** exactly the same as `if x`\n",
    "    "
   ]
  },
  {
   "cell_type": "markdown",
   "metadata": {
    "slideshow": {
     "slide_type": "slide"
    }
   },
   "source": [
    "**No**\n",
    "```\n",
    "squares = []\n",
    "for item in list_of_ints:\n",
    "    squares.append(item * item)\n",
    "```\n",
    "Use a comprehension instead\n",
    "\n",
    "**Yes**\n",
    "```\n",
    "squares = [x * x for x in list_of_ints]\n",
    "```"
   ]
  },
  {
   "cell_type": "markdown",
   "metadata": {
    "slideshow": {
     "slide_type": "slide"
    }
   },
   "source": [
    "**No** - checking types directly\n",
    "```\n",
    "if type(x) is list:\n",
    "    x.append(item)\n",
    "     \n",
    "```\n",
    "**Maybe** - checking types using isinstance (but be careful)\n",
    "```\n",
    "if isintance(x, list):\n",
    "    x.append(item)\n",
    "    \n",
    "```\n",
    "**Yes** - using exceptions instead\n",
    "\n",
    "```\n",
    "try:\n",
    "    x.append(item)\n",
    "except AttributeError as e:\n",
    "    # handle error\n",
    "\n",
    "```\n"
   ]
  },
  {
   "cell_type": "markdown",
   "metadata": {
    "collapsed": true,
    "slideshow": {
     "slide_type": "slide"
    }
   },
   "source": [
    "**No** - bare excepts\n",
    "```\n",
    "try:\n",
    "    # some stuff\n",
    "except:\n",
    "    # handle all possible errors here? \n",
    "    # without knowing what they are?\n",
    "    \n",
    "```\n",
    "\n",
    "**Yes** - specific excepts\n",
    "``` \n",
    "try:\n",
    "    user = users['username']\n",
    "except KeyError as e:\n",
    "    # handle non-existent user error\n",
    "```    "
   ]
  },
  {
   "cell_type": "markdown",
   "metadata": {
    "collapsed": true,
    "slideshow": {
     "slide_type": "slide"
    }
   },
   "source": [
    "**No** - checking for contents of dictionary\n",
    "```\n",
    "if a_dict.has_key(key): or  if key in a_dict:\n",
    "    # access a_dict[key]\n",
    "```\n",
    "**Yes** - using .get() \n",
    "```\n",
    "a_dict.get(key, default_value)\n",
    "```\n",
    "\n",
    "**Yes, Yes** - using .setdefault() or defaultdict \n",
    "```\n",
    "from collections import defaultdict\n",
    "a_dict = defaultdict(list)\n",
    "a_dict[key].append(item)\n",
    "```\n",
    "**or**\n",
    "```\n",
    "a_dict = {}\n",
    "a_dict.setdefault(key, []).append(item)\n",
    "```"
   ]
  },
  {
   "cell_type": "markdown",
   "metadata": {
    "collapsed": true,
    "slideshow": {
     "slide_type": "slide"
    }
   },
   "source": [
    "**No** - reinventing the standard library\n",
    "\n",
    "e.g, to read .csv files:\n",
    "```\n",
    "for line in file:\n",
    "   rows.append(line.split(\",\")\n",
    "```\n",
    "**Don't do this!!**"
   ]
  },
  {
   "cell_type": "markdown",
   "metadata": {
    "collapsed": true,
    "slideshow": {
     "slide_type": "slide"
    }
   },
   "source": [
    "**Yes** - using default arguments\n",
    "```\n",
    "def my_function(name, address=None):\n",
    "    pass\n",
    "```\n",
    "\n",
    "**No** - using mutable default/keyword args\n"
   ]
  },
  {
   "cell_type": "code",
   "execution_count": 4,
   "metadata": {
    "slideshow": {
     "slide_type": "slide"
    }
   },
   "outputs": [
    {
     "name": "stdout",
     "output_type": "stream",
     "text": [
      "[] 140713060805128\n",
      "after: ['three']\n",
      "['three'] 140713060805128\n",
      "after: ['three', 'three']\n"
     ]
    }
   ],
   "source": [
    "def test(param=[]):\n",
    "    print(param, id(param))\n",
    "    param.append(\"three\")\n",
    "    print(\"after:\", param)\n",
    "\n",
    "\n",
    "x = [\"one\", \"two\"]\n",
    "test()\n",
    "# test(x)\n",
    "# print(x)\n",
    "test()\n",
    "# test()\n",
    "# test(x)\n",
    "# test()"
   ]
  },
  {
   "cell_type": "markdown",
   "metadata": {
    "collapsed": true,
    "slideshow": {
     "slide_type": "slide"
    }
   },
   "source": [
    "**Yes**\n",
    "\n",
    "Use a context manager and for loop to read files\n",
    "```\n",
    "with open('somefile.txt') as infile:\n",
    "    for line in infile:\n",
    "        # do stuff\n",
    "```\n",
    "**No**\n",
    "\n",
    "```        \n",
    "for line in open('somefile.txt'):\n",
    "    # do stuff \n",
    "```\n"
   ]
  },
  {
   "cell_type": "markdown",
   "metadata": {
    "slideshow": {
     "slide_type": "slide"
    }
   },
   "source": [
    "### Discouraged \n",
    "\n",
    "* creating classes when functions will do\n",
    "* creating your own exceptions\n",
    "* side effects in functions; functions with side effects should return `None`"
   ]
  },
  {
   "cell_type": "markdown",
   "metadata": {
    "slideshow": {
     "slide_type": "slide"
    }
   },
   "source": [
    "**No** - don't create your own classes, especially for data\n",
    "```\n",
    "class MyRecord(object):\n",
    "    def __init__(self, name, address, phone_number):\n",
    "        self.name = name\n",
    "        self.address = address\n",
    "        self.phone_number = phone_number\n",
    "```\n",
    "\n",
    "**Yes** - use built-in structures if possible\n",
    "```\n",
    "my_record = {}\n",
    "my_record['name'] = name\n",
    "my_record['address'] = address\n",
    "my_record['phone_number'] = phone_number\n",
    "\n",
    "```"
   ]
  },
  {
   "cell_type": "markdown",
   "metadata": {
    "slideshow": {
     "slide_type": "slide"
    }
   },
   "source": [
    "**To group functionality, prefer a module over a class**"
   ]
  },
  {
   "cell_type": "markdown",
   "metadata": {
    "slideshow": {
     "slide_type": "slide"
    }
   },
   "source": [
    "**No** - don't create your own exception class\n",
    "```\n",
    "class BadUrlError(Exception):\n",
    "    pass\n",
    "    \n",
    "raise BadUrlError(url)\n",
    "```\n",
    "\n",
    "**Yes** - use built-in exceptions if possible\n",
    "```\n",
    "raise ValueError(\"Bad URL: %s\", url)\n",
    "\n",
    "```"
   ]
  },
  {
   "cell_type": "markdown",
   "metadata": {
    "slideshow": {
     "slide_type": "slide"
    }
   },
   "source": [
    "```\n",
    "a_list = [3, 2, 5, 1, 4]\n",
    "sorted(a_list   --> returns new list \n",
    "                  [1, 2, 3, 4, 5], no side effects\n",
    "a_list.sort()   --> returns None, but \n",
    "                    side effect is a_list is \n",
    "                    now [1, 2, 3, 4, 5]\n",
    "```"
   ]
  },
  {
   "cell_type": "markdown",
   "metadata": {
    "slideshow": {
     "slide_type": "slide"
    }
   },
   "source": [
    "### The missing switch() statement\n",
    "\n",
    "Python doesn't have a structure equivalent to the `switch()` found in some languages.\n",
    "\n",
    "**No** - a long `if`... `elif` ladder\n",
    "```\n",
    "if x == 1:\n",
    "    function1()\n",
    "elif x == 2: \n",
    "    function2()\n",
    "else:\n",
    "    default_function()\n",
    "\n",
    "```"
   ]
  },
  {
   "cell_type": "markdown",
   "metadata": {
    "slideshow": {
     "slide_type": "slide"
    }
   },
   "source": [
    "**Yes** - use a dictionary with functions as the values\n",
    "```\n",
    "switch = {1: function1,\n",
    "          2: function2}\n",
    " \n",
    "switch[x]() \n",
    "#switch.get(x, default_function)() \n",
    "```"
   ]
  },
  {
   "cell_type": "markdown",
   "metadata": {
    "slideshow": {
     "slide_type": "slide"
    }
   },
   "source": [
    "### Things to be wary of\n",
    "\n",
    "* Traditional OOP\n",
    "* Frameworks - web, ORM's, data, etc.\n",
    "* Metaprogramming"
   ]
  },
  {
   "cell_type": "markdown",
   "metadata": {
    "slideshow": {
     "slide_type": "slide"
    }
   },
   "source": [
    "## Recommendations"
   ]
  },
  {
   "cell_type": "markdown",
   "metadata": {
    "slideshow": {
     "slide_type": "slide"
    }
   },
   "source": [
    "### Use a PEP 8 linter\n",
    "\n",
    "Take advantage of automatic enforcement of PEP 8. \n",
    "\n",
    "**It doesn't matter that much which one, just do it!** Even better, make it part of your commit process so you don't have to think about it.\n",
    "\n",
    "* Flake8\n",
    "* Pep8\n",
    "* Coala"
   ]
  },
  {
   "cell_type": "markdown",
   "metadata": {
    "slideshow": {
     "slide_type": "slide"
    }
   },
   "source": [
    "### Appoint a PEP 8 enforcer\n",
    "\n",
    "Someone to nag everyone else when it gets tempting to let it slide."
   ]
  },
  {
   "cell_type": "markdown",
   "metadata": {
    "slideshow": {
     "slide_type": "slide"
    }
   },
   "source": [
    "### Use a code formatter\n",
    "\n",
    "* Black - https://github.com/ambv/black\n",
    "* yapf (Google) - https://github.com/google/yapf\n",
    "* autopep8 - https://github.com/hhatto/autopep8"
   ]
  },
  {
   "cell_type": "markdown",
   "metadata": {
    "slideshow": {
     "slide_type": "slide"
    }
   },
   "source": [
    "```\n",
    "$ pip install black\n",
    "\n",
    "...\n",
    "\n",
    "$ black test.py\n",
    "reformatted test.py\n",
    "All done! ✨ 🍰 ✨\n",
    "1 file reformatted.\n",
    "```"
   ]
  },
  {
   "cell_type": "code",
   "execution_count": null,
   "metadata": {
    "slideshow": {
     "slide_type": "skip"
    }
   },
   "outputs": [],
   "source": [
    "! pip install black"
   ]
  },
  {
   "cell_type": "code",
   "execution_count": null,
   "metadata": {
    "slideshow": {
     "slide_type": "slide"
    }
   },
   "outputs": [],
   "source": [
    "# before_black.py - based on Black documentation\n",
    "\n",
    "a_list = [1,\n",
    "     2,\n",
    "     3,\n",
    "]\n",
    "\n",
    "\n",
    "str_list=[ 'one', \"two\", \"\"\"three\"\"\",'''four''']\n",
    "\n",
    "    \n",
    "TracebackException.from_exception(exc,\n",
    "                                limit,\n",
    "                                lookup_lines,\n",
    "                                capture_locals)\n",
    "\n",
    "\n",
    "\n",
    "\n",
    "def very_important_function(template: str, *variables, file: os.PathLike, debug: bool = False):\n",
    "\n",
    "\n",
    "    \"\"\"Applies `variables` to the `template` and writes to `file`.\"\"\"\n",
    "\n",
    "\n",
    "\n",
    "    \n",
    "    with open(file, 'w') as f:\n",
    "\n",
    "\n",
    "      for line in file:\n",
    "               print(line)"
   ]
  },
  {
   "cell_type": "code",
   "execution_count": 5,
   "metadata": {
    "slideshow": {
     "slide_type": "slide"
    }
   },
   "outputs": [
    {
     "name": "stdout",
     "output_type": "stream",
     "text": [
      "--- before_black.py\t2018-08-05 01:36:26.410692 +0000\r\n",
      "+++ before_black.py\t2019-06-28 20:10:40.666656 +0000\r\n",
      "@@ -1,32 +1,21 @@\r\n",
      " # based on Black documentation\r\n",
      " \r\n",
      "-a_list = [1,\r\n",
      "-     2,\r\n",
      "-     3,\r\n",
      "-]\r\n",
      "+a_list = [1, 2, 3]\r\n",
      " \r\n",
      " \r\n",
      "-str_list=[ 'one', \"two\", \"\"\"three\"\"\",'''four''']\r\n",
      "-    \r\n",
      "-TracebackException.from_exception(exc,\r\n",
      "-                                limit,\r\n",
      "-                                lookup_lines,\r\n",
      "-                                capture_locals)\r\n",
      "+str_list = [\"one\", \"two\", \"\"\"three\"\"\", \"\"\"four\"\"\"]\r\n",
      "+\r\n",
      "+TracebackException.from_exception(exc, limit, lookup_lines, capture_locals)\r\n",
      " \r\n",
      " \r\n",
      "-\r\n",
      "-\r\n",
      "-def very_important_function(template: str, *variables, file: os.PathLike, debug: bool = False):\r\n",
      "-\r\n",
      "+def very_important_function(\r\n",
      "+    template: str, *variables, file: os.PathLike, debug: bool = False\r\n",
      "+):\r\n",
      " \r\n",
      "     \"\"\"Applies `variables` to the `template` and writes to `file`.\"\"\"\r\n",
      " \r\n",
      "+    with open(file, \"w\") as f:\r\n",
      " \r\n",
      "+        for line in file:\r\n",
      "+            print(line)\r\n",
      " \r\n",
      "-    \r\n",
      "-    with open(file, 'w') as f:\r\n",
      "-\r\n",
      "-\r\n",
      "-      for line in file:\r\n",
      "-               print(line)\r\n",
      "-\r\n",
      "\u001b[1mreformatted before_black.py\u001b[0m\r\n",
      "\u001b[1mAll done! ✨ 🍰 ✨\u001b[0m\r\n",
      "\u001b[1m1 file reformatted\u001b[0m.\u001b[0m\r\n"
     ]
    }
   ],
   "source": [
    "! black --diff before_black.py"
   ]
  },
  {
   "cell_type": "code",
   "execution_count": null,
   "metadata": {
    "slideshow": {
     "slide_type": "slide"
    }
   },
   "outputs": [],
   "source": [
    "# based on Black documentation\n",
    "\n",
    "a_list = [1, 2, 3]\n",
    "\n",
    "\n",
    "str_list = [\"one\", \"two\", \"\"\"three\"\"\", \"\"\"four\"\"\"]\n",
    "\n",
    "TracebackException.from_exception(exc, limit, lookup_lines, capture_locals)\n",
    "\n",
    "\n",
    "def very_important_function(\n",
    "    template: str, *variables, file: os.PathLike, debug: bool = False\n",
    "):\n",
    "\n",
    "    \"\"\"Applies `variables` to the `template` and writes to `file`.\"\"\"\n",
    "\n",
    "    with open(file, \"w\") as f:\n",
    "\n",
    "        for line in file:\n",
    "            print(line)"
   ]
  },
  {
   "cell_type": "markdown",
   "metadata": {
    "slideshow": {
     "slide_type": "slide"
    }
   },
   "source": [
    "### Make being Pythonic a part of code review.\n",
    "\n",
    "Encourage a culture where discussions of whether code is (or should be) Pythonic are common.\n",
    "\n",
    "Ask for those comments for yourself, if nothing else."
   ]
  },
  {
   "cell_type": "markdown",
   "metadata": {
    "slideshow": {
     "slide_type": "slide"
    }
   },
   "source": [
    "### Readings and Talks\n",
    "\n",
    "* Study PEP 8 (yes, really)\n",
    "* Read up on the [resources below](#resources)\n",
    "* Watch some videos - anything by Raymond Hettinger, Dave Beazley, Guido, Alex Martelli, and search for others."
   ]
  },
  {
   "cell_type": "markdown",
   "metadata": {
    "slideshow": {
     "slide_type": "slide"
    }
   },
   "source": [
    "## Discussion\n",
    "\n",
    "* Is your code PEP 8 compliant in terms of mechanics?\n",
    "* What are the things you always forget?\n",
    "* What elements of PEP8 do you disagree with/think unnecessary?"
   ]
  },
  {
   "cell_type": "markdown",
   "metadata": {
    "slideshow": {
     "slide_type": "slide"
    }
   },
   "source": [
    "## Pythonic vs. Un-Pythonic Examples and Discussion\n"
   ]
  },
  {
   "cell_type": "code",
   "execution_count": null,
   "metadata": {
    "slideshow": {
     "slide_type": "slide"
    }
   },
   "outputs": [],
   "source": [
    "class Temperature:\n",
    "    @staticmethod\n",
    "    def c2f(c_temp):\n",
    "        return c_temp * 9/5 + 32\n",
    "    @staticmethod\n",
    "    def f2c(f_temp):\n",
    "        return (f_temp - 32) * 5/9\n",
    "    \n",
    "Temperature.f2c(212)"
   ]
  },
  {
   "cell_type": "code",
   "execution_count": 6,
   "metadata": {
    "slideshow": {
     "slide_type": "slide"
    }
   },
   "outputs": [
    {
     "data": {
      "text/plain": [
       "[8, 64, 216]"
      ]
     },
     "execution_count": 6,
     "metadata": {},
     "output_type": "execute_result"
    }
   ],
   "source": [
    "old_list = [1,2,3,4,5,6,7]\n",
    "[x**3 for x in old_list if not x % 2]\n",
    "   "
   ]
  },
  {
   "cell_type": "code",
   "execution_count": null,
   "metadata": {
    "slideshow": {
     "slide_type": "slide"
    }
   },
   "outputs": [],
   "source": [
    "def get_key(code):\n",
    "    if code != secret:\n",
    "        return None\n",
    "    else:\n",
    "        return \"123456789\""
   ]
  },
  {
   "cell_type": "code",
   "execution_count": null,
   "metadata": {
    "slideshow": {
     "slide_type": "skip"
    }
   },
   "outputs": [],
   "source": [
    "# raise ValueError"
   ]
  },
  {
   "cell_type": "code",
   "execution_count": 7,
   "metadata": {
    "slideshow": {
     "slide_type": "slide"
    }
   },
   "outputs": [],
   "source": [
    "a_dict = {1: \"one\", 2: \"two\", 3: \"three\"}\n",
    "b_dict = {1: \"one\", 3: \"three\"}\n",
    "c_dict = {1: \"one\", 2: \"two\", 4: \"four\"}\n",
    "d_dict = {1: \"one\", 3: \"3\"}\n"
   ]
  },
  {
   "cell_type": "code",
   "execution_count": null,
   "metadata": {
    "slideshow": {
     "slide_type": "slide"
    }
   },
   "outputs": [],
   "source": [
    "def _dict_contains_keys(d, e):\n",
    "    \"\"\"\n",
    "    returns True if dict d contains all the keys that are in dict e\n",
    "    \"\"\"\n",
    "    for k in e.keys():\n",
    "        if d.get(k, '-') is '-':\n",
    "            return False\n",
    "\n",
    "    return True\n",
    "\n",
    "\n",
    "def _dict_contains(d, e):\n",
    "    \"\"\"\n",
    "    returns True if dict d contains all the key-value pairs that are in dict e\n",
    "    \"\"\"\n",
    "    for k in e.keys():\n",
    "        if (d.get(k, '-') is '-') or (d.get(k) != e[k]):\n",
    "            return False\n",
    "\n",
    "    return True"
   ]
  },
  {
   "cell_type": "code",
   "execution_count": null,
   "metadata": {
    "slideshow": {
     "slide_type": "fragment"
    }
   },
   "outputs": [],
   "source": [
    "_dict_contains(a_dict, d_dict)"
   ]
  },
  {
   "cell_type": "code",
   "execution_count": null,
   "metadata": {
    "slideshow": {
     "slide_type": "slide"
    }
   },
   "outputs": [],
   "source": [
    "def _dict_contains_keys(target, test):\n",
    "    \"\"\"\n",
    "    returns True if dict d contains all the keys that are in dict e\n",
    "    \"\"\"\n",
    "    return set(target.keys()).issuperset(set(test.keys()))\n",
    "    #for k in e.keys():\n",
    "    #    if d.get(k, '-') is '-':\n",
    "    #        return False\n",
    "    #\n",
    "    #return True\n",
    "\n",
    "\n",
    "def _dict_contains(target, test):\n",
    "    \"\"\"\n",
    "    returns True if dict d contains all the key-value pairs that are in dict e\n",
    "    \"\"\"\n",
    "    return set(target.items()).issuperset(set(test.items()))\n",
    "\n",
    "    for k in e.keys():\n",
    "        if (d.get(k, '-') is '-') or (d.get(k) != e[k]):\n",
    "            return False\n",
    "\n",
    "    return True"
   ]
  },
  {
   "cell_type": "code",
   "execution_count": null,
   "metadata": {
    "slideshow": {
     "slide_type": "fragment"
    }
   },
   "outputs": [],
   "source": [
    "_dict_contains(a_dict, d_dict)"
   ]
  },
  {
   "cell_type": "code",
   "execution_count": null,
   "metadata": {
    "slideshow": {
     "slide_type": "slide"
    }
   },
   "outputs": [],
   "source": [
    "# found in a test file... (Verbatim, no changes!)\n",
    "\n",
    "try:\n",
    "    media = Media.get_page_media(req)\n",
    "    print(\"test_media_with_no_assets: returned len(media) = {}\".format(\n",
    "        len(media)))\n",
    "    self.assertTrue(len(media) == 0)\n",
    "except Exception as e:\n",
    "    self.assertTrue(False)  # There is probably a better way to do this."
   ]
  },
  {
   "cell_type": "code",
   "execution_count": null,
   "metadata": {
    "slideshow": {
     "slide_type": "slide"
    }
   },
   "outputs": [],
   "source": [
    "search_list = [1,3,4,7]\n",
    "target = \n",
    "found = False\n",
    "for x in search_list:\n",
    "    if x == target:  \n",
    "        found = True\n",
    "        print(\"{} found\".format(target))\n",
    "        break\n",
    "if not found:\n",
    "    print(\"Not found\")\n",
    "        "
   ]
  },
  {
   "cell_type": "code",
   "execution_count": null,
   "metadata": {
    "slideshow": {
     "slide_type": "skip"
    }
   },
   "outputs": [],
   "source": [
    "#(solution to above)\n",
    "search_list = [1,3,4,7]\n",
    "target = 4\n",
    "\n",
    "for x in search_list:\n",
    "    if x == target:\n",
    "        print(f\"{target} found\")\n",
    "        break\n",
    "else:\n",
    "    print(\"Not found\")\n",
    "        "
   ]
  },
  {
   "cell_type": "markdown",
   "metadata": {
    "slideshow": {
     "slide_type": "slide"
    }
   },
   "source": [
    "## Your questions and examples?"
   ]
  },
  {
   "cell_type": "markdown",
   "metadata": {
    "slideshow": {
     "slide_type": "slide"
    }
   },
   "source": [
    "<a id='resources'></a>\n",
    "## Resources\n",
    "\n",
    "* [The Zen of Python](https://www.python.org/dev/peps/pep-0020/)<a id='zen'></a>\n",
    "* [PEP8](https://www.python.org/dev/peps/pep-0008/)\n",
    "* [PEP7 C Code](https://www.python.org/dev/peps/pep-0007/)\n",
    "* [PEP257 Docstrings](https://www.python.org/dev/peps/pep-0257/)\n",
    "* [Hitchhikers Guide to Python](http://docs.python-guide.org/en/latest/writing/style/)\n",
    "* [Elements of Python Style](https://github.com/amontalenti/elements-of-python-style/blob/master/README.md)\n",
    "* [Best of the Best Practices](https://gist.github.com/sloria/7001839)\n",
    "* [Discussion of Python formatters](https://medium.com/3yourmind/auto-formatters-for-python-8925065f9505)"
   ]
  },
  {
   "cell_type": "markdown",
   "metadata": {
    "slideshow": {
     "slide_type": "slide"
    }
   },
   "source": [
    "### More resources, uncurated\n",
    "\n",
    "* [http://www.pixelmonkey.org/2010/11/03/pythonic-means-idiomatic-and-tasteful](Pythonic means idiomatic and tasteful)\n",
    "* [https://www.youtube.com/watch?v=o9pEzgHorH0](Stop Writing Classes - YouTube)\n",
    "* [http://python.net/~goodger/projects/pycon/2007/idiomatic/handout.html](Code Like a Pythonista: Idiomatic Python)\n",
    "* [https://gist.github.com/JeffPaine/6213790](Transforming Code )\n",
    "* [https://blog.startifact.com/posts/older/what-is-pythonic.html](What is Pythonic? | Secret Weblog)\n",
    "* [http://python.net/crew/mwh/hacks/objectthink.html#mwh](How to think like a Pythonista)\n",
    "* [https://docs.quantifiedcode.com/python-anti-patterns/readability/using_an_unpythonic_loop.html](Using an unpythonic loop - Python Anti-Patterns documentation)\n",
    "\n",
    "\n"
   ]
  }
 ],
 "metadata": {
  "celltoolbar": "Slideshow",
  "kernelspec": {
   "display_name": "Python 3.7",
   "language": "python",
   "name": "python3.7"
  },
  "language_info": {
   "codemirror_mode": {
    "name": "ipython",
    "version": 3
   },
   "file_extension": ".py",
   "mimetype": "text/x-python",
   "name": "python",
   "nbconvert_exporter": "python",
   "pygments_lexer": "ipython3",
   "version": "3.7.3"
  },
  "livereveal": {
   "scroll": true,
   "start_slideshow_at": "selected",
   "theme": "white",
   "transition": "none"
  },
  "toc": {
   "nav_menu": {},
   "number_sections": false,
   "sideBar": true,
   "skip_h1_title": false,
   "toc_cell": false,
   "toc_position": {},
   "toc_section_display": "block",
   "toc_window_display": false
  }
 },
 "nbformat": 4,
 "nbformat_minor": 2
}
