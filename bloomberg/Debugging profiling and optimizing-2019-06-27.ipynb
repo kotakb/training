{
 "cells": [
  {
   "cell_type": "markdown",
   "metadata": {
    "nbpresent": {
     "id": "ce2bdbfa-efaa-47f1-94f6-fa04558f09fc"
    },
    "slideshow": {
     "slide_type": "slide"
    }
   },
   "source": [
    "# Debugging, profiling, and optimization\n",
    "\n",
    "**Naomi Ceder, @naomiceder**\n",
    "\n",
    "- **Chair, Python Software Foundation**\n",
    "- **Quick Python Book, 3rd ed**\n",
    "- **Dick Blick Art Materials**\n",
    "\n",
    "**This notebook will be available for a week at https://github.com/nceder/training/tree/master/bloomberg**\n",
    "\n",
    "**Online sign in - `ATND <GO>`, code YNMSJS - from email**\n",
    "\n",
    "**or email rbasil@bloomberg.net**\n"
   ]
  },
  {
   "cell_type": "markdown",
   "metadata": {
    "slideshow": {
     "slide_type": "skip"
    }
   },
   "source": [
    "Debugging, profiling, and optimization - Covers basic debugging strategies from logging to using pdb to disassembling, as well as profilig to find bottlenecks. Optimization strategies and C-extensions in both Python 2 and 3. Cython, PyPy, etc\n",
    "\n",
    "```\n",
    "Monday\n",
    "- AM: Intermediate Python\n",
    "- PM: Iterators, Generators, Collections\n",
    "\n",
    "Tuesday\n",
    "- AM: Pythonic Coding\n",
    "- PM: Moving to Python 3\n",
    "\n",
    "Wednesday\n",
    "- AM: Data cleaning\n",
    "- PM: Intermediate Python (repeat)\n",
    "\n",
    "Thursday\n",
    "- AM: Moving to Python 3 (repeat)\n",
    "- PM: Debugging Profiling Timing\n",
    "\n",
    "Friday\n",
    "- AM: Code organization and packaging\n",
    "- PM: Pythonic coding (repeat)\n",
    "```"
   ]
  },
  {
   "cell_type": "markdown",
   "metadata": {
    "slideshow": {
     "slide_type": "slide"
    }
   },
   "source": [
    "## Course Assumptions\n",
    "\n",
    "* My course outline is only a general guide\n",
    "* We can be guided by your needs/interests\n",
    "* I need direction on what those are\n",
    "* The more we interact the better the outcome is likely to be"
   ]
  },
  {
   "cell_type": "markdown",
   "metadata": {
    "nbpresent": {
     "id": "77c00728-08d0-4c2d-9e6c-a73cdba1af60"
    },
    "slideshow": {
     "slide_type": "slide"
    }
   },
   "source": [
    "### You\n",
    "\n",
    "* What do you do?\n",
    "* What coding experience do you have?\n",
    "* What are your repetitive hassles and time sinks?\n",
    "* What problems do you want/hope to solve with code?"
   ]
  },
  {
   "cell_type": "markdown",
   "metadata": {
    "nbpresent": {
     "id": "c9ee43ac-0688-4c98-805d-15305a8f4e96"
    },
    "slideshow": {
     "slide_type": "slide"
    }
   },
   "source": [
    "## What we'll do\n",
    "\n",
    "* Discuss debugging strategies\n",
    "  * print statements\n",
    "  * pdb\n",
    "* Profiling\n",
    "  * timing\n",
    "  * disassembly\n",
    "* Optimization\n",
    "  * strategies\n",
    "  * command line\n",
    "  * code \n",
    "  * C extensions\n",
    "  * Faster Pythons\n"
   ]
  },
  {
   "cell_type": "markdown",
   "metadata": {
    "slideshow": {
     "slide_type": "skip"
    }
   },
   "source": [
    "## Python 3 vs Python 2\n",
    "### Friends don't let friends use Python 2\n",
    "\n",
    "I'm going to be using Python 3, but if you're using Python 2, you should be okay if you do the following:\n",
    "1. `from __future__ import print_function` - `print` becomes a function, requires ()\n",
    "2. `from __future__ import division` - `/` is no longer integer division and will return a `real`\n",
    "3. use \"new style\" classes, i.e., `class my_class(object)`\n",
    "\n",
    "\n",
    "Other key differences will be pointed out as they arise.\n"
   ]
  },
  {
   "cell_type": "markdown",
   "metadata": {
    "slideshow": {
     "slide_type": "slide"
    }
   },
   "source": [
    "## Virtual environments\n",
    "\n",
    "Before we get started, it's a good idea to use virtual environments.\n",
    "\n",
    "* create separate environments for different interpreters, e.g., Python 2.7, Python 3.5, Python 3.6\n",
    "* keep dependencies, library versions, etc separate\n",
    "* part of Python 3\n",
    "\n",
    "```\n",
    "$ python3 -m venv my_project \n",
    "```\n",
    "or at Bloomberg\n",
    "```\n",
    "$ virtualenv -p python3 my_project$ source my_project/bin/activate\n",
    "$ pip install <packages>\n",
    "... work on stuff...\n",
    "$ deactivate\n",
    "```\n",
    "Save packages for an environment:\n",
    "\n",
    "    $ pip freeze > requirements.txt\n",
    "\n",
    "Install saved requirements:\n",
    "\n",
    "    $ pip install -r requirements.txt"
   ]
  },
  {
   "cell_type": "markdown",
   "metadata": {
    "slideshow": {
     "slide_type": "slide"
    }
   },
   "source": [
    "## Debugging\n",
    "* Code runs, but doesn't behave as expected *or*\n",
    "* Code runs, then crashes\n",
    "* Some state is set incorrectly\n",
    "* Or... the path of execution isn't what is expected\n"
   ]
  },
  {
   "cell_type": "markdown",
   "metadata": {
    "slideshow": {
     "slide_type": "slide"
    }
   },
   "source": [
    "<img src=\"debug_print1.png\">\n",
    "<img src=\"debug_print2.png\">"
   ]
  },
  {
   "cell_type": "markdown",
   "metadata": {
    "slideshow": {
     "slide_type": "slide"
    }
   },
   "source": [
    "### print statements\n",
    "\n",
    "* arguably the oldest and simplest debugging approach\n",
    "* easy to dump pretty much anything, anywhere \n",
    "* enduring popularity\n"
   ]
  },
  {
   "cell_type": "markdown",
   "metadata": {
    "slideshow": {
     "slide_type": "slide"
    }
   },
   "source": [
    "### Drawbacks of print statements\n",
    "\n",
    "* you need to be able see STDOUT\n",
    "* can be overwhelmed in loops, etc\n",
    "* need to be (manually) inserted in code and removed"
   ]
  },
  {
   "cell_type": "markdown",
   "metadata": {
    "slideshow": {
     "slide_type": "slide"
    }
   },
   "source": [
    "### Reason to use print statements\n",
    "\n",
    "* fast & flexible\n",
    "* good for exploring a problem fast"
   ]
  },
  {
   "cell_type": "markdown",
   "metadata": {
    "slideshow": {
     "slide_type": "slide"
    }
   },
   "source": [
    "### logging\n",
    "\n",
    "* Similar to print statements - exposing state and execution path\n",
    "* logging library for standard library"
   ]
  },
  {
   "cell_type": "markdown",
   "metadata": {
    "slideshow": {
     "slide_type": "slide"
    }
   },
   "source": [
    "#### Key differences\n",
    "\n",
    "* levels - debug, info, warning, error, critical\n",
    "* likely to be left in place\n",
    "* various channels\n",
    "* different outputs (even by level)\n",
    "* more overhead to set up"
   ]
  },
  {
   "cell_type": "markdown",
   "metadata": {
    "slideshow": {
     "slide_type": "slide"
    }
   },
   "source": [
    "Logging Levels\n",
    "\n",
    "```\n",
    "NOTSET     0\n",
    "DEBUG     10\n",
    "INFO      20\n",
    "WARNING   30\n",
    "ERROR     40\n",
    "CRITICAL  50\n",
    "```\n",
    "\n",
    "Log messages at or above the logger's log level will be logged. So, NOTSET means that **all** messages will be logged, while WARNING would mean that warnings, errors, and criticals would be logged.\n"
   ]
  },
  {
   "cell_type": "code",
   "execution_count": 34,
   "metadata": {
    "slideshow": {
     "slide_type": "slide"
    }
   },
   "outputs": [
    {
     "name": "stderr",
     "output_type": "stream",
     "text": [
      "Error - This goes to the console and the file\n",
      "Critical - This goes to the console and the file\n"
     ]
    }
   ],
   "source": [
    "import logging\n",
    "import os\n",
    "\n",
    "# create the logger\n",
    "logger = logging.getLogger('my_process')\n",
    "logger.setLevel(logging.DEBUG)\n",
    "\n",
    "\n",
    "# set up file for debug level messages\n",
    "os.remove('process.log')\n",
    "file_handler = logging.FileHandler('process.log')\n",
    "file_handler.setLevel(logging.DEBUG)\n",
    "logger.addHandler(file_handler)\n",
    "\n",
    "# setup console for errors only\n",
    "console_handler = logging.StreamHandler()\n",
    "console_handler.setLevel(logging.ERROR) \n",
    "logger.addHandler(console_handler)\n",
    "\n",
    "logger.debug(\"Debug - This goes only to the file\")\n",
    "logger.info(\"Info - This goes only to the file\")\n",
    "logger.warning(\"Warning - This goes only to the file\")\n",
    " \n",
    "logger.error(\"Error - This goes to the console and the file\")\n",
    "logger.critical(\" C ritical - This goes to the console and the file\")"
   ]
  },
  {
   "cell_type": "code",
   "execution_count": 35,
   "metadata": {
    "scrolled": true,
    "slideshow": {
     "slide_type": "slide"
    }
   },
   "outputs": [
    {
     "name": "stdout",
     "output_type": "stream",
     "text": [
      "Debug - This goes only to the file\n",
      "Info - This goes only to the file\n",
      "Warning - This goes only to the file\n",
      "Error - This goes to the console and the file\n",
      "Critical - This goes to the console and the file\n",
      "\n"
     ]
    }
   ],
   "source": [
    "print(open('process.log').read())"
   ]
  },
  {
   "cell_type": "code",
   "execution_count": null,
   "metadata": {
    "slideshow": {
     "slide_type": "slide"
    }
   },
   "outputs": [
    {
     "name": "stderr",
     "output_type": "stream",
     "text": [
      "maximum recursion depth exceeded in comparison -2973 0\n"
     ]
    }
   ],
   "source": [
    "# fibonacci with recursion\n",
    "\n",
    "def fib_recursive(number):\n",
    "    result = 0\n",
    "    if number in [1, 2]:\n",
    "        result = 1\n",
    "    else:\n",
    "        try:\n",
    "            result =  fib_recursive(number - 1) + fib_recursive(number - 2)\n",
    "        except Exception as e:\n",
    "            logger.error(\"{} {} {}\".format(e, number, result))\n",
    "            \n",
    "    logger.debug(\"{} {}\".format(number, result))  # only to file\n",
    "    return result\n",
    "  \n",
    "fib_recursive(-6)  "
   ]
  },
  {
   "cell_type": "code",
   "execution_count": 1,
   "metadata": {
    "scrolled": true,
    "slideshow": {
     "slide_type": "slide"
    }
   },
   "outputs": [
    {
     "name": "stdout",
     "output_type": "stream",
     "text": [
      "Debug - This goes only to the file\n",
      "Info - This goes only to the file\n",
      "Warning - This goes only to the file\n",
      "Error - This goes to the console and the file\n",
      "Critical - This goes to the console and the file\n",
      "unsupported operand type(s) for -: 'str' and 'int' 6 0\n",
      "6 0\n",
      "2 1\n",
      "1 1\n",
      "3 2\n",
      "2 1\n",
      "4 3\n",
      "2 1\n",
      "1 1\n",
      "3 2\n",
      "5 5\n",
      "2 1\n",
      "1 1\n",
      "3 2\n",
      "2 1\n",
      "4 3\n",
      "6 8\n",
      "maximum recursion depth exceeded in comparison -2973 0\n",
      "-2973 0\n",
      "\n"
     ]
    }
   ],
   "source": [
    "print(open('process.log').read()) "
   ]
  },
  {
   "cell_type": "markdown",
   "metadata": {
    "slideshow": {
     "slide_type": "slide"
    }
   },
   "source": [
    "### Debugging with Exceptions\n",
    "\n",
    "* Trapping exception and logging/printing \n",
    "* Using existing exception (with message parameter)\n",
    "* Create custom exception\n"
   ]
  },
  {
   "cell_type": "markdown",
   "metadata": {
    "slideshow": {
     "slide_type": "slide"
    }
   },
   "source": [
    "### Downsides of Exceptions\n",
    "\n",
    "* you need to know where to trap them - correct size of blocks for try...except\n",
    "* recovery is often tricky\n",
    "* more effort than than `print` statements"
   ]
  },
  {
   "cell_type": "markdown",
   "metadata": {
    "slideshow": {
     "slide_type": "slide"
    }
   },
   "source": [
    "### (faulthandler in Python 3)\n",
    "\n",
    "Library that enables dumping minimal traceback even on segfaults and lockups. (see docs)\n",
    "\n"
   ]
  },
  {
   "cell_type": "markdown",
   "metadata": {
    "slideshow": {
     "slide_type": "slide"
    }
   },
   "source": [
    "### Debug flags\n",
    "\n",
    "* Global variable\n",
    "* `if` statement\n",
    "* effect much like logging levels\n",
    "\n"
   ]
  },
  {
   "cell_type": "code",
   "execution_count": 5,
   "metadata": {
    "slideshow": {
     "slide_type": "slide"
    }
   },
   "outputs": [
    {
     "name": "stdout",
     "output_type": "stream",
     "text": [
      "2 1\n",
      "1 1\n",
      "3 2\n",
      "2 1\n",
      "4 3\n",
      "2 1\n",
      "1 1\n",
      "3 2\n",
      "5 5\n",
      "2 1\n",
      "1 1\n",
      "3 2\n",
      "2 1\n",
      "4 3\n",
      "6 8\n"
     ]
    },
    {
     "data": {
      "text/plain": [
       "8"
      ]
     },
     "execution_count": 5,
     "metadata": {},
     "output_type": "execute_result"
    }
   ],
   "source": [
    "# fibonacci with recursion\n",
    "DEBUG = True\n",
    "\n",
    "def fib_recursive(number):\n",
    "    if number in [1, 2]:\n",
    "        result = 1\n",
    "    else:\n",
    "        result =  fib_recursive(number - 1) + fib_recursive(number - 2)\n",
    "    \n",
    "    if DEBUG:\n",
    "        print(number, result)\n",
    "    return result\n",
    "\n",
    "fib_recursive(6)"
   ]
  },
  {
   "cell_type": "code",
   "execution_count": 6,
   "metadata": {
    "slideshow": {
     "slide_type": "slide"
    }
   },
   "outputs": [
    {
     "name": "stdout",
     "output_type": "stream",
     "text": [
      "  5           0 LOAD_FAST                0 (number)\n",
      "              2 LOAD_CONST               1 ((1, 2))\n",
      "              4 COMPARE_OP               6 (in)\n",
      "              6 POP_JUMP_IF_FALSE       14\n",
      "\n",
      "  6           8 LOAD_CONST               2 (1)\n",
      "             10 STORE_FAST               1 (result)\n",
      "             12 JUMP_FORWARD            24 (to 38)\n",
      "\n",
      "  8     >>   14 LOAD_GLOBAL              0 (fib_recursive)\n",
      "             16 LOAD_FAST                0 (number)\n",
      "             18 LOAD_CONST               2 (1)\n",
      "             20 BINARY_SUBTRACT\n",
      "             22 CALL_FUNCTION            1\n",
      "             24 LOAD_GLOBAL              0 (fib_recursive)\n",
      "             26 LOAD_FAST                0 (number)\n",
      "             28 LOAD_CONST               3 (2)\n",
      "             30 BINARY_SUBTRACT\n",
      "             32 CALL_FUNCTION            1\n",
      "             34 BINARY_ADD\n",
      "             36 STORE_FAST               1 (result)\n",
      "\n",
      " 10     >>   38 LOAD_GLOBAL              1 (DEBUG)\n",
      "             40 POP_JUMP_IF_FALSE       52\n",
      "\n",
      " 11          42 LOAD_GLOBAL              2 (print)\n",
      "             44 LOAD_FAST                0 (number)\n",
      "             46 LOAD_FAST                1 (result)\n",
      "             48 CALL_FUNCTION            2\n",
      "             50 POP_TOP\n",
      "\n",
      " 12     >>   52 LOAD_FAST                1 (result)\n",
      "             54 RETURN_VALUE\n"
     ]
    }
   ],
   "source": [
    "import dis\n",
    "dis.dis(fib_recursive)"
   ]
  },
  {
   "cell_type": "markdown",
   "metadata": {
    "slideshow": {
     "slide_type": "slide"
    }
   },
   "source": [
    "### ` __debug__` keyword\n",
    "\n",
    "* `__debug__` is a constant set when the interpreter starts\n",
    "\n",
    "* `__debug__` is true if -O is **not** set on the commandline when the interpreter is run"
   ]
  },
  {
   "cell_type": "markdown",
   "metadata": {
    "slideshow": {
     "slide_type": "slide"
    }
   },
   "source": [
    "### Without -O switch"
   ]
  },
  {
   "cell_type": "code",
   "execution_count": 8,
   "metadata": {
    "slideshow": {
     "slide_type": "fragment"
    }
   },
   "outputs": [
    {
     "ename": "SyntaxError",
     "evalue": "assignment to keyword (<ipython-input-8-f6598caa108a>, line 2)",
     "output_type": "error",
     "traceback": [
      "\u001b[0;36m  File \u001b[0;32m\"<ipython-input-8-f6598caa108a>\"\u001b[0;36m, line \u001b[0;32m2\u001b[0m\n\u001b[0;31m    __debug__ = False\u001b[0m\n\u001b[0m                     ^\u001b[0m\n\u001b[0;31mSyntaxError\u001b[0m\u001b[0;31m:\u001b[0m assignment to keyword\n"
     ]
    }
   ],
   "source": [
    "print(__debug__)\n",
    "__debug__ = False"
   ]
  },
  {
   "cell_type": "code",
   "execution_count": 9,
   "metadata": {
    "scrolled": true,
    "slideshow": {
     "slide_type": "slide"
    }
   },
   "outputs": [
    {
     "name": "stdout",
     "output_type": "stream",
     "text": [
      "2 1\n",
      "1 1\n",
      "3 2\n",
      "2 1\n",
      "4 3\n",
      "2 1\n",
      "1 1\n",
      "3 2\n",
      "5 5\n",
      "2 1\n",
      "1 1\n",
      "3 2\n",
      "2 1\n",
      "4 3\n",
      "6 8\n"
     ]
    },
    {
     "data": {
      "text/plain": [
       "8"
      ]
     },
     "execution_count": 9,
     "metadata": {},
     "output_type": "execute_result"
    }
   ],
   "source": [
    "# fibonacci with recursion\n",
    "\n",
    "def fib_recursive(number):\n",
    "    if number in [1, 2]:\n",
    "        result = 1\n",
    "    else:\n",
    "        result =  fib_recursive(number - 1) + fib_recursive(number - 2)\n",
    "    \n",
    "    if __debug__:\n",
    "        print(number, result)\n",
    "    return result\n",
    "\n",
    "fib_recursive(6) "
   ]
  },
  {
   "cell_type": "code",
   "execution_count": 10,
   "metadata": {
    "slideshow": {
     "slide_type": "slide"
    }
   },
   "outputs": [
    {
     "name": "stdout",
     "output_type": "stream",
     "text": [
      "  4           0 LOAD_FAST                0 (number)\n",
      "              2 LOAD_CONST               1 ((1, 2))\n",
      "              4 COMPARE_OP               6 (in)\n",
      "              6 POP_JUMP_IF_FALSE       14\n",
      "\n",
      "  5           8 LOAD_CONST               2 (1)\n",
      "             10 STORE_FAST               1 (result)\n",
      "             12 JUMP_FORWARD            24 (to 38)\n",
      "\n",
      "  7     >>   14 LOAD_GLOBAL              0 (fib_recursive)\n",
      "             16 LOAD_FAST                0 (number)\n",
      "             18 LOAD_CONST               2 (1)\n",
      "             20 BINARY_SUBTRACT\n",
      "             22 CALL_FUNCTION            1\n",
      "             24 LOAD_GLOBAL              0 (fib_recursive)\n",
      "             26 LOAD_FAST                0 (number)\n",
      "             28 LOAD_CONST               3 (2)\n",
      "             30 BINARY_SUBTRACT\n",
      "             32 CALL_FUNCTION            1\n",
      "             34 BINARY_ADD\n",
      "             36 STORE_FAST               1 (result)\n",
      "\n",
      " 10     >>   38 LOAD_GLOBAL              1 (print)\n",
      "             40 LOAD_FAST                0 (number)\n",
      "             42 LOAD_FAST                1 (result)\n",
      "             44 CALL_FUNCTION            2\n",
      "             46 POP_TOP\n",
      "\n",
      " 11          48 LOAD_FAST                1 (result)\n",
      "             50 RETURN_VALUE\n"
     ]
    }
   ],
   "source": [
    "import dis\n",
    "dis.dis(fib_recursive)"
   ]
  },
  {
   "cell_type": "markdown",
   "metadata": {
    "slideshow": {
     "slide_type": "slide"
    }
   },
   "source": [
    "### (switch to 3_O kernel)"
   ]
  },
  {
   "cell_type": "code",
   "execution_count": 1,
   "metadata": {
    "slideshow": {
     "slide_type": "slide"
    }
   },
   "outputs": [
    {
     "name": "stdout",
     "output_type": "stream",
     "text": [
      "False\n"
     ]
    }
   ],
   "source": [
    "print(__debug__)"
   ]
  },
  {
   "cell_type": "code",
   "execution_count": 2,
   "metadata": {
    "slideshow": {
     "slide_type": "slide"
    }
   },
   "outputs": [
    {
     "data": {
      "text/plain": [
       "8"
      ]
     },
     "execution_count": 2,
     "metadata": {},
     "output_type": "execute_result"
    }
   ],
   "source": [
    "# fibonacci with recursion\n",
    "\n",
    "def fib_recursive(number):\n",
    "    if number in [1, 2]:\n",
    "        result = 1\n",
    "    else:\n",
    "        result =  fib_recursive(number - 1) + fib_recursive(number - 2)\n",
    "    \n",
    "    if __debug__:\n",
    "        print(number, result)\n",
    "    return result\n",
    "\n",
    "fib_recursive(6)"
   ]
  },
  {
   "cell_type": "code",
   "execution_count": 3,
   "metadata": {
    "slideshow": {
     "slide_type": "slide"
    }
   },
   "outputs": [
    {
     "name": "stdout",
     "output_type": "stream",
     "text": [
      "  4           0 LOAD_FAST                0 (number)\n",
      "              2 LOAD_CONST               1 ((1, 2))\n",
      "              4 COMPARE_OP               6 (in)\n",
      "              6 POP_JUMP_IF_FALSE       14\n",
      "\n",
      "  5           8 LOAD_CONST               2 (1)\n",
      "             10 STORE_FAST               1 (result)\n",
      "             12 JUMP_FORWARD            24 (to 38)\n",
      "\n",
      "  7     >>   14 LOAD_GLOBAL              0 (fib_recursive)\n",
      "             16 LOAD_FAST                0 (number)\n",
      "             18 LOAD_CONST               2 (1)\n",
      "             20 BINARY_SUBTRACT\n",
      "             22 CALL_FUNCTION            1\n",
      "             24 LOAD_GLOBAL              0 (fib_recursive)\n",
      "             26 LOAD_FAST                0 (number)\n",
      "             28 LOAD_CONST               3 (2)\n",
      "             30 BINARY_SUBTRACT\n",
      "             32 CALL_FUNCTION            1\n",
      "             34 BINARY_ADD\n",
      "             36 STORE_FAST               1 (result)\n",
      "\n",
      " 11     >>   38 LOAD_FAST                1 (result)\n",
      "             40 RETURN_VALUE\n"
     ]
    }
   ],
   "source": [
    "import dis\n",
    "dis.dis(fib_recursive)"
   ]
  },
  {
   "cell_type": "markdown",
   "metadata": {
    "slideshow": {
     "slide_type": "slide"
    }
   },
   "source": [
    "### assert statements\n",
    "\n",
    "* Convenient way to use assertions in code\n",
    "* Formatat: `assert <expression>`\n",
    "* `assert` will raise AssertionError exception if expression is not True"
   ]
  },
  {
   "cell_type": "markdown",
   "metadata": {
    "slideshow": {
     "slide_type": "slide"
    }
   },
   "source": [
    "#### `assert` with one expression\n",
    "\n",
    "`assert <expression>`\n",
    "\n",
    "is equivalent to:\n",
    "\n",
    "```\n",
    "if __debug__:\n",
    "    if not <expression>:\n",
    "        raise AssertionError\n",
    "```"
   ]
  },
  {
   "cell_type": "markdown",
   "metadata": {
    "slideshow": {
     "slide_type": "slide"
    }
   },
   "source": [
    "### (switch to 3 kernel)"
   ]
  },
  {
   "cell_type": "code",
   "execution_count": 1,
   "metadata": {
    "slideshow": {
     "slide_type": "slide"
    }
   },
   "outputs": [
    {
     "ename": "AssertionError",
     "evalue": "",
     "output_type": "error",
     "traceback": [
      "\u001b[0;31m---------------------------------------------------------------------------\u001b[0m",
      "\u001b[0;31mAssertionError\u001b[0m                            Traceback (most recent call last)",
      "\u001b[0;32m<ipython-input-1-525a578fb256>\u001b[0m in \u001b[0;36m<module>\u001b[0;34m()\u001b[0m\n\u001b[1;32m     12\u001b[0m     \u001b[0;32mreturn\u001b[0m \u001b[0mresult\u001b[0m\u001b[0;34m\u001b[0m\u001b[0;34m\u001b[0m\u001b[0m\n\u001b[1;32m     13\u001b[0m \u001b[0;34m\u001b[0m\u001b[0m\n\u001b[0;32m---> 14\u001b[0;31m \u001b[0mfib_recursive\u001b[0m\u001b[0;34m(\u001b[0m\u001b[0;34m-\u001b[0m\u001b[0;36m6\u001b[0m\u001b[0;34m)\u001b[0m\u001b[0;34m\u001b[0m\u001b[0;34m\u001b[0m\u001b[0m\n\u001b[0m",
      "\u001b[0;32m<ipython-input-1-525a578fb256>\u001b[0m in \u001b[0;36mfib_recursive\u001b[0;34m(number)\u001b[0m\n\u001b[1;32m      3\u001b[0m \u001b[0;32mdef\u001b[0m \u001b[0mfib_recursive\u001b[0m\u001b[0;34m(\u001b[0m\u001b[0mnumber\u001b[0m\u001b[0;34m)\u001b[0m\u001b[0;34m:\u001b[0m\u001b[0;34m\u001b[0m\u001b[0;34m\u001b[0m\u001b[0m\n\u001b[1;32m      4\u001b[0m \u001b[0;34m\u001b[0m\u001b[0m\n\u001b[0;32m----> 5\u001b[0;31m     \u001b[0;32massert\u001b[0m \u001b[0mnumber\u001b[0m \u001b[0;34m>\u001b[0m \u001b[0;36m0\u001b[0m\u001b[0;34m\u001b[0m\u001b[0;34m\u001b[0m\u001b[0m\n\u001b[0m\u001b[1;32m      6\u001b[0m \u001b[0;34m\u001b[0m\u001b[0m\n\u001b[1;32m      7\u001b[0m     \u001b[0;32mif\u001b[0m \u001b[0mnumber\u001b[0m \u001b[0;32min\u001b[0m \u001b[0;34m[\u001b[0m\u001b[0;36m1\u001b[0m\u001b[0;34m,\u001b[0m \u001b[0;36m2\u001b[0m\u001b[0;34m]\u001b[0m\u001b[0;34m:\u001b[0m\u001b[0;34m\u001b[0m\u001b[0;34m\u001b[0m\u001b[0m\n",
      "\u001b[0;31mAssertionError\u001b[0m: "
     ]
    }
   ],
   "source": [
    "# fibonacci with recursion\n",
    "\n",
    "def fib_recursive(number):\n",
    "\n",
    "    assert number > 0\n",
    "    \n",
    "    if number in [1, 2]:\n",
    "        result = 1\n",
    "    else:\n",
    "        result =  fib_recursive(number - 1) + fib_recursive(number - 2)\n",
    "    \n",
    "    return result\n",
    "\n",
    "fib_recursive(-6)"
   ]
  },
  {
   "cell_type": "code",
   "execution_count": 2,
   "metadata": {
    "slideshow": {
     "slide_type": "slide"
    }
   },
   "outputs": [
    {
     "name": "stdout",
     "output_type": "stream",
     "text": [
      "  5           0 LOAD_FAST                0 (number)\n",
      "              2 LOAD_CONST               1 (0)\n",
      "              4 COMPARE_OP               4 (>)\n",
      "              6 POP_JUMP_IF_TRUE        12\n",
      "              8 LOAD_GLOBAL              0 (AssertionError)\n",
      "             10 RAISE_VARARGS            1\n",
      "\n",
      "  7     >>   12 LOAD_FAST                0 (number)\n",
      "             14 LOAD_CONST               2 ((1, 2))\n",
      "             16 COMPARE_OP               6 (in)\n",
      "             18 POP_JUMP_IF_FALSE       26\n",
      "\n",
      "  8          20 LOAD_CONST               3 (1)\n",
      "             22 STORE_FAST               1 (result)\n",
      "             24 JUMP_FORWARD            24 (to 50)\n",
      "\n",
      " 10     >>   26 LOAD_GLOBAL              1 (fib_recursive)\n",
      "             28 LOAD_FAST                0 (number)\n",
      "             30 LOAD_CONST               3 (1)\n",
      "             32 BINARY_SUBTRACT\n",
      "             34 CALL_FUNCTION            1\n",
      "             36 LOAD_GLOBAL              1 (fib_recursive)\n",
      "             38 LOAD_FAST                0 (number)\n",
      "             40 LOAD_CONST               4 (2)\n",
      "             42 BINARY_SUBTRACT\n",
      "             44 CALL_FUNCTION            1\n",
      "             46 BINARY_ADD\n",
      "             48 STORE_FAST               1 (result)\n",
      "\n",
      " 12     >>   50 LOAD_FAST                1 (result)\n",
      "             52 RETURN_VALUE\n"
     ]
    }
   ],
   "source": [
    "import dis\n",
    "dis.dis(fib_recursive)"
   ]
  },
  {
   "cell_type": "markdown",
   "metadata": {
    "slideshow": {
     "slide_type": "slide"
    }
   },
   "source": [
    "### (switch to 3_O kernel)"
   ]
  },
  {
   "cell_type": "code",
   "execution_count": 1,
   "metadata": {
    "scrolled": true,
    "slideshow": {
     "slide_type": "slide"
    }
   },
   "outputs": [
    {
     "ename": "RecursionError",
     "evalue": "maximum recursion depth exceeded in comparison",
     "output_type": "error",
     "traceback": [
      "\u001b[0;31m---------------------------------------------------------------------------\u001b[0m",
      "\u001b[0;31mRecursionError\u001b[0m                            Traceback (most recent call last)",
      "\u001b[0;32m<ipython-input-1-24dcd6d0590a>\u001b[0m in \u001b[0;36m<module>\u001b[0;34m()\u001b[0m\n\u001b[1;32m     14\u001b[0m     \u001b[0;32mreturn\u001b[0m \u001b[0mresult\u001b[0m\u001b[0;34m\u001b[0m\u001b[0;34m\u001b[0m\u001b[0m\n\u001b[1;32m     15\u001b[0m \u001b[0;34m\u001b[0m\u001b[0m\n\u001b[0;32m---> 16\u001b[0;31m \u001b[0mfib_recursive\u001b[0m\u001b[0;34m(\u001b[0m\u001b[0;34m-\u001b[0m\u001b[0;36m6\u001b[0m\u001b[0;34m)\u001b[0m\u001b[0;34m\u001b[0m\u001b[0;34m\u001b[0m\u001b[0m\n\u001b[0m",
      "\u001b[0;32m<ipython-input-1-24dcd6d0590a>\u001b[0m in \u001b[0;36mfib_recursive\u001b[0;34m(number)\u001b[0m\n\u001b[1;32m     10\u001b[0m         \u001b[0mresult\u001b[0m \u001b[0;34m=\u001b[0m \u001b[0;36m1\u001b[0m\u001b[0;34m\u001b[0m\u001b[0;34m\u001b[0m\u001b[0m\n\u001b[1;32m     11\u001b[0m     \u001b[0;32melse\u001b[0m\u001b[0;34m:\u001b[0m\u001b[0;34m\u001b[0m\u001b[0;34m\u001b[0m\u001b[0m\n\u001b[0;32m---> 12\u001b[0;31m         \u001b[0mresult\u001b[0m \u001b[0;34m=\u001b[0m  \u001b[0mfib_recursive\u001b[0m\u001b[0;34m(\u001b[0m\u001b[0mnumber\u001b[0m \u001b[0;34m-\u001b[0m \u001b[0;36m1\u001b[0m\u001b[0;34m)\u001b[0m \u001b[0;34m+\u001b[0m \u001b[0mfib_recursive\u001b[0m\u001b[0;34m(\u001b[0m\u001b[0mnumber\u001b[0m \u001b[0;34m-\u001b[0m \u001b[0;36m2\u001b[0m\u001b[0;34m)\u001b[0m\u001b[0;34m\u001b[0m\u001b[0;34m\u001b[0m\u001b[0m\n\u001b[0m\u001b[1;32m     13\u001b[0m \u001b[0;34m\u001b[0m\u001b[0m\n\u001b[1;32m     14\u001b[0m     \u001b[0;32mreturn\u001b[0m \u001b[0mresult\u001b[0m\u001b[0;34m\u001b[0m\u001b[0;34m\u001b[0m\u001b[0m\n",
      "... last 1 frames repeated, from the frame below ...\n",
      "\u001b[0;32m<ipython-input-1-24dcd6d0590a>\u001b[0m in \u001b[0;36mfib_recursive\u001b[0;34m(number)\u001b[0m\n\u001b[1;32m     10\u001b[0m         \u001b[0mresult\u001b[0m \u001b[0;34m=\u001b[0m \u001b[0;36m1\u001b[0m\u001b[0;34m\u001b[0m\u001b[0;34m\u001b[0m\u001b[0m\n\u001b[1;32m     11\u001b[0m     \u001b[0;32melse\u001b[0m\u001b[0;34m:\u001b[0m\u001b[0;34m\u001b[0m\u001b[0;34m\u001b[0m\u001b[0m\n\u001b[0;32m---> 12\u001b[0;31m         \u001b[0mresult\u001b[0m \u001b[0;34m=\u001b[0m  \u001b[0mfib_recursive\u001b[0m\u001b[0;34m(\u001b[0m\u001b[0mnumber\u001b[0m \u001b[0;34m-\u001b[0m \u001b[0;36m1\u001b[0m\u001b[0;34m)\u001b[0m \u001b[0;34m+\u001b[0m \u001b[0mfib_recursive\u001b[0m\u001b[0;34m(\u001b[0m\u001b[0mnumber\u001b[0m \u001b[0;34m-\u001b[0m \u001b[0;36m2\u001b[0m\u001b[0;34m)\u001b[0m\u001b[0;34m\u001b[0m\u001b[0;34m\u001b[0m\u001b[0m\n\u001b[0m\u001b[1;32m     13\u001b[0m \u001b[0;34m\u001b[0m\u001b[0m\n\u001b[1;32m     14\u001b[0m     \u001b[0;32mreturn\u001b[0m \u001b[0mresult\u001b[0m\u001b[0;34m\u001b[0m\u001b[0;34m\u001b[0m\u001b[0m\n",
      "\u001b[0;31mRecursionError\u001b[0m: maximum recursion depth exceeded in comparison"
     ]
    }
   ],
   "source": [
    "# WITH -O flag\n",
    "\n",
    "# fibonacci with recursion\n",
    "\n",
    "def fib_recursive(number):\n",
    "\n",
    "    assert number > 0\n",
    "    \n",
    "    if number in [1, 2]:\n",
    "        result = 1\n",
    "    else:\n",
    "        result =  fib_recursive(number - 1) + fib_recursive(number - 2)\n",
    "    \n",
    "    return result\n",
    "\n",
    "fib_recursive(-6)"
   ]
  },
  {
   "cell_type": "code",
   "execution_count": 2,
   "metadata": {
    "slideshow": {
     "slide_type": "slide"
    }
   },
   "outputs": [
    {
     "name": "stdout",
     "output_type": "stream",
     "text": [
      "  9           0 LOAD_FAST                0 (number)\n",
      "              2 LOAD_CONST               1 ((1, 2))\n",
      "              4 COMPARE_OP               6 (in)\n",
      "              6 POP_JUMP_IF_FALSE       14\n",
      "\n",
      " 10           8 LOAD_CONST               2 (1)\n",
      "             10 STORE_FAST               1 (result)\n",
      "             12 JUMP_FORWARD            24 (to 38)\n",
      "\n",
      " 12     >>   14 LOAD_GLOBAL              0 (fib_recursive)\n",
      "             16 LOAD_FAST                0 (number)\n",
      "             18 LOAD_CONST               2 (1)\n",
      "             20 BINARY_SUBTRACT\n",
      "             22 CALL_FUNCTION            1\n",
      "             24 LOAD_GLOBAL              0 (fib_recursive)\n",
      "             26 LOAD_FAST                0 (number)\n",
      "             28 LOAD_CONST               3 (2)\n",
      "             30 BINARY_SUBTRACT\n",
      "             32 CALL_FUNCTION            1\n",
      "             34 BINARY_ADD\n",
      "             36 STORE_FAST               1 (result)\n",
      "\n",
      " 14     >>   38 LOAD_FAST                1 (result)\n",
      "             40 RETURN_VALUE\n"
     ]
    }
   ],
   "source": [
    "import dis\n",
    "dis.dis(fib_recursive)\n",
    " "
   ]
  },
  {
   "cell_type": "markdown",
   "metadata": {
    "slideshow": {
     "slide_type": "slide"
    }
   },
   "source": [
    "#### `assert` with two expressions\n",
    "\n",
    "`assert <expression_1>, <expression_2>`\n",
    "\n",
    "is equivalent to:\n",
    "\n",
    "```\n",
    "if __debug__:\n",
    "    if not <expression_1>:\n",
    "        raise AssertionError(<expression_2>)\n",
    "```"
   ]
  },
  {
   "cell_type": "markdown",
   "metadata": {
    "slideshow": {
     "slide_type": "slide"
    }
   },
   "source": [
    "### (switch to 3 kernel)"
   ]
  },
  {
   "cell_type": "code",
   "execution_count": 1,
   "metadata": {
    "slideshow": {
     "slide_type": "slide"
    }
   },
   "outputs": [
    {
     "ename": "AssertionError",
     "evalue": "-6 is not > 0",
     "output_type": "error",
     "traceback": [
      "\u001b[0;31m---------------------------------------------------------------------------\u001b[0m",
      "\u001b[0;31mAssertionError\u001b[0m                            Traceback (most recent call last)",
      "\u001b[0;32m<ipython-input-1-8e1c0ffaeecc>\u001b[0m in \u001b[0;36m<module>\u001b[0;34m()\u001b[0m\n\u001b[1;32m      8\u001b[0m     \u001b[0;32mreturn\u001b[0m \u001b[0mresult\u001b[0m\u001b[0;34m\u001b[0m\u001b[0;34m\u001b[0m\u001b[0m\n\u001b[1;32m      9\u001b[0m \u001b[0;34m\u001b[0m\u001b[0m\n\u001b[0;32m---> 10\u001b[0;31m \u001b[0mfib_recursive\u001b[0m\u001b[0;34m(\u001b[0m\u001b[0;34m-\u001b[0m\u001b[0;36m6\u001b[0m\u001b[0;34m)\u001b[0m\u001b[0;34m\u001b[0m\u001b[0;34m\u001b[0m\u001b[0m\n\u001b[0m",
      "\u001b[0;32m<ipython-input-1-8e1c0ffaeecc>\u001b[0m in \u001b[0;36mfib_recursive\u001b[0;34m(number)\u001b[0m\n\u001b[1;32m      3\u001b[0m \u001b[0;32mdef\u001b[0m \u001b[0mfib_recursive\u001b[0m\u001b[0;34m(\u001b[0m\u001b[0mnumber\u001b[0m\u001b[0;34m)\u001b[0m\u001b[0;34m:\u001b[0m\u001b[0;34m\u001b[0m\u001b[0;34m\u001b[0m\u001b[0m\n\u001b[1;32m      4\u001b[0m \u001b[0;34m\u001b[0m\u001b[0m\n\u001b[0;32m----> 5\u001b[0;31m     \u001b[0;32massert\u001b[0m \u001b[0mnumber\u001b[0m \u001b[0;34m>\u001b[0m \u001b[0;36m0\u001b[0m\u001b[0;34m,\u001b[0m \u001b[0;34mf\"{number} is not > 0\"\u001b[0m\u001b[0;34m\u001b[0m\u001b[0;34m\u001b[0m\u001b[0m\n\u001b[0m\u001b[1;32m      6\u001b[0m     \u001b[0mresult\u001b[0m \u001b[0;34m=\u001b[0m \u001b[0;36m1\u001b[0m\u001b[0;34m\u001b[0m\u001b[0;34m\u001b[0m\u001b[0m\n\u001b[1;32m      7\u001b[0m     \u001b[0mresult\u001b[0m \u001b[0;34m=\u001b[0m  \u001b[0mfib_recursive\u001b[0m\u001b[0;34m(\u001b[0m\u001b[0mnumber\u001b[0m \u001b[0;34m-\u001b[0m \u001b[0;36m1\u001b[0m\u001b[0;34m)\u001b[0m \u001b[0;34m+\u001b[0m \u001b[0mfib_recursive\u001b[0m\u001b[0;34m(\u001b[0m\u001b[0mnumber\u001b[0m \u001b[0;34m-\u001b[0m \u001b[0;36m2\u001b[0m\u001b[0;34m)\u001b[0m\u001b[0;34m\u001b[0m\u001b[0;34m\u001b[0m\u001b[0m\n",
      "\u001b[0;31mAssertionError\u001b[0m: -6 is not > 0"
     ]
    }
   ],
   "source": [
    "# fibonacci with recursion\n",
    "\n",
    "def fib_recursive(number):\n",
    "\n",
    "    assert number > 0, f\"{number} is not > 0\" \n",
    "    result = 1\n",
    "    result =  fib_recursive(number - 1) + fib_recursive(number - 2)\n",
    "    return result\n",
    "\n",
    "fib_recursive(-6)"
   ]
  },
  {
   "cell_type": "code",
   "execution_count": 2,
   "metadata": {
    "scrolled": true,
    "slideshow": {
     "slide_type": "slide"
    }
   },
   "outputs": [
    {
     "name": "stdout",
     "output_type": "stream",
     "text": [
      "  5           0 LOAD_FAST                0 (number)\n",
      "              2 LOAD_CONST               1 (0)\n",
      "              4 COMPARE_OP               4 (>)\n",
      "              6 POP_JUMP_IF_TRUE        22\n",
      "              8 LOAD_GLOBAL              0 (AssertionError)\n",
      "             10 LOAD_FAST                0 (number)\n",
      "             12 FORMAT_VALUE             0\n",
      "             14 LOAD_CONST               2 (' is not > 0')\n",
      "             16 BUILD_STRING             2\n",
      "             18 CALL_FUNCTION            1\n",
      "             20 RAISE_VARARGS            1\n",
      "\n",
      "  6     >>   22 LOAD_CONST               3 (1)\n",
      "             24 STORE_FAST               1 (result)\n",
      "\n",
      "  7          26 LOAD_GLOBAL              1 (fib_recursive)\n",
      "             28 LOAD_FAST                0 (number)\n",
      "             30 LOAD_CONST               3 (1)\n",
      "             32 BINARY_SUBTRACT\n",
      "             34 CALL_FUNCTION            1\n",
      "             36 LOAD_GLOBAL              1 (fib_recursive)\n",
      "             38 LOAD_FAST                0 (number)\n",
      "             40 LOAD_CONST               4 (2)\n",
      "             42 BINARY_SUBTRACT\n",
      "             44 CALL_FUNCTION            1\n",
      "             46 BINARY_ADD\n",
      "             48 STORE_FAST               1 (result)\n",
      "\n",
      "  8          50 LOAD_FAST                1 (result)\n",
      "             52 RETURN_VALUE\n"
     ]
    }
   ],
   "source": [
    "import dis\n",
    "dis.dis(fib_recursive) "
   ]
  },
  {
   "cell_type": "markdown",
   "metadata": {
    "slideshow": {
     "slide_type": "slide"
    }
   },
   "source": [
    "### pdb (Python Debugger)\n",
    "\n",
    "* interactive source debugger\n",
    "* break points, single stepping, evaluation, etc\n",
    "* post-mortem\n",
    "* programmatic debugging"
   ]
  },
  {
   "cell_type": "markdown",
   "metadata": {
    "slideshow": {
     "slide_type": "subslide"
    }
   },
   "source": [
    "### Debugging a running program\n",
    "\n",
    "`import pdb; pdb.set_trace()`"
   ]
  },
  {
   "cell_type": "markdown",
   "metadata": {
    "slideshow": {
     "slide_type": "subslide"
    }
   },
   "source": [
    "### `breakpoint()` \n",
    "\n",
    "`breakpoint(*args, **kws)`\n",
    "\n",
    "This function drops you into the debugger at the call site. Specifically, it calls `sys.breakpointhook()`, \n",
    "passing args and kws straight through. By default, `sys.breakpointhook()` calls `pdb.set_trace()` \n",
    "expecting no arguments. In this case, it is purely a convenience function so you don’t have to \n",
    "explicitly import pdb or type as much code to enter the debugger. However, `sys.breakpointhook()` \n",
    "can be set to some other function and `breakpoint()` will automatically call that, allowing you \n",
    "to drop into the debugger of choice.\n",
    "\n",
    "**New in version 3.7**"
   ]
  },
  {
   "cell_type": "markdown",
   "metadata": {
    "slideshow": {
     "slide_type": "subslide"
    }
   },
   "source": [
    "### Debugging a script\n",
    "\n",
    "`python -m pdb myscript.py`\n",
    "\n",
    "or\n",
    "\n",
    "```\n",
    "import pdb\n",
    "import test_module\n",
    "pdb.run(test_module.my_funct())\n",
    "```\n"
   ]
  },
  {
   "cell_type": "markdown",
   "metadata": {
    "slideshow": {
     "slide_type": "subslide"
    }
   },
   "source": [
    "### Debugging a function\n",
    "\n",
    "```\n",
    "import pdb\n",
    "import test_module\n",
    "pdb.runcall(test_module.my_funct, 2)\n",
    "```\n"
   ]
  },
  {
   "cell_type": "markdown",
   "metadata": {
    "slideshow": {
     "slide_type": "subslide"
    }
   },
   "source": [
    "#### pdb commands\n",
    "\n",
    "```\n",
    "c - continue\n",
    "s - step\n",
    "n - next\n",
    "a - arguments\n",
    "b - breakpoints\n",
    "cl - clear breakpoints\n",
    "w - stack trace\n",
    "p - print expression\n",
    "pp - pretty print expression\n",
    "l, ll - list code\n",
    "```\n",
    "\n",
    "(and many others - see documentation)"
   ]
  },
  {
   "cell_type": "code",
   "execution_count": 3,
   "metadata": {
    "scrolled": true,
    "slideshow": {
     "slide_type": "subslide"
    }
   },
   "outputs": [
    {
     "name": "stdout",
     "output_type": "stream",
     "text": [
      "> <ipython-input-3-6a68ab00cd75>(12)fib_recursive()\n",
      "-> return result\n",
      "(Pdb) n\n",
      "--Return--\n",
      "> <ipython-input-3-6a68ab00cd75>(12)fib_recursive()->1\n",
      "-> return result\n",
      "(Pdb) p number\n",
      "2\n",
      "(Pdb) n\n",
      "--Call--\n",
      "> <ipython-input-3-6a68ab00cd75>(3)fib_recursive()\n",
      "-> def fib_recursive(number):\n",
      "(Pdb) p number\n",
      "1\n",
      "(Pdb) n\n",
      "> <ipython-input-3-6a68ab00cd75>(5)fib_recursive()\n",
      "-> if number in [1, 2]:\n",
      "(Pdb) ll \n",
      "  3  \tdef fib_recursive(number):\n",
      "  4  \t\n",
      "  5  ->\t    if number in [1, 2]:\n",
      "  6  \t        result = 1\n",
      "  7  \t    else:\n",
      "  8  \t        result =  fib_recursive(number - 1) + fib_recursive(number - 2)\n",
      "  9  \t\n",
      " 10  \t    import pdb; pdb.set_trace()\n",
      " 11  \t    # breakpoint()\n",
      " 12  \t    return result\n",
      "(Pdb) n\n",
      "> <ipython-input-3-6a68ab00cd75>(6)fib_recursive()\n",
      "-> result = 1\n",
      "(Pdb) n\n",
      "> <ipython-input-3-6a68ab00cd75>(10)fib_recursive()\n",
      "-> import pdb; pdb.set_trace()\n",
      "(Pdb) c\n",
      "> <ipython-input-3-6a68ab00cd75>(12)fib_recursive()\n",
      "-> return result\n",
      "(Pdb) c\n",
      "> <ipython-input-3-6a68ab00cd75>(12)fib_recursive()\n",
      "-> return result\n",
      "(Pdb) c\n"
     ]
    },
    {
     "data": {
      "text/plain": [
       "2"
      ]
     },
     "execution_count": 3,
     "metadata": {},
     "output_type": "execute_result"
    }
   ],
   "source": [
    "# fibonacci with recursion\n",
    "\n",
    "def fib_recursive(number):\n",
    "\n",
    "    if number in [1, 2]:\n",
    "        result = 1\n",
    "    else:\n",
    "        result =  fib_recursive(number - 1) + fib_recursive(number - 2)\n",
    "    \n",
    "    import pdb; pdb.set_trace() \n",
    "    # breakpoint()\n",
    "    return result\n",
    "\n",
    "\n",
    "\n",
    "fib_recursive(3 )"
   ]
  },
  {
   "cell_type": "markdown",
   "metadata": {
    "slideshow": {
     "slide_type": "slide"
    }
   },
   "source": [
    "## Step through your favorite script\n",
    "\n",
    "Take a few minutes and add and use the `import pdb; pdb.set_trace()` to step through some code. \n",
    "\n",
    "Optionally, use the dis module to disassemble a small function. "
   ]
  },
  {
   "cell_type": "markdown",
   "metadata": {
    "slideshow": {
     "slide_type": "slide"
    }
   },
   "source": [
    "## Profiling\n",
    "\n",
    "Getting a picture of how the code uses resources"
   ]
  },
  {
   "cell_type": "markdown",
   "metadata": {
    "slideshow": {
     "slide_type": "slide"
    }
   },
   "source": [
    "### Performance testing code sections"
   ]
  },
  {
   "cell_type": "markdown",
   "metadata": {
    "slideshow": {
     "slide_type": "slide"
    }
   },
   "source": [
    "### tools"
   ]
  },
  {
   "cell_type": "markdown",
   "metadata": {
    "slideshow": {
     "slide_type": "slide"
    }
   },
   "source": [
    "#### profile and trace\n",
    "\n",
    "* cProfile\n",
    "* trace"
   ]
  },
  {
   "cell_type": "code",
   "execution_count": 4,
   "metadata": {},
   "outputs": [],
   "source": [
    "def fib_recursive(number):\n",
    "\n",
    "    if number  in [1, 2]:\n",
    "        result = 1\n",
    "    else:\n",
    "        result =  fib_recursive(number - 1) + fib_recursive(number - 2)\n",
    "    \n",
    "    return result\n"
   ]
  },
  {
   "cell_type": "code",
   "execution_count": 5,
   "metadata": {
    "slideshow": {
     "slide_type": "subslide"
    }
   },
   "outputs": [
    {
     "name": "stdout",
     "output_type": "stream",
     "text": [
      "         150052 function calls (4 primitive calls) in 0.058 seconds\n",
      "\n",
      "   Ordered by: standard name\n",
      "\n",
      "   ncalls  tottime  percall  cumtime  percall filename:lineno(function)\n",
      " 150049/1    0.058    0.000    0.058    0.058 <ipython-input-4-6d54bdd8d386>:1(fib_recursive)\n",
      "        1    0.000    0.000    0.058    0.058 <string>:1(<module>)\n",
      "        1    0.000    0.000    0.058    0.058 {built-in method builtins.exec}\n",
      "        1    0.000    0.000    0.000    0.000 {method 'disable' of '_lsprof.Profiler' objects}\n",
      "\n",
      "\n"
     ]
    }
   ],
   "source": [
    "import cProfile\n",
    "cProfile.run('fib_recursive(25)')\n"
   ]
  },
  {
   "cell_type": "code",
   "execution_count": 6,
   "metadata": {
    "slideshow": {
     "slide_type": "subslide"
    }
   },
   "outputs": [
    {
     "name": "stdout",
     "output_type": "stream",
     "text": [
      "         214 function calls (207 primitive calls) in 0.000 seconds\n",
      "\n",
      "   Ordered by: standard name\n",
      "\n",
      "   ncalls  tottime  percall  cumtime  percall filename:lineno(function)\n",
      "        1    0.000    0.000    0.000    0.000 <string>:1(<module>)\n",
      "        2    0.000    0.000    0.000    0.000 enum.py:284(__call__)\n",
      "        2    0.000    0.000    0.000    0.000 enum.py:526(__new__)\n",
      "        1    0.000    0.000    0.000    0.000 enum.py:836(__and__)\n",
      "        1    0.000    0.000    0.000    0.000 re.py:232(compile)\n",
      "        1    0.000    0.000    0.000    0.000 re.py:271(_compile)\n",
      "        1    0.000    0.000    0.000    0.000 sre_compile.py:249(_compile_charset)\n",
      "        1    0.000    0.000    0.000    0.000 sre_compile.py:276(_optimize_charset)\n",
      "        2    0.000    0.000    0.000    0.000 sre_compile.py:453(_get_iscased)\n",
      "        1    0.000    0.000    0.000    0.000 sre_compile.py:461(_get_literal_prefix)\n",
      "        1    0.000    0.000    0.000    0.000 sre_compile.py:492(_get_charset_prefix)\n",
      "        1    0.000    0.000    0.000    0.000 sre_compile.py:536(_compile_info)\n",
      "        2    0.000    0.000    0.000    0.000 sre_compile.py:595(isstring)\n",
      "        1    0.000    0.000    0.000    0.000 sre_compile.py:598(_code)\n",
      "      3/1    0.000    0.000    0.000    0.000 sre_compile.py:71(_compile)\n",
      "        1    0.000    0.000    0.000    0.000 sre_compile.py:759(compile)\n",
      "        3    0.000    0.000    0.000    0.000 sre_parse.py:111(__init__)\n",
      "        7    0.000    0.000    0.000    0.000 sre_parse.py:160(__len__)\n",
      "       18    0.000    0.000    0.000    0.000 sre_parse.py:164(__getitem__)\n",
      "        7    0.000    0.000    0.000    0.000 sre_parse.py:172(append)\n",
      "      3/1    0.000    0.000    0.000    0.000 sre_parse.py:174(getwidth)\n",
      "        1    0.000    0.000    0.000    0.000 sre_parse.py:224(__init__)\n",
      "        8    0.000    0.000    0.000    0.000 sre_parse.py:233(__next)\n",
      "        2    0.000    0.000    0.000    0.000 sre_parse.py:249(match)\n",
      "        6    0.000    0.000    0.000    0.000 sre_parse.py:254(get)\n",
      "        1    0.000    0.000    0.000    0.000 sre_parse.py:286(tell)\n",
      "        1    0.000    0.000    0.000    0.000 sre_parse.py:417(_parse_sub)\n",
      "        2    0.000    0.000    0.000    0.000 sre_parse.py:475(_parse)\n",
      "        1    0.000    0.000    0.000    0.000 sre_parse.py:76(__init__)\n",
      "        2    0.000    0.000    0.000    0.000 sre_parse.py:81(groups)\n",
      "        1    0.000    0.000    0.000    0.000 sre_parse.py:903(fix_flags)\n",
      "        1    0.000    0.000    0.000    0.000 sre_parse.py:919(parse)\n",
      "        1    0.000    0.000    0.000    0.000 {built-in method _sre.compile}\n",
      "        1    0.000    0.000    0.000    0.000 {built-in method builtins.exec}\n",
      "       25    0.000    0.000    0.000    0.000 {built-in method builtins.isinstance}\n",
      "    29/26    0.000    0.000    0.000    0.000 {built-in method builtins.len}\n",
      "        2    0.000    0.000    0.000    0.000 {built-in method builtins.max}\n",
      "        9    0.000    0.000    0.000    0.000 {built-in method builtins.min}\n",
      "        6    0.000    0.000    0.000    0.000 {built-in method builtins.ord}\n",
      "       48    0.000    0.000    0.000    0.000 {method 'append' of 'list' objects}\n",
      "        1    0.000    0.000    0.000    0.000 {method 'disable' of '_lsprof.Profiler' objects}\n",
      "        5    0.000    0.000    0.000    0.000 {method 'find' of 'bytearray' objects}\n",
      "        1    0.000    0.000    0.000    0.000 {method 'items' of 'dict' objects}\n",
      "\n",
      "\n"
     ]
    }
   ],
   "source": [
    "import re\n",
    "cProfile.run('re.compile(\"foo|bar\")')\n"
   ]
  },
  {
   "cell_type": "code",
   "execution_count": 7,
   "metadata": {
    "slideshow": {
     "slide_type": "subslide"
    }
   },
   "outputs": [
    {
     "name": "stdout",
     "output_type": "stream",
     "text": [
      " --- modulename: re, funcname: compile\n",
      "re.py(234):     return _compile(pattern, flags)\n",
      " --- modulename: re, funcname: _compile\n",
      "re.py(273):     if isinstance(flags, RegexFlag):\n",
      "re.py(275):     try:\n",
      "re.py(276):         return _cache[type(pattern), pattern, flags]\n"
     ]
    }
   ],
   "source": [
    "# trace\n",
    "\n",
    "import sys\n",
    "import trace\n",
    "\n",
    "# create a Trace object, telling it what to ignore, and whether to\n",
    "# do tracing or line-counting or both.\n",
    "tracer = trace.Trace(\n",
    "    ignoredirs=[sys.prefix, sys.exec_prefix],\n",
    "    trace=1,\n",
    "    count=1)\n",
    "\n",
    "tracer.run('re.compile(\"foo|bar\")')\n",
    "\n",
    "# make a report, placing output in the current directory\n",
    "r = tracer.results()\n",
    "r.write_results(show_missing=True, coverdir=\".\")"
   ]
  },
  {
   "cell_type": "code",
   "execution_count": 8,
   "metadata": {
    "slideshow": {
     "slide_type": "subslide"
    }
   },
   "outputs": [
    {
     "name": "stdout",
     "output_type": "stream",
     "text": [
      "       #\n",
      "       # Secret Labs' Regular Expression Engine\n",
      "       #\n",
      "       # re-compatible interface for the sre matching engine\n",
      "       #\n",
      "       # Copyright (c) 1998-2001 by Secret Labs AB.  All rights reserved.\n",
      "       #\n",
      "       # This version of the SRE library can be redistributed under CNRI's\n",
      "       # Python 1.6 license.  For any other use, please contact Secret Labs\n",
      "       # AB (info@pythonware.com).\n",
      "       #\n",
      "       # Portions of this engine have been developed in cooperation with\n",
      "       # CNRI.  Hewlett-Packard provided funding for 1.6 integration and\n",
      "       # other compatibility work.\n",
      "       #\n",
      "       \n",
      "       r\"\"\"Support for regular expressions (RE).\n",
      "       \n",
      "       This module provides regular expression matching operations similar to\n",
      "       those found in Perl.  It supports both 8-bit and Unicode strings; both\n",
      "       the pattern and the strings being processed can contain null bytes and\n",
      "       characters outside the US ASCII range.\n",
      "       \n",
      "       Regular expressions can contain both special and ordinary characters.\n",
      "       Most ordinary characters, like \"A\", \"a\", or \"0\", are the simplest\n",
      "       regular expressions; they simply match themselves.  You can\n",
      "       concatenate ordinary characters, so last matches the string 'last'.\n",
      "       \n",
      "       The special characters are:\n",
      "           \".\"      Matches any character except a newline.\n",
      "           \"^\"      Matches the start of the string.\n",
      "           \"$\"      Matches the end of the string or just before the newline at\n",
      "                    the end of the string.\n",
      "           \"*\"      Matches 0 or more (greedy) repetitions of the preceding RE.\n",
      "                    Greedy means that it will match as many repetitions as possible.\n",
      "           \"+\"      Matches 1 or more (greedy) repetitions of the preceding RE.\n",
      "           \"?\"      Matches 0 or 1 (greedy) of the preceding RE.\n",
      "           *?,+?,?? Non-greedy versions of the previous three special characters.\n",
      "           {m,n}    Matches from m to n repetitions of the preceding RE.\n",
      "           {m,n}?   Non-greedy version of the above.\n",
      "           \"\\\\\"     Either escapes special characters or signals a special sequence.\n",
      "           []       Indicates a set of characters.\n",
      "                    A \"^\" as the first character indicates a complementing set.\n",
      "           \"|\"      A|B, creates an RE that will match either A or B.\n",
      "           (...)    Matches the RE inside the parentheses.\n",
      "                    The contents can be retrieved or matched later in the string.\n",
      "           (?aiLmsux) Set the A, I, L, M, S, U, or X flag for the RE (see below).\n",
      "           (?:...)  Non-grouping version of regular parentheses.\n",
      "           (?P<name>...) The substring matched by the group is accessible by name.\n",
      "           (?P=name)     Matches the text matched earlier by the group named name.\n",
      "           (?#...)  A comment; ignored.\n",
      "           (?=...)  Matches if ... matches next, but doesn't consume the string.\n",
      "           (?!...)  Matches if ... doesn't match next.\n",
      "           (?<=...) Matches if preceded by ... (must be fixed length).\n",
      "           (?<!...) Matches if not preceded by ... (must be fixed length).\n",
      "           (?(id/name)yes|no) Matches yes pattern if the group with id/name matched,\n",
      "                              the (optional) no pattern otherwise.\n",
      "       \n",
      "       The special sequences consist of \"\\\\\" and a character from the list\n",
      "       below.  If the ordinary character is not on the list, then the\n",
      "       resulting RE will match the second character.\n",
      "           \\number  Matches the contents of the group of the same number.\n",
      "           \\A       Matches only at the start of the string.\n",
      "           \\Z       Matches only at the end of the string.\n",
      "           \\b       Matches the empty string, but only at the start or end of a word.\n",
      "           \\B       Matches the empty string, but not at the start or end of a word.\n",
      "           \\d       Matches any decimal digit; equivalent to the set [0-9] in\n",
      "                    bytes patterns or string patterns with the ASCII flag.\n",
      "                    In string patterns without the ASCII flag, it will match the whole\n",
      "                    range of Unicode digits.\n",
      "           \\D       Matches any non-digit character; equivalent to [^\\d].\n",
      "           \\s       Matches any whitespace character; equivalent to [ \\t\\n\\r\\f\\v] in\n",
      "                    bytes patterns or string patterns with the ASCII flag.\n",
      "                    In string patterns without the ASCII flag, it will match the whole\n",
      "                    range of Unicode whitespace characters.\n",
      "           \\S       Matches any non-whitespace character; equivalent to [^\\s].\n",
      "           \\w       Matches any alphanumeric character; equivalent to [a-zA-Z0-9_]\n",
      "                    in bytes patterns or string patterns with the ASCII flag.\n",
      "                    In string patterns without the ASCII flag, it will match the\n",
      "                    range of Unicode alphanumeric characters (letters plus digits\n",
      "                    plus underscore).\n",
      "                    With LOCALE, it will match the set [0-9_] plus characters defined\n",
      "                    as letters for the current locale.\n",
      "           \\W       Matches the complement of \\w.\n",
      "           \\\\       Matches a literal backslash.\n",
      "       \n",
      "       This module exports the following functions:\n",
      "           match     Match a regular expression pattern to the beginning of a string.\n",
      "           fullmatch Match a regular expression pattern to all of a string.\n",
      "           search    Search a string for the presence of a pattern.\n",
      "           sub       Substitute occurrences of a pattern found in a string.\n",
      "           subn      Same as sub, but also return the number of substitutions made.\n",
      "           split     Split a string by the occurrences of a pattern.\n",
      "           findall   Find all occurrences of a pattern in a string.\n",
      "           finditer  Return an iterator yielding a Match object for each match.\n",
      "           compile   Compile a pattern into a Pattern object.\n",
      "           purge     Clear the regular expression cache.\n",
      "           escape    Backslash all non-alphanumerics in a string.\n",
      "       \n",
      "       Some of the functions in this module takes flags as optional parameters:\n",
      "           A  ASCII       For string patterns, make \\w, \\W, \\b, \\B, \\d, \\D\n",
      "                          match the corresponding ASCII character categories\n",
      "                          (rather than the whole Unicode categories, which is the\n",
      "                          default).\n",
      "                          For bytes patterns, this flag is the only available\n",
      "                          behaviour and needn't be specified.\n",
      "           I  IGNORECASE  Perform case-insensitive matching.\n",
      "           L  LOCALE      Make \\w, \\W, \\b, \\B, dependent on the current locale.\n",
      "           M  MULTILINE   \"^\" matches the beginning of lines (after a newline)\n",
      "                          as well as the string.\n",
      "                          \"$\" matches the end of lines (before a newline) as well\n",
      "                          as the end of the string.\n",
      "           S  DOTALL      \".\" matches any character at all, including the newline.\n",
      "           X  VERBOSE     Ignore whitespace and comments for nicer looking RE's.\n",
      "           U  UNICODE     For compatibility only. Ignored for string patterns (it\n",
      "                          is the default), and forbidden for bytes patterns.\n",
      "       \n",
      "       This module also defines an exception 'error'.\n",
      "       \n",
      ">>>>>> \"\"\"\n",
      "       \n",
      ">>>>>> import enum\n",
      ">>>>>> import sre_compile\n",
      ">>>>>> import sre_parse\n",
      ">>>>>> import functools\n",
      ">>>>>> try:\n",
      ">>>>>>     import _locale\n",
      ">>>>>> except ImportError:\n",
      ">>>>>>     _locale = None\n",
      "       \n",
      "       \n",
      "       # public symbols\n",
      "       __all__ = [\n",
      ">>>>>>     \"match\", \"fullmatch\", \"search\", \"sub\", \"subn\", \"split\",\n",
      ">>>>>>     \"findall\", \"finditer\", \"compile\", \"purge\", \"template\", \"escape\",\n",
      ">>>>>>     \"error\", \"Pattern\", \"Match\", \"A\", \"I\", \"L\", \"M\", \"S\", \"X\", \"U\",\n",
      ">>>>>>     \"ASCII\", \"IGNORECASE\", \"LOCALE\", \"MULTILINE\", \"DOTALL\", \"VERBOSE\",\n",
      ">>>>>>     \"UNICODE\",\n",
      "       ]\n",
      "       \n",
      ">>>>>> __version__ = \"2.2.1\"\n",
      "       \n",
      ">>>>>> class RegexFlag(enum.IntFlag):\n",
      ">>>>>>     ASCII = sre_compile.SRE_FLAG_ASCII # assume ascii \"locale\"\n",
      ">>>>>>     IGNORECASE = sre_compile.SRE_FLAG_IGNORECASE # ignore case\n",
      ">>>>>>     LOCALE = sre_compile.SRE_FLAG_LOCALE # assume current 8-bit locale\n",
      ">>>>>>     UNICODE = sre_compile.SRE_FLAG_UNICODE # assume unicode \"locale\"\n",
      ">>>>>>     MULTILINE = sre_compile.SRE_FLAG_MULTILINE # make anchors look for newline\n",
      ">>>>>>     DOTALL = sre_compile.SRE_FLAG_DOTALL # make dot match newline\n",
      ">>>>>>     VERBOSE = sre_compile.SRE_FLAG_VERBOSE # ignore whitespace and comments\n",
      ">>>>>>     A = ASCII\n",
      ">>>>>>     I = IGNORECASE\n",
      ">>>>>>     L = LOCALE\n",
      ">>>>>>     U = UNICODE\n",
      ">>>>>>     M = MULTILINE\n",
      ">>>>>>     S = DOTALL\n",
      ">>>>>>     X = VERBOSE\n",
      "           # sre extensions (experimental, don't rely on these)\n",
      ">>>>>>     TEMPLATE = sre_compile.SRE_FLAG_TEMPLATE # disable backtracking\n",
      ">>>>>>     T = TEMPLATE\n",
      ">>>>>>     DEBUG = sre_compile.SRE_FLAG_DEBUG # dump pattern after compilation\n",
      ">>>>>> globals().update(RegexFlag.__members__)\n",
      "       \n",
      "       # sre exception\n",
      ">>>>>> error = sre_compile.error\n",
      "       \n",
      "       # --------------------------------------------------------------------\n",
      "       # public interface\n",
      "       \n",
      ">>>>>> def match(pattern, string, flags=0):\n",
      "           \"\"\"Try to apply the pattern at the start of the string, returning\n",
      "           a Match object, or None if no match was found.\"\"\"\n",
      ">>>>>>     return _compile(pattern, flags).match(string)\n",
      "       \n",
      ">>>>>> def fullmatch(pattern, string, flags=0):\n",
      "           \"\"\"Try to apply the pattern to all of the string, returning\n",
      "           a Match object, or None if no match was found.\"\"\"\n",
      ">>>>>>     return _compile(pattern, flags).fullmatch(string)\n",
      "       \n",
      ">>>>>> def search(pattern, string, flags=0):\n",
      "           \"\"\"Scan through string looking for a match to the pattern, returning\n",
      "           a Match object, or None if no match was found.\"\"\"\n",
      ">>>>>>     return _compile(pattern, flags).search(string)\n",
      "       \n",
      ">>>>>> def sub(pattern, repl, string, count=0, flags=0):\n",
      "           \"\"\"Return the string obtained by replacing the leftmost\n",
      "           non-overlapping occurrences of the pattern in string by the\n",
      "           replacement repl.  repl can be either a string or a callable;\n",
      "           if a string, backslash escapes in it are processed.  If it is\n",
      "           a callable, it's passed the Match object and must return\n",
      "           a replacement string to be used.\"\"\"\n",
      ">>>>>>     return _compile(pattern, flags).sub(repl, string, count)\n",
      "       \n",
      ">>>>>> def subn(pattern, repl, string, count=0, flags=0):\n",
      "           \"\"\"Return a 2-tuple containing (new_string, number).\n",
      "           new_string is the string obtained by replacing the leftmost\n",
      "           non-overlapping occurrences of the pattern in the source\n",
      "           string by the replacement repl.  number is the number of\n",
      "           substitutions that were made. repl can be either a string or a\n",
      "           callable; if a string, backslash escapes in it are processed.\n",
      "           If it is a callable, it's passed the Match object and must\n",
      "           return a replacement string to be used.\"\"\"\n",
      ">>>>>>     return _compile(pattern, flags).subn(repl, string, count)\n",
      "       \n",
      ">>>>>> def split(pattern, string, maxsplit=0, flags=0):\n",
      "           \"\"\"Split the source string by the occurrences of the pattern,\n",
      "           returning a list containing the resulting substrings.  If\n",
      "           capturing parentheses are used in pattern, then the text of all\n",
      "           groups in the pattern are also returned as part of the resulting\n",
      "           list.  If maxsplit is nonzero, at most maxsplit splits occur,\n",
      "           and the remainder of the string is returned as the final element\n",
      "           of the list.\"\"\"\n",
      ">>>>>>     return _compile(pattern, flags).split(string, maxsplit)\n",
      "       \n",
      ">>>>>> def findall(pattern, string, flags=0):\n",
      "           \"\"\"Return a list of all non-overlapping matches in the string.\n",
      "       \n",
      "           If one or more capturing groups are present in the pattern, return\n",
      "           a list of groups; this will be a list of tuples if the pattern\n",
      "           has more than one group.\n",
      "       \n",
      "           Empty matches are included in the result.\"\"\"\n",
      ">>>>>>     return _compile(pattern, flags).findall(string)\n",
      "       \n",
      ">>>>>> def finditer(pattern, string, flags=0):\n",
      "           \"\"\"Return an iterator over all non-overlapping matches in the\n",
      "           string.  For each match, the iterator returns a Match object.\n",
      "       \n",
      "           Empty matches are included in the result.\"\"\"\n",
      ">>>>>>     return _compile(pattern, flags).finditer(string)\n",
      "       \n",
      ">>>>>> def compile(pattern, flags=0):\n",
      "           \"Compile a regular expression pattern, returning a Pattern object.\"\n",
      "    1:     return _compile(pattern, flags)\n",
      "       \n",
      ">>>>>> def purge():\n",
      "           \"Clear the regular expression caches\"\n",
      ">>>>>>     _cache.clear()\n",
      ">>>>>>     _compile_repl.cache_clear()\n",
      "       \n",
      ">>>>>> def template(pattern, flags=0):\n",
      "           \"Compile a template pattern, returning a Pattern object\"\n",
      ">>>>>>     return _compile(pattern, flags|T)\n",
      "       \n",
      "       # SPECIAL_CHARS\n",
      "       # closing ')', '}' and ']'\n",
      "       # '-' (a range in character set)\n",
      "       # '&', '~', (extended character set operations)\n",
      "       # '#' (comment) and WHITESPACE (ignored) in verbose mode\n",
      ">>>>>> _special_chars_map = {i: '\\\\' + chr(i) for i in b'()[]{}?*+-|^$\\\\.&~# \\t\\n\\r\\v\\f'}\n",
      "       \n",
      ">>>>>> def escape(pattern):\n",
      "           \"\"\"\n",
      "           Escape special characters in a string.\n",
      "           \"\"\"\n",
      ">>>>>>     if isinstance(pattern, str):\n",
      ">>>>>>         return pattern.translate(_special_chars_map)\n",
      "           else:\n",
      ">>>>>>         pattern = str(pattern, 'latin1')\n",
      ">>>>>>         return pattern.translate(_special_chars_map).encode('latin1')\n",
      "       \n",
      ">>>>>> Pattern = type(sre_compile.compile('', 0))\n",
      ">>>>>> Match = type(sre_compile.compile('', 0).match(''))\n",
      "       \n",
      "       # --------------------------------------------------------------------\n",
      "       # internals\n",
      "       \n",
      ">>>>>> _cache = {}  # ordered!\n",
      "       \n",
      ">>>>>> _MAXCACHE = 512\n",
      ">>>>>> def _compile(pattern, flags):\n",
      "           # internal: compile pattern\n",
      "    1:     if isinstance(flags, RegexFlag):\n",
      ">>>>>>         flags = flags.value\n",
      "    1:     try:\n",
      "    1:         return _cache[type(pattern), pattern, flags]\n",
      ">>>>>>     except KeyError:\n",
      ">>>>>>         pass\n",
      ">>>>>>     if isinstance(pattern, Pattern):\n",
      ">>>>>>         if flags:\n",
      ">>>>>>             raise ValueError(\n",
      ">>>>>>                 \"cannot process flags argument with a compiled pattern\")\n",
      ">>>>>>         return pattern\n",
      ">>>>>>     if not sre_compile.isstring(pattern):\n",
      ">>>>>>         raise TypeError(\"first argument must be string or compiled pattern\")\n",
      ">>>>>>     p = sre_compile.compile(pattern, flags)\n",
      ">>>>>>     if not (flags & DEBUG):\n",
      ">>>>>>         if len(_cache) >= _MAXCACHE:\n",
      "                   # Drop the oldest item\n",
      ">>>>>>             try:\n",
      ">>>>>>                 del _cache[next(iter(_cache))]\n",
      ">>>>>>             except (StopIteration, RuntimeError, KeyError):\n",
      ">>>>>>                 pass\n",
      ">>>>>>         _cache[type(pattern), pattern, flags] = p\n",
      ">>>>>>     return p\n",
      "       \n",
      ">>>>>> @functools.lru_cache(_MAXCACHE)\n",
      "       def _compile_repl(repl, pattern):\n",
      "           # internal: compile replacement pattern\n",
      ">>>>>>     return sre_parse.parse_template(repl, pattern)\n",
      "       \n",
      ">>>>>> def _expand(pattern, match, template):\n",
      "           # internal: Match.expand implementation hook\n",
      ">>>>>>     template = sre_parse.parse_template(template, pattern)\n",
      ">>>>>>     return sre_parse.expand_template(template, match)\n",
      "       \n",
      ">>>>>> def _subx(pattern, template):\n",
      "           # internal: Pattern.sub/subn implementation helper\n",
      ">>>>>>     template = _compile_repl(template, pattern)\n",
      ">>>>>>     if not template[0] and len(template[1]) == 1:\n",
      "               # literal replacement\n",
      ">>>>>>         return template[1][0]\n",
      ">>>>>>     def filter(match, template=template):\n",
      ">>>>>>         return sre_parse.expand_template(template, match)\n",
      ">>>>>>     return filter\n",
      "       \n",
      "       # register myself for pickling\n",
      "       \n",
      ">>>>>> import copyreg\n",
      "       \n",
      ">>>>>> def _pickle(p):\n",
      ">>>>>>     return _compile, (p.pattern, p.flags)\n",
      "       \n",
      ">>>>>> copyreg.pickle(Pattern, _pickle, _compile)\n",
      "       \n",
      "       # --------------------------------------------------------------------\n",
      "       # experimental stuff (see python-dev discussions for details)\n",
      "       \n",
      ">>>>>> class Scanner:\n",
      ">>>>>>     def __init__(self, lexicon, flags=0):\n",
      ">>>>>>         from sre_constants import BRANCH, SUBPATTERN\n",
      ">>>>>>         if isinstance(flags, RegexFlag):\n",
      ">>>>>>             flags = flags.value\n",
      ">>>>>>         self.lexicon = lexicon\n",
      "               # combine phrases into a compound pattern\n",
      ">>>>>>         p = []\n",
      ">>>>>>         s = sre_parse.Pattern()\n",
      ">>>>>>         s.flags = flags\n",
      ">>>>>>         for phrase, action in lexicon:\n",
      ">>>>>>             gid = s.opengroup()\n",
      ">>>>>>             p.append(sre_parse.SubPattern(s, [\n",
      ">>>>>>                 (SUBPATTERN, (gid, 0, 0, sre_parse.parse(phrase, flags))),\n",
      "                       ]))\n",
      ">>>>>>             s.closegroup(gid, p[-1])\n",
      ">>>>>>         p = sre_parse.SubPattern(s, [(BRANCH, (None, p))])\n",
      ">>>>>>         self.scanner = sre_compile.compile(p)\n",
      ">>>>>>     def scan(self, string):\n",
      ">>>>>>         result = []\n",
      ">>>>>>         append = result.append\n",
      ">>>>>>         match = self.scanner.scanner(string).match\n",
      ">>>>>>         i = 0\n",
      ">>>>>>         while True:\n",
      ">>>>>>             m = match()\n",
      ">>>>>>             if not m:\n",
      ">>>>>>                 break\n",
      ">>>>>>             j = m.end()\n",
      ">>>>>>             if i == j:\n",
      ">>>>>>                 break\n",
      ">>>>>>             action = self.lexicon[m.lastindex-1][1]\n",
      ">>>>>>             if callable(action):\n",
      ">>>>>>                 self.match = m\n",
      ">>>>>>                 action = action(self, m.group())\n",
      ">>>>>>             if action is not None:\n",
      ">>>>>>                 append(action)\n",
      ">>>>>>             i = j\n",
      ">>>>>>         return result, string[i:]\n",
      "\n"
     ]
    }
   ],
   "source": [
    "print(open('re.cover').read())"
   ]
  },
  {
   "cell_type": "markdown",
   "metadata": {
    "slideshow": {
     "slide_type": "slide"
    }
   },
   "source": [
    "## tracemalloc\n",
    "\n",
    "Trace memory allocated, compare snapshots of memory"
   ]
  },
  {
   "cell_type": "code",
   "execution_count": 9,
   "metadata": {
    "scrolled": true,
    "slideshow": {
     "slide_type": "subslide"
    }
   },
   "outputs": [
    {
     "name": "stdout",
     "output_type": "stream",
     "text": [
      "[ Top 10 ]\n",
      "<ipython-input-9-923502c79f2f>:5: size=2546 B, count=2, average=1273 B\n",
      "/usr/lib/python3.7/codeop.py:133: size=621 B, count=8, average=78 B\n",
      "<ipython-input-9-923502c79f2f>:7: size=432 B, count=1, average=432 B\n",
      "/home/naomi/.virtualenvs/jupyter3.7/lib/python3.7/site-packages/IPython/core/interactiveshell.py:2899: size=104 B, count=3, average=35 B\n"
     ]
    }
   ],
   "source": [
    "import tracemalloc\n",
    "\n",
    "tracemalloc.start()\n",
    "\n",
    "x = \"-\".join(str(n) for n in range(100))\n",
    "\n",
    "snapshot = tracemalloc.take_snapshot()\n",
    "top_stats = snapshot.statistics('lineno', cumulative=True)\n",
    "\n",
    "print(\"[ Top 10 ]\")\n",
    "for stat in top_stats[:10]:\n",
    "    print(stat)\n"
   ]
  },
  {
   "cell_type": "markdown",
   "metadata": {
    "slideshow": {
     "slide_type": "slide"
    }
   },
   "source": [
    "## Try it out\n",
    "\n",
    "Run cProfile or trace on some of your code, and see if the results make sense."
   ]
  },
  {
   "cell_type": "markdown",
   "metadata": {
    "slideshow": {
     "slide_type": "slide"
    }
   },
   "source": [
    "## Timing"
   ]
  },
  {
   "cell_type": "markdown",
   "metadata": {
    "slideshow": {
     "slide_type": "slide"
    }
   },
   "source": [
    "#### timers\n",
    "\n",
    "* timeit.timeit()\n",
    "* time.clock()/time.time()"
   ]
  },
  {
   "cell_type": "markdown",
   "metadata": {
    "slideshow": {
     "slide_type": "slide"
    }
   },
   "source": [
    "#### timeit module\n",
    "\n",
    "* commandline  - `python -m timeit \"expression\"`\n",
    "* callable interface - `import timeit`\n",
    "* Timer class"
   ]
  },
  {
   "cell_type": "markdown",
   "metadata": {
    "slideshow": {
     "slide_type": "subslide"
    }
   },
   "source": [
    "#### timeit commandline\n",
    "\n",
    "`python -m timeit -n <number> -r <repetitions of timer> -s <setup expression> <expression to time>`"
   ]
  },
  {
   "cell_type": "code",
   "execution_count": 10,
   "metadata": {
    "slideshow": {
     "slide_type": "subslide"
    }
   },
   "outputs": [
    {
     "data": {
      "text/plain": [
       "'0-1-2-3-4-5-6-7-8-9-10-11-12-13-14-15-16-17-18-19-20-21-22-23-24-25-26-27-28-29-30-31-32-33-34-35-36-37-38-39-40-41-42-43-44-45-46-47-48-49-50-51-52-53-54-55-56-57-58-59-60-61-62-63-64-65-66-67-68-69-70-71-72-73-74-75-76-77-78-79-80-81-82-83-84-85-86-87-88-89-90-91-92-93-94-95-96-97-98-99'"
      ]
     },
     "execution_count": 10,
     "metadata": {},
     "output_type": "execute_result"
    }
   ],
   "source": [
    "\"-\".join(str(n) for n in range(100))"
   ]
  },
  {
   "cell_type": "code",
   "execution_count": null,
   "metadata": {
    "slideshow": {
     "slide_type": "subslide"
    }
   },
   "outputs": [],
   "source": [
    "def join_digits_100():\n",
    "    result = \"-\".join(str(n) for n in range(100))\n",
    "    return result"
   ]
  },
  {
   "cell_type": "code",
   "execution_count": 11,
   "metadata": {
    "slideshow": {
     "slide_type": "subslide"
    }
   },
   "outputs": [
    {
     "ename": "SyntaxError",
     "evalue": "invalid syntax (<ipython-input-11-1b3a48f743c0>, line 3)",
     "output_type": "error",
     "traceback": [
      "\u001b[0;36m  File \u001b[0;32m\"<ipython-input-11-1b3a48f743c0>\"\u001b[0;36m, line \u001b[0;32m3\u001b[0m\n\u001b[0;31m    $ python -m timeit '\"-\".join(str(n) for n in range(100))'\u001b[0m\n\u001b[0m    ^\u001b[0m\n\u001b[0;31mSyntaxError\u001b[0m\u001b[0;31m:\u001b[0m invalid syntax\n"
     ]
    }
   ],
   "source": [
    "# Note that from commandline 10000 runs and 3 repetitions is used by default\n",
    "\n",
    "$ python -m timeit '\"-\".join(str(n) for n in range(100))'\n",
    "100000 loops, best of 3: 18.2 usec per loop\n",
    "$ python -m timeit '\"-\".join([str(n) for n in range(100)])'\n",
    "100000 loops, best of 3: 16.5 usec per loop\n",
    "$ python -m timeit '\"-\".join(map(str, range(100)))'\n",
    "100000 loops, best of 3: 10.8 usec per loop\n"
   ]
  },
  {
   "cell_type": "code",
   "execution_count": 12,
   "metadata": {},
   "outputs": [
    {
     "data": {
      "text/plain": [
       "'0-1-2-3-4-5-6-7-8-9-10-11-12-13-14-15-16-17-18-19-20-21-22-23-24-25-26-27-28-29-30-31-32-33-34-35-36-37-38-39-40-41-42-43-44-45-46-47-48-49-50-51-52-53-54-55-56-57-58-59-60-61-62-63-64-65-66-67-68-69-70-71-72-73-74-75-76-77-78-79-80-81-82-83-84-85-86-87-88-89-90-91-92-93-94-95-96-97-98-99'"
      ]
     },
     "execution_count": 12,
     "metadata": {},
     "output_type": "execute_result"
    }
   ],
   "source": [
    " def concat_str(n):\n",
    "    result = \"\"\n",
    "    for x in range(n-1):\n",
    "        result += str(x) + \"-\"\n",
    "    result += str(n-1)\n",
    "    return result\n",
    "\n",
    "concat_str(100)"
   ]
  },
  {
   "cell_type": "code",
   "execution_count": 13,
   "metadata": {
    "scrolled": true,
    "slideshow": {
     "slide_type": "subslide"
    }
   },
   "outputs": [
    {
     "name": "stdout",
     "output_type": "stream",
     "text": [
      "6.260520209994866\n",
      "6.392004443987389\n",
      "5.901348232990131\n",
      "8.630485610003234\n"
     ]
    }
   ],
   "source": [
    "import timeit\n",
    "\n",
    "# using timeit(), the number of runs needs to be specified or 1000000 is used. Can't repeat\n",
    "a = timeit.timeit('\"-\".join(str(n) for n in range(100000))', number=100)\n",
    "print(a)\n",
    "\n",
    "b = timeit.timeit('\"-\".join([str(n) for n in range(100000)])', number=100)\n",
    "print(b)\n",
    "\n",
    "c = timeit.timeit('\"-\".join(map(str, range(100000)))', number=100)\n",
    "print(c)\n",
    "\n",
    "d = timeit.timeit('concat_str(100000)', setup=\"from __main__ import concat_str\", \n",
    "                number=100)\n",
    "print(d)\n",
    "\n"
   ]
  },
  {
   "cell_type": "code",
   "execution_count": null,
   "metadata": {
    "slideshow": {
     "slide_type": "slide"
    }
   },
   "outputs": [],
   "source": [
    "import timeit\n",
    " \n",
    "# using repeat, the number of runs needs to be specified or 1000000 is used. repeats defaults to 3\n",
    "a = timeit.repeat('\"-\".join(str(n) for n in range(100))', number=10000, repeat=3)\n",
    "print(a)\n",
    "\n",
    "b = timeit.repeat('\"-\".join([str(n) for n in range(100)])', number=10000, repeat=3)\n",
    "print(b)\n",
    "\n",
    "c = timeit.repeat('\"-\".join(map(str, range(100)))', number=10000, repeat=3)\n",
    "print(c)\n",
    "\n",
    "d = timeit.repeat('concat_str(100)', setup=\"from __main__ import concat_str\", number=10000, repeat=3)\n",
    "print(d)\n",
    "\n",
    "%timeit concat_str(100 )\n"
   ]
  },
  {
   "cell_type": "markdown",
   "metadata": {
    "slideshow": {
     "slide_type": "slide"
    }
   },
   "source": [
    "## Experiment with timeit\n",
    "\n",
    "Run time it on some various snippets of code to get a feel for how it works in your environment."
   ]
  },
  {
   "cell_type": "markdown",
   "metadata": {
    "slideshow": {
     "slide_type": "slide"
    }
   },
   "source": [
    "### Py-spy\n",
    "\n",
    "https://github.com/benfred/py-spy"
   ]
  },
  {
   "cell_type": "markdown",
   "metadata": {
    "slideshow": {
     "slide_type": "slide"
    }
   },
   "source": [
    "## Optimization\n",
    "\n",
    "“The real problem is that programmers have spent far too much time worrying about efficiency in the wrong places and at the wrong times; **premature optimization is the root of all evil (or at least most of it) in programming.**” \n",
    "\n",
    "-- Donald Knuth"
   ]
  },
  {
   "cell_type": "markdown",
   "metadata": {
    "slideshow": {
     "slide_type": "slide"
    }
   },
   "source": [
    "## Code optimizations"
   ]
  },
  {
   "cell_type": "markdown",
   "metadata": {
    "slideshow": {
     "slide_type": "slide"
    }
   },
   "source": [
    "### Dictionaries"
   ]
  },
  {
   "cell_type": "markdown",
   "metadata": {
    "slideshow": {
     "slide_type": "slide"
    }
   },
   "source": [
    "### strings\n",
    "\n",
    "* `.join()` over concatenation"
   ]
  },
  {
   "cell_type": "code",
   "execution_count": 14,
   "metadata": {
    "slideshow": {
     "slide_type": "slide"
    }
   },
   "outputs": [],
   "source": [
    "\n",
    "\n",
    "def test_concat():\n",
    "    new_string = \"\"\n",
    "    for x in range(1000000):\n",
    "        new_string += \"test\"\n",
    "        \n",
    "def test_join():\n",
    "    data = []\n",
    "    for x in range(1000000):\n",
    "        data.append(\"test\")\n",
    "\n",
    "    new_string = \"\".join(data)\n"
   ]
  },
  {
   "cell_type": "code",
   "execution_count": 15,
   "metadata": {
    "slideshow": {
     "slide_type": "slide"
    }
   },
   "outputs": [
    {
     "name": "stdout",
     "output_type": "stream",
     "text": [
      "348 ms ± 20.7 ms per loop (mean ± std. dev. of 7 runs, 1 loop each)\n",
      "176 ms ± 1.44 ms per loop (mean ± std. dev. of 7 runs, 10 loops each)\n"
     ]
    }
   ],
   "source": [
    "%timeit test_concat()\n",
    "\n",
    "%timeit test_join()\n",
    "\n"
   ]
  },
  {
   "cell_type": "markdown",
   "metadata": {
    "slideshow": {
     "slide_type": "fragment"
    }
   },
   "source": [
    "### list operations\n",
    "\n",
    "(deques if needed)"
   ]
  },
  {
   "cell_type": "code",
   "execution_count": 16,
   "metadata": {
    "slideshow": {
     "slide_type": "slide"
    }
   },
   "outputs": [],
   "source": [
    "from collections import deque\n",
    "\n",
    "a_list = []\n",
    "a_deque = deque()\n",
    "\n",
    "def test_list_queue():\n",
    "    for x in range(10000):\n",
    "        a_list.insert(x, 0)\n",
    "    \n",
    "    for x in range(10000):\n",
    "        a_list.pop(0)\n",
    "\n",
    "def test_deque():\n",
    "    for x in range(10000):\n",
    "        a_deque.appendleft(x)\n",
    "    \n",
    "    for x in range(10000):\n",
    "        a_deque.popleft()\n",
    "\n",
    " "
   ]
  },
  {
   "cell_type": "code",
   "execution_count": 17,
   "metadata": {
    "slideshow": {
     "slide_type": "fragment"
    }
   },
   "outputs": [
    {
     "name": "stdout",
     "output_type": "stream",
     "text": [
      "12.5 ms ± 78.5 µs per loop (mean ± std. dev. of 7 runs, 100 loops each)\n",
      "4.22 ms ± 85.4 µs per loop (mean ± std. dev. of 7 runs, 100 loops each)\n"
     ]
    }
   ],
   "source": [
    "%timeit test_list_queue()\n",
    "\n",
    "%timeit test_deque()"
   ]
  },
  {
   "cell_type": "markdown",
   "metadata": {
    "slideshow": {
     "slide_type": "slide"
    }
   },
   "source": [
    "## Optimizing for memory\n",
    "\n",
    "* Python 3 over Python 2 - generators and other lazy tricks\n",
    "* Encouraging garbage collection - reference count, scope, etc\n",
    "* -OO to removed built doc strings\n",
    "* see MicroPython for ideas"
   ]
  },
  {
   "cell_type": "markdown",
   "metadata": {
    "slideshow": {
     "slide_type": "slide"
    }
   },
   "source": [
    "## Optimizing for speed\n",
    "\n",
    "* Code optimization - loops, etc\n",
    "* Caching\n",
    "* External libraries"
   ]
  },
  {
   "cell_type": "markdown",
   "metadata": {
    "slideshow": {
     "slide_type": "slide"
    }
   },
   "source": [
    "## caching\n",
    "\n",
    "* functools - lrucache\n"
   ]
  },
  {
   "cell_type": "code",
   "execution_count": 18,
   "metadata": {
    "slideshow": {
     "slide_type": "slide"
    }
   },
   "outputs": [],
   "source": [
    "from functools import lru_cache\n",
    "\n",
    "@lru_cache(maxsize=None)\n",
    "def fib_recursive_cache(number):\n",
    "    if number in [1, 2]:\n",
    "        result = 1\n",
    "    else:\n",
    "        result =  fib_recursive_cache(number - 1) + fib_recursive_cache(number - 2)\n",
    "    \n",
    "    return result\n",
    "    \n"
   ]
  },
  {
   "cell_type": "code",
   "execution_count": 19,
   "metadata": {
    "slideshow": {
     "slide_type": "slide"
    }
   },
   "outputs": [
    {
     "name": "stdout",
     "output_type": "stream",
     "text": [
      "10.3 µs ± 75.2 ns per loop (mean ± std. dev. of 7 runs, 100000 loops each)\n",
      "54.4 ns ± 0.749 ns per loop (mean ± std. dev. of 7 runs, 10000000 loops each)\n"
     ]
    }
   ],
   "source": [
    "%timeit fib_recursive(10) \n",
    "%timeit fib_recursive_cache(10)"
   ]
  },
  {
   "cell_type": "markdown",
   "metadata": {
    "slideshow": {
     "slide_type": "slide"
    }
   },
   "source": [
    " <img src=\"JakeVP_lru.png\">"
   ]
  },
  {
   "cell_type": "markdown",
   "metadata": {
    "slideshow": {
     "slide_type": "slide"
    }
   },
   "source": [
    "## Code in C"
   ]
  },
  {
   "cell_type": "markdown",
   "metadata": {
    "slideshow": {
     "slide_type": "slide"
    }
   },
   "source": [
    "### Cython\n",
    "\n",
    "`$ pip install cython`"
   ]
  },
  {
   "cell_type": "markdown",
   "metadata": {
    "slideshow": {
     "slide_type": "slide"
    }
   },
   "source": [
    "### (Switch to 3.6 kernel)\n"
   ]
  },
  {
   "cell_type": "code",
   "execution_count": null,
   "metadata": {
    "slideshow": {
     "slide_type": "skip"
    }
   },
   "outputs": [],
   "source": [
    "!pip install cython\n"
   ]
  },
  {
   "cell_type": "code",
   "execution_count": 6,
   "metadata": {
    "slideshow": {
     "slide_type": "fragment"
    }
   },
   "outputs": [],
   "source": [
    "\n",
    "%load_ext Cython"
   ]
  },
  {
   "cell_type": "code",
   "execution_count": 7,
   "metadata": {
    "slideshow": {
     "slide_type": "slide"
    }
   },
   "outputs": [],
   "source": [
    "def fib(number):\n",
    "    if number < 2:\n",
    "        return number\n",
    "    return fib(number-1)+fib(number-2) "
   ]
  },
  {
   "cell_type": "code",
   "execution_count": 8,
   "metadata": {
    "slideshow": {
     "slide_type": "slide"
    }
   },
   "outputs": [],
   "source": [
    "%%cython\n",
    "def fib_cython(number):\n",
    "    if number < 2:\n",
    "        return number\n",
    "    return fib_cython(number-1)+fib_cython(number-2)"
   ]
  },
  {
   "cell_type": "code",
   "execution_count": 9,
   "metadata": {
    "slideshow": {
     "slide_type": "slide"
    }
   },
   "outputs": [],
   "source": [
    "%%cython\n",
    "cpdef long fib_cython_typed(long number):\n",
    "    if number < 2:\n",
    "        return number\n",
    "    return fib_cython_typed(number-1)+fib_cython_typed(number-2)"
   ]
  },
  {
   "cell_type": "code",
   "execution_count": 10,
   "metadata": {
    "slideshow": {
     "slide_type": "slide"
    }
   },
   "outputs": [],
   "source": [
    "# fibonacci via looping\n",
    "\n",
    "def fib_loop(number):\n",
    "    cur_fib,next_fib = 1,1\n",
    "    for i in range(number - 1):\n",
    "        cur_fib,  next_fib = next_fib, cur_fib + next_fib\n",
    "    return cur_fib\n",
    "\n",
    "\n"
   ]
  },
  {
   "cell_type": "code",
   "execution_count": 11,
   "metadata": {
    "scrolled": true,
    "slideshow": {
     "slide_type": "slide"
    }
   },
   "outputs": [],
   "source": [
    "%%cython\n",
    "\n",
    "# fibonacci via looping, cython, typed\n",
    "\n",
    "\n",
    "cpdef long fib_loop_cython_typed(long number):\n",
    "    cdef long cur_fib, next_fib\n",
    "    cur_fib, next_fib = 1,1\n",
    "    for i in range(number - 1):\n",
    "        cur_fib,next_fib = next_fib,cur_fib+next_fib\n",
    "    return cur_fib\n",
    "\n"
   ]
  },
  {
   "cell_type": "code",
   "execution_count": 12,
   "metadata": {
    "slideshow": {
     "slide_type": "slide"
    }
   },
   "outputs": [
    {
     "name": "stdout",
     "output_type": "stream",
     "text": [
      "20.9 µs ± 790 ns per loop (mean ± std. dev. of 7 runs, 10000 loops each)\n",
      "6.53 µs ± 279 ns per loop (mean ± std. dev. of 7 runs, 100000 loops each)\n",
      "203 ns ± 12.1 ns per loop (mean ± std. dev. of 7 runs, 10000000 loops each)\n",
      "607 ns ± 4.86 ns per loop (mean ± std. dev. of 7 runs, 1000000 loops each)\n",
      "57 ns ± 7.36 ns per loop (mean ± std. dev. of 7 runs, 10000000 loops each)\n"
     ]
    }
   ],
   "source": [
    "%timeit fib(10)\n",
    "\n",
    "%timeit fib_cython(10)\n",
    " \n",
    "%timeit fib_cython_typed(10)\n",
    "\n",
    "%timeit fib_loop(10)\n",
    "\n",
    "%timeit fib_loop_cython_typed(10)"
   ]
  },
  {
   "cell_type": "markdown",
   "metadata": {
    "slideshow": {
     "slide_type": "slide"
    }
   },
   "source": [
    "File fib.pyx\n",
    "```\n",
    "def fib(number):\n",
    "    if number < 2:\n",
    "        return number\n",
    "    return fib(number-1)+fib(number-2)\n",
    "```\n",
    "File setup.py\n",
    "```\n",
    "from distutils.core import setup\n",
    "from Cython.Build import cythonize\n",
    "\n",
    "setup(\n",
    "    ext_modules = cythonize(\"fib.pyx\")\n",
    "    )\n",
    "```\n",
    "Build with:\n",
    "`$ python setup.py build_ext --inplace`"
   ]
  },
  {
   "cell_type": "code",
   "execution_count": 1,
   "metadata": {
    "slideshow": {
     "slide_type": "slide"
    }
   },
   "outputs": [],
   "source": [
    "import fib "
   ]
  },
  {
   "cell_type": "code",
   "execution_count": 2,
   "metadata": {
    "slideshow": {
     "slide_type": "fragment"
    }
   },
   "outputs": [
    {
     "name": "stdout",
     "output_type": "stream",
     "text": [
      "6.87 µs ± 98 ns per loop (mean ± std. dev. of 7 runs, 100000 loops each)\n"
     ]
    }
   ],
   "source": [
    "%timeit fib.fib(10)"
   ]
  },
  {
   "cell_type": "markdown",
   "metadata": {
    "slideshow": {
     "slide_type": "slide"
    }
   },
   "source": [
    "### ctypes\n",
    "\n",
    "* provides C compatible data types and interface\n",
    "* allows using DLL's and shared libraries\n",
    "* can be used to wrap functions in those libraries"
   ]
  },
  {
   "cell_type": "code",
   "execution_count": 3,
   "metadata": {
    "slideshow": {
     "slide_type": "slide"
    }
   },
   "outputs": [
    {
     "data": {
      "text/plain": [
       "-1"
      ]
     },
     "execution_count": 3,
     "metadata": {},
     "output_type": "execute_result"
    }
   ],
   "source": [
    "from ctypes import *\n",
    "cdll.LoadLibrary(\"libc.so.6\") \n",
    "libc = CDLL(\"libc.so.6\")\n",
    "libc.printf(\"%s\\n\", \"hello\") "
   ]
  },
  {
   "cell_type": "code",
   "execution_count": 13,
   "metadata": {
    "slideshow": {
     "slide_type": "slide"
    }
   },
   "outputs": [
    {
     "name": "stdout",
     "output_type": "stream",
     "text": [
      "1561681634\n",
      "1561681634.8309903\n"
     ]
    }
   ],
   "source": [
    "print(libc.time(None))\n",
    "import time\n",
    "print(time.time())"
   ]
  },
  {
   "cell_type": "markdown",
   "metadata": {
    "slideshow": {
     "slide_type": "-"
    }
   },
   "source": [
    "**C function fib_rec**\n",
    "```\n",
    "int fib_rec(int number){\n",
    "  if (number < 2) {\n",
    "    return number;\n",
    "  }\n",
    "  return fib_rec(number-1)+fib_rec(number-2);\n",
    "}\n",
    "```\n",
    "\n",
    "**C function fib_loop**\n",
    "```\n",
    "int fib_rec(int number){\n",
    "  if (number < 2) {\n",
    "    return number;\n",
    "  }\n",
    "  return fib_rec(number-1)+fib_rec(number-2);\n",
    "}\n",
    "```\n",
    "**Compile to share lib `libfib.so`**\n",
    "```\n",
    "$ cc -fPIC -shared -o libfib.so fib_c.c\n",
    "```"
   ]
  },
  {
   "cell_type": "code",
   "execution_count": 14,
   "metadata": {
    "slideshow": {
     "slide_type": "slide"
    }
   },
   "outputs": [],
   "source": [
    "import ctypes\n",
    "\n",
    "ctypes_fib = ctypes.CDLL('/home/naomi/Documents/bloomberg/libfib.so')\n",
    "\n"
   ]
  },
  {
   "cell_type": "code",
   "execution_count": 15,
   "metadata": {
    "slideshow": {
     "slide_type": "slide"
    }
   },
   "outputs": [
    {
     "name": "stdout",
     "output_type": "stream",
     "text": [
      "305 ns ± 11.3 ns per loop (mean ± std. dev. of 7 runs, 1000000 loops each)\n"
     ]
    }
   ],
   "source": [
    "%timeit ctypes_fib.fib_loop(10) "
   ]
  },
  {
   "cell_type": "code",
   "execution_count": 16,
   "metadata": {
    "scrolled": true,
    "slideshow": {
     "slide_type": "slide"
    }
   },
   "outputs": [
    {
     "name": "stdout",
     "output_type": "stream",
     "text": [
      "773 ns ± 43.2 ns per loop (mean ± std. dev. of 7 runs, 1000000 loops each)\n",
      "298 ns ± 3.76 ns per loop (mean ± std. dev. of 7 runs, 1000000 loops each)\n"
     ]
    }
   ],
   "source": [
    "%timeit ctypes_fib.fib_rec(10)\n",
    "\n",
    "%timeit ctypes_fib.fib_loop(10)"
   ]
  },
  {
   "cell_type": "markdown",
   "metadata": {
    "slideshow": {
     "slide_type": "slide"
    }
   },
   "source": [
    "### CFFI\n",
    "\n",
    "* intended to keep as much in Python as possible\n",
    "* API - uses C compiler to create an interface library\n",
    "* ABI - accesses libraries directly, like C-Types\n"
   ]
  },
  {
   "cell_type": "code",
   "execution_count": 17,
   "metadata": {
    "slideshow": {
     "slide_type": "slide"
    }
   },
   "outputs": [
    {
     "name": "stdout",
     "output_type": "stream",
     "text": [
      "Loaded lib <cffi.api._make_ffi_library.<locals>.FFILibrary object at 0x7f203d0f3b38>\n"
     ]
    },
    {
     "data": {
      "text/plain": [
       "55"
      ]
     },
     "execution_count": 17,
     "metadata": {},
     "output_type": "execute_result"
    }
   ],
   "source": [
    "from cffi import FFI\n",
    "\n",
    "ffi = FFI()\n",
    "\n",
    "lib = ffi.dlopen('/home/naomi/Documents/bloomberg/libfib.so')\n",
    "print('Loaded lib {0}'.format(lib))\n",
    "\n",
    "ffi.cdef(\"\"\"\n",
    "int fib_rec(int number);\n",
    "int fib_loop(int number);\n",
    "\"\"\")\n",
    "lib.fib_rec(10)"
   ]
  },
  {
   "cell_type": "code",
   "execution_count": 18,
   "metadata": {
    "slideshow": {
     "slide_type": "slide"
    }
   },
   "outputs": [
    {
     "name": "stdout",
     "output_type": "stream",
     "text": [
      "730 ns ± 54.6 ns per loop (mean ± std. dev. of 7 runs, 1000000 loops each)\n",
      "254 ns ± 5.19 ns per loop (mean ± std. dev. of 7 runs, 1000000 loops each)\n"
     ]
    }
   ],
   "source": [
    "%timeit lib.fib_rec(10)\n",
    "\n",
    "%timeit lib.fib_loop(10)"
   ]
  },
  {
   "cell_type": "markdown",
   "metadata": {
    "slideshow": {
     "slide_type": "slide"
    }
   },
   "source": [
    "### C extensions\n",
    "\n",
    "* Adding new built-in objects to Python\n",
    "* Interface to C libraries\n",
    "* Uses C-Python API (Python.h)\n",
    "* Not as portable, and not recommended"
   ]
  },
  {
   "cell_type": "markdown",
   "metadata": {
    "slideshow": {
     "slide_type": "slide"
    }
   },
   "source": [
    "### Other options\n",
    "\n",
    "* [Pybind11](https://github.com/pybind/pybind11) - Used at Bloomberg for C++ libraries\n",
    "* [SWIG](http://www.swig.org/)\n",
    "* [Boost.Python](http://www.boost.org/doc/libs/1_59_0/libs/python/doc/)"
   ]
  },
  {
   "cell_type": "markdown",
   "metadata": {
    "slideshow": {
     "slide_type": "slide"
    }
   },
   "source": [
    "## Faster Pythons"
   ]
  },
  {
   "cell_type": "markdown",
   "metadata": {
    "slideshow": {
     "slide_type": "slide"
    }
   },
   "source": [
    "### Jython\n",
    "\n",
    "* Python on Java VM\n",
    "* No GIL, so multiple threads\n",
    "* Java libraries"
   ]
  },
  {
   "cell_type": "markdown",
   "metadata": {
    "slideshow": {
     "slide_type": "slide"
    }
   },
   "source": [
    "### Jython drawbacks\n",
    "\n",
    "* need to install Java VM\n",
    "* only 2.7\n",
    "* slow load time (load VM, then interpreter)"
   ]
  },
  {
   "cell_type": "markdown",
   "metadata": {
    "slideshow": {
     "slide_type": "slide"
    }
   },
   "source": [
    "### PyPy\n",
    "\n",
    "* Python in Python (R-Python, anyway)\n",
    "* Very fast\n"
   ]
  },
  {
   "cell_type": "markdown",
   "metadata": {
    "slideshow": {
     "slide_type": "slide"
    }
   },
   "source": [
    "### PyPy drawbacks\n",
    "\n",
    "* not very mature\n",
    "* Very complex and difficult to build/configure\n",
    "\n"
   ]
  },
  {
   "cell_type": "markdown",
   "metadata": {
    "collapsed": true,
    "slideshow": {
     "slide_type": "slide"
    }
   },
   "source": [
    "## Resources\n",
    "\n",
    "### Debugging\n",
    "\n",
    "* [Python Logging HOWTO](https://docs.python.org/3/howto/logging.html)\n",
    "* [Python Logging Cookbook](https://docs.python.org/3/howto/logging-cookbook.html)\n",
    "* [Effortless Logging (Mario Corchero, Bloomberg)](https://www.youtube.com/watch?v=Pbz1fo7KlGg)\n",
    "* [Using Assertions Effectively](https://wiki.python.org/moin/UsingAssertionsEffectively)\n",
    "* [faulthandler module docs](https://docs.python.org/3/library/faulthandler.html)\n",
    "* [pdb module docs](https://docs.python.org/3/library/pdb.html)\n",
    "* [inspect module docs](https://docs.python.org/3/library/inspect.html)\n",
    "\n",
    "### Profiling\n",
    "\n",
    "* [Python Profilers](https://docs.python.org/3/library/profile.html)\n",
    "* [timeit module](https://docs.python.org/3/library/timeit.html)\n",
    "* [time module](https://docs.python.org/3/library/time.html)\n",
    "* [Py-Spy](https://github.com/benfred/py-spy)\n",
    "\n",
    "### Optimizing\n",
    "\n",
    "* [Python Speed](https://wiki.python.org/moin/PythonSpeed)\n",
    "* [Python Speed Performance Tips](https://wiki.python.org/moin/PythonSpeed/PerformanceTips)\n",
    "* [Cython](http://cython.org/)\n",
    "* [ctypes module](https://docs.python.org/3/library/ctypes.html)\n",
    "* [C Extensions](https://docs.python.org/3/extending/extending.html)\n",
    "* [CFFI](https://cffi.readthedocs.io/en/latest/overview.html#)\n",
    "* [Building C Extensions with distutils](https://docs.python.org/3/extending/building.html)\n",
    "* [Jython](http://www.jython.org/)\n",
    "* [PyPy](https://pypy.org/)\n",
    "\n"
   ]
  },
  {
   "cell_type": "code",
   "execution_count": null,
   "metadata": {},
   "outputs": [],
   "source": []
  }
 ],
 "metadata": {
  "celltoolbar": "Slideshow",
  "kernelspec": {
   "display_name": "Python 3.6",
   "language": "python",
   "name": "python3.6"
  },
  "language_info": {
   "codemirror_mode": {
    "name": "ipython",
    "version": 3
   },
   "file_extension": ".py",
   "mimetype": "text/x-python",
   "name": "python",
   "nbconvert_exporter": "python",
   "pygments_lexer": "ipython3",
   "version": "3.6.4+"
  },
  "livereveal": {
   "scroll": true,
   "start_slideshow_at": "selected",
   "theme": "white",
   "transition": "none"
  },
  "toc": {
   "nav_menu": {},
   "number_sections": false,
   "sideBar": true,
   "skip_h1_title": false,
   "toc_cell": false,
   "toc_position": {},
   "toc_section_display": "block",
   "toc_window_display": false
  }
 },
 "nbformat": 4,
 "nbformat_minor": 2
}
