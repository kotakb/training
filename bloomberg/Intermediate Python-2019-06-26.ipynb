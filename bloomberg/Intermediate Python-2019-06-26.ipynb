{
 "cells": [
  {
   "cell_type": "markdown",
   "metadata": {
    "nbpresent": {
     "id": "ce2bdbfa-efaa-47f1-94f6-fa04558f09fc"
    },
    "slideshow": {
     "slide_type": "slide"
    }
   },
   "source": [
    "# Intermediate Python\n",
    "\n",
    "**Naomi Ceder, @naomiceder**\n",
    "\n",
    "- **Chair, Python Software Foundation**\n",
    "- **Quick Python Book, 3rd ed**\n",
    "- **Dick Blick Art Materials** \n",
    "\n",
    "**This notebook will be available for a week at https://github.com/nceder/training/tree/master/bloomberg**\n",
    "\n",
    "**Online sign in - `ATND <GO>`, code FJRMBN - from email**\n",
    "\n",
    "**or email rbasil@bloomberg.net**\n"
   ]
  },
  {
   "cell_type": "markdown",
   "metadata": {
    "slideshow": {
     "slide_type": "skip"
    }
   },
   "source": [
    "## Description\n",
    "\n",
    "Intermediate Python - This course is intended to be  the next step after picking up basic Python. It will survey the standard library and other common tools and introduce more advanced structures and concepts, including decorators, clojures, and a dive into how classes work. We will also discuss other object oriented features, such as class and static methods, inheritance, properties, and metaclasses.\n",
    "\n",
    "```\n",
    "Monday\n",
    "- AM: Intermediate Python\n",
    "- PM: Iterators, Generators, Collections\n",
    "\n",
    "Tuesday\n",
    "- AM: Pythonic Coding\n",
    "- PM: Moving to Python 3\n",
    "\n",
    "Wednesday\n",
    "- AM: Data cleaning\n",
    "- PM: Intermediate Python (repeat)\n",
    "\n",
    "Thursday\n",
    "- AM: Moving to Python 3 (repeat)\n",
    "- PM: Debugging Profiling Timing\n",
    "\n",
    "Friday\n",
    "- AM: Code organization and packaging\n",
    "- PM: Pythonic coding (repeat)\n",
    "```"
   ]
  },
  {
   "cell_type": "markdown",
   "metadata": {
    "nbpresent": {
     "id": "c9ee43ac-0688-4c98-805d-15305a8f4e96"
    },
    "slideshow": {
     "slide_type": "slide"
    }
   },
   "source": [
    "## What we'll do\n",
    "\n",
    "* Introduction\n",
    "* The standard library and common tools\n",
    "* Reasons to use (and not use) classes\n",
    "* A look at classes under the hood\n",
    "* Inheritance and mixins\n",
    "* Descriptors and properties\n",
    "* Abstract Base Classes\n"
   ]
  },
  {
   "cell_type": "markdown",
   "metadata": {
    "slideshow": {
     "slide_type": "slide"
    }
   },
   "source": [
    "## Course Assumptions\n",
    "\n",
    "* My course outline is only a general guide\n",
    "* We can be guided by your needs/interests\n",
    "* I need direction on what those are\n",
    "* The more we interact the better the outcome is likely to be"
   ]
  },
  {
   "cell_type": "markdown",
   "metadata": {
    "nbpresent": {
     "id": "77c00728-08d0-4c2d-9e6c-a73cdba1af60"
    },
    "slideshow": {
     "slide_type": "slide"
    }
   },
   "source": [
    "  \n",
    "### You\n",
    "\n",
    "* What do you do?\n",
    "* What coding experience do you have?\n",
    "* What are your repetitive hassles and time sinks?\n",
    "* What problems do you want/hope to solve?\n",
    "* Why are you here?"
   ]
  },
  {
   "cell_type": "markdown",
   "metadata": {
    "slideshow": {
     "slide_type": "skip"
    }
   },
   "source": [
    "### Becoming a Pythonista\n",
    "\n",
    "Some recommendations\n",
    "\n",
    "* consider the Zen of Python\n",
    "* follow PEP 8\n",
    "* be familiar with the docs\n",
    "* write as little code as you can as much as you can\n",
    "* read as much code as you can\n",
    "* use the built-in data structures over all else\n",
    "* dwell on generators and comprehensions\n",
    "* if you need more, use the standard library\n",
    "* be wary of frameworks\n",
    "* write as few classes as you can\n"
   ]
  },
  {
   "cell_type": "markdown",
   "metadata": {
    "slideshow": {
     "slide_type": "skip"
    }
   },
   "source": [
    "## Argument passing with * and **\n",
    "\n",
    "* `*` indicates an iterable to be processed as a series of positional parameters\n",
    "* `**` indicates a mapping (dict) to be processed as a series of named parametetrs\n",
    "* multiple uses of `*` and `**` are allowed"
   ]
  },
  {
   "cell_type": "code",
   "execution_count": null,
   "metadata": {
    "slideshow": {
     "slide_type": "skip"
    }
   },
   "outputs": [],
   "source": [
    "def foo(a, b, *args, one, **kwargs):\n",
    "    print(a, b, args, one, two, kwargs)\n",
    "    \n",
    "test_args = [1, 2, 3]\n",
    "test_kwargs = {'one': 1, 'two':2}\n",
    "\n",
    "foo(*test_args, **test_kwargs)"
   ]
  },
  {
   "cell_type": "markdown",
   "metadata": {
    "slideshow": {
     "slide_type": "slide"
    }
   },
   "source": [
    "## Using the Standard Libary\n",
    "\n",
    "One of the most common mistakes people make is not looking to the standard library first.\n",
    "\n",
    "See:\n",
    "\n",
    "* the Python [documentation](https://docs.python.org/3/)\n",
    "* standard [standard library reference](https://docs.python.org/3/library/index.html)"
   ]
  },
  {
   "cell_type": "markdown",
   "metadata": {
    "slideshow": {
     "slide_type": "slide"
    }
   },
   "source": [
    "### Strings\n",
    "  * string methods first - case, padding, transformation, etc\n",
    "  * str.translate & str.maketrans\n",
    "  * re - regular expressions (compile if using repeatedly)\n",
    "  * f-strings (from 3.6 on)"
   ]
  },
  {
   "cell_type": "code",
   "execution_count": 2,
   "metadata": {
    "slideshow": {
     "slide_type": "slide"
    }
   },
   "outputs": [
    {
     "name": "stdout",
     "output_type": "stream",
     "text": [
      "My name is Naomi and my age is none of your business\n",
      "My name is Naomi and my age is none of your business\n"
     ]
    },
    {
     "data": {
      "text/plain": [
       "'a-b+c_'"
      ]
     },
     "execution_count": 2,
     "metadata": {},
     "output_type": "execute_result"
    }
   ],
   "source": [
    "name = \"Naomi\"\n",
    "age = \"none of your business\"\n",
    "\n",
    "# before f-strings\n",
    "print(\"My name is {} and my age is {}\".format(name, age))\n",
    "\n",
    "#with f-strings\n",
    "print(f\"My name is {name} and my age is {age}\")\n",
    "\n",
    "punct = str.maketrans(\".,;\", \"-_+\")\n",
    "\n",
    "\"a.b;c,\".translate(punct)"
   ]
  },
  {
   "cell_type": "markdown",
   "metadata": {
    "slideshow": {
     "slide_type": "slide"
    }
   },
   "source": [
    "### Data Formats\n",
    "  * struct (packing/unpacking Python vars into binary format)\n",
    "  * json\n",
    "  * csv"
   ]
  },
  {
   "cell_type": "markdown",
   "metadata": {
    "slideshow": {
     "slide_type": "slide"
    }
   },
   "source": [
    "### File and Directory Access\n",
    "  * os.path - `os.path.join, split, walk`\n",
    "  * pathlib - object oriented file paths\n",
    "  * tempfile - create (and even automatically delete) temp files"
   ]
  },
  {
   "cell_type": "markdown",
   "metadata": {
    "slideshow": {
     "slide_type": "slide"
    }
   },
   "source": [
    "### Generic Operating System Services\n",
    "  * sys - info about the system (from Python's point of view)\n",
    "  * argparse - commandline handling\n",
    "  * os - interface to operating system, e.g., `os.system('ls')`\n",
    "  * subprocess - piping/redirection output to system processes"
   ]
  },
  {
   "cell_type": "markdown",
   "metadata": {
    "slideshow": {
     "slide_type": "slide"
    }
   },
   "source": [
    "### logging \n",
    "\n",
    "  * https://docs.python.org/3/howto/logging-cookbook.html, https://docs.python.org/3/howto/logging.html\n",
    "  * useful in production\n",
    "  * configurable levels\n",
    "  * multiple handlers\n",
    "  * file record\n",
    "  * more work to set up\n",
    "  * less clean-up, just set the debug levels\n"
   ]
  },
  {
   "cell_type": "code",
   "execution_count": 3,
   "metadata": {
    "slideshow": {
     "slide_type": "slide"
    }
   },
   "outputs": [
    {
     "name": "stderr",
     "output_type": "stream",
     "text": [
      "This goes to the console and the file\n"
     ]
    }
   ],
   "source": [
    "import logging\n",
    "import os\n",
    "\n",
    "# create the logger\n",
    "logger = logging.getLogger('my_process')\n",
    "logger.setLevel(logging.DEBUG)\n",
    "\n",
    "os.remove('process.log')\n",
    "# set up file for debug level messages\n",
    "file_handler = logging.FileHandler('process.log')\n",
    "file_handler.setLevel(logging.DEBUG)\n",
    "logger.addHandler(file_handler)\n",
    "\n",
    "# setup console for errors only\n",
    "console_handler = logging.StreamHandler()\n",
    "console_handler.setLevel(logging.ERROR)\n",
    "logger.addHandler(console_handler)\n",
    "\n",
    "logger.debug(\"This goes only to the file\")\n",
    "logger.error(\"This goes to the console and the file\")"
   ]
  },
  {
   "cell_type": "code",
   "execution_count": 4,
   "metadata": {
    "scrolled": false,
    "slideshow": {
     "slide_type": "slide"
    }
   },
   "outputs": [
    {
     "name": "stdout",
     "output_type": "stream",
     "text": [
      "This goes only to the file\n",
      "This goes to the console and the file\n",
      "\n"
     ]
    }
   ],
   "source": [
    "print(open('process.log').read())\n"
   ]
  },
  {
   "cell_type": "markdown",
   "metadata": {
    "slideshow": {
     "slide_type": "slide"
    }
   },
   "source": [
    "### `collections`\n",
    "\n",
    "* defaultdict - dict with default values as accessed\n",
    "* namedtuple - creates tuple with named fields\n",
    "* UserList, UserDict, UserString - wrappers around list, dict, string"
   ]
  },
  {
   "cell_type": "code",
   "execution_count": 5,
   "metadata": {
    "slideshow": {
     "slide_type": "slide"
    }
   },
   "outputs": [
    {
     "name": "stdout",
     "output_type": "stream",
     "text": [
      "[]\n"
     ]
    },
    {
     "data": {
      "text/plain": [
       "defaultdict(list, {'key': ['newvalue'], 'other_key': []})"
      ]
     },
     "execution_count": 5,
     "metadata": {},
     "output_type": "execute_result"
    }
   ],
   "source": [
    "from collections import defaultdict\n",
    "\n",
    "x = defaultdict(list)\n",
    "x[\"key\"].append(\"newvalue\")\n",
    "print(x[\"other_key\"]) \n",
    "x\n",
    "\n"
   ]
  },
  {
   "cell_type": "code",
   "execution_count": 7,
   "metadata": {
    "slideshow": {
     "slide_type": "slide"
    }
   },
   "outputs": [],
   "source": [
    "from collections import namedtuple\n",
    "\n",
    "Point = namedtuple('Point', ['x', 'y'])\n",
    "Point3D = namedtuple('Point', 'x y z')\n"
   ]
  },
  {
   "cell_type": "code",
   "execution_count": 8,
   "metadata": {
    "slideshow": {
     "slide_type": "fragment"
    }
   },
   "outputs": [
    {
     "data": {
      "text/plain": [
       "Point(x=1, y=2)"
      ]
     },
     "execution_count": 8,
     "metadata": {},
     "output_type": "execute_result"
    }
   ],
   "source": [
    "p = Point(1, 2)\n",
    "p"
   ]
  },
  {
   "cell_type": "code",
   "execution_count": 9,
   "metadata": {
    "slideshow": {
     "slide_type": "slide"
    }
   },
   "outputs": [
    {
     "data": {
      "text/plain": [
       "2"
      ]
     },
     "execution_count": 9,
     "metadata": {},
     "output_type": "execute_result"
    }
   ],
   "source": [
    "p3 = Point3D(1, 2, 3)\n",
    "p3\n",
    "p3.y"
   ]
  },
  {
   "cell_type": "code",
   "execution_count": 10,
   "metadata": {
    "scrolled": true,
    "slideshow": {
     "slide_type": "subslide"
    }
   },
   "outputs": [
    {
     "ename": "AttributeError",
     "evalue": "can't set attribute",
     "output_type": "error",
     "traceback": [
      "\u001b[0;31m---------------------------------------------------------------------------\u001b[0m",
      "\u001b[0;31mAttributeError\u001b[0m                            Traceback (most recent call last)",
      "\u001b[0;32m<ipython-input-10-97ba5c084cf1>\u001b[0m in \u001b[0;36m<module>\u001b[0;34m()\u001b[0m\n\u001b[0;32m----> 1\u001b[0;31m \u001b[0mp3\u001b[0m\u001b[0;34m.\u001b[0m\u001b[0mx\u001b[0m \u001b[0;34m=\u001b[0m \u001b[0;36m0\u001b[0m\u001b[0;34m\u001b[0m\u001b[0;34m\u001b[0m\u001b[0m\n\u001b[0m",
      "\u001b[0;31mAttributeError\u001b[0m: can't set attribute"
     ]
    }
   ],
   "source": [
    "p3.x = 0"
   ]
  },
  {
   "cell_type": "code",
   "execution_count": 11,
   "metadata": {
    "slideshow": {
     "slide_type": "fragment"
    }
   },
   "outputs": [
    {
     "data": {
      "text/plain": [
       "Point(x=2, y=4)"
      ]
     },
     "execution_count": 11,
     "metadata": {},
     "output_type": "execute_result"
    }
   ],
   "source": [
    "# ._make() takes a sequence and creates new instance\n",
    "p_2 = Point._make([2,4])\n",
    "p_2"
   ]
  },
  {
   "cell_type": "code",
   "execution_count": 12,
   "metadata": {
    "scrolled": false,
    "slideshow": {
     "slide_type": "fragment"
    }
   },
   "outputs": [
    {
     "data": {
      "text/plain": [
       "Point(x=1, y=2, z=5)"
      ]
     },
     "execution_count": 12,
     "metadata": {},
     "output_type": "execute_result"
    }
   ],
   "source": [
    "# ._replace() creates a new instance with new values\n",
    "p_3 = p3._replace(z=5)\n",
    "p_3"
   ]
  },
  {
   "cell_type": "markdown",
   "metadata": {
    "slideshow": {
     "slide_type": "slide"
    }
   },
   "source": [
    "### Dataclasses\n",
    "\n",
    "* new in 3.7\n",
    "* handle `__init__()` creation, etc\n",
    "* https://docs.python.org/3/library/dataclasses.html\n",
    "\n"
   ]
  },
  {
   "cell_type": "code",
   "execution_count": 14,
   "metadata": {
    "slideshow": {
     "slide_type": "slide"
    }
   },
   "outputs": [],
   "source": [
    "# Python 3.7 only\n",
    "\n",
    "from dataclasses import dataclass\n",
    "\n",
    "@dataclass\n",
    "class InventoryItem:\n",
    "    '''Class for keeping track of an item in inventory.'''\n",
    "    name: str\n",
    "    unit_price: float\n",
    "    quantity_on_hand: int = 0\n",
    "\n",
    "    def total_cost(self) -> float:\n",
    "        return self.unit_price * self.quantity_on_hand\n",
    "\n"
   ]
  },
  {
   "cell_type": "code",
   "execution_count": 15,
   "metadata": {
    "slideshow": {
     "slide_type": "slide"
    }
   },
   "outputs": [
    {
     "name": "stdout",
     "output_type": "stream",
     "text": [
      "InventoryItem(name='widget', unit_price=1.99, quantity_on_hand=0)\n"
     ]
    }
   ],
   "source": [
    "item = InventoryItem(name=\"widget\", unit_price=1.99)\n",
    "\n",
    "print(item)"
   ]
  },
  {
   "cell_type": "code",
   "execution_count": 16,
   "metadata": {
    "slideshow": {
     "slide_type": "slide"
    }
   },
   "outputs": [
    {
     "data": {
      "text/plain": [
       "InventoryItem(name='improved widget', unit_price=1.99, quantity_on_hand=0)"
      ]
     },
     "execution_count": 16,
     "metadata": {},
     "output_type": "execute_result"
    }
   ],
   "source": [
    "item.name = \"improved widget\"\n",
    "item"
   ]
  },
  {
   "cell_type": "markdown",
   "metadata": {
    "slideshow": {
     "slide_type": "slide"
    }
   },
   "source": [
    "## Type checking Python - mypy\n",
    "\n",
    "Guido and others have been working on `mypy`, a project to statically check types in Python code.\n",
    "\n",
    "It's available at: https://mypy.readthedocs.io/en/stable/getting_started.html"
   ]
  },
  {
   "cell_type": "code",
   "execution_count": 17,
   "metadata": {
    "slideshow": {
     "slide_type": "slide"
    }
   },
   "outputs": [
    {
     "name": "stdout",
     "output_type": "stream",
     "text": [
      "hello\n"
     ]
    }
   ],
   "source": [
    "def greeting(name: str) -> str:\n",
    "    return 'Hello, {}'.format(name)\n",
    "\n",
    "greeting(b'Alice')  # Argument 1 to \"greeting\" has incompatible type \"bytes\"; expected \"str\"\n",
    "\n",
    "\n",
    "def p() -> None:\n",
    "    print('hello')\n",
    "\n",
    "a = p()  # Error: \"p\" does not return a value\n",
    "\n",
    "\n"
   ]
  },
  {
   "cell_type": "markdown",
   "metadata": {
    "slideshow": {
     "slide_type": "slide"
    }
   },
   "source": [
    "## Python and OOP\n",
    "\n",
    "* Everything is an object\n",
    "* But that doesn't mean you MUST “do” OOP\n"
   ]
  },
  {
   "cell_type": "markdown",
   "metadata": {
    "slideshow": {
     "slide_type": "slide"
    }
   },
   "source": [
    "## Duck typing\n",
    "\n",
    "i.e., if it walks like a duck and it quacks like a duck..."
   ]
  },
  {
   "cell_type": "markdown",
   "metadata": {
    "slideshow": {
     "slide_type": "slide"
    }
   },
   "source": [
    "## The minimum class\n",
    "\n",
    "* `class` keyword\n",
    "* class name\n",
    "* inherit from ojbect (ultimately) only needed in Python 2.x\n"
   ]
  },
  {
   "cell_type": "markdown",
   "metadata": {
    "slideshow": {
     "slide_type": "slide"
    }
   },
   "source": [
    "## Instance Methods\n",
    "\n",
    "* `def` keyword and method name\n",
    "* reference to instance (self)"
   ]
  },
  {
   "cell_type": "markdown",
   "metadata": {
    "slideshow": {
     "slide_type": "slide"
    }
   },
   "source": [
    "## `__init__`\n",
    "\n",
    "* **NOT** a constructor, but an initializer\n",
    "* called immediately after an instance is created\n",
    "* sets initial state of object"
   ]
  },
  {
   "cell_type": "markdown",
   "metadata": {
    "slideshow": {
     "slide_type": "slide"
    }
   },
   "source": [
    "## Instance Data\n",
    "\n",
    "* data attributes of an instance\n",
    "* instance referred to as “self”\n",
    "* “self” is just convention"
   ]
  },
  {
   "cell_type": "code",
   "execution_count": 20,
   "metadata": {
    "scrolled": true,
    "slideshow": {
     "slide_type": "slide"
    }
   },
   "outputs": [
    {
     "name": "stdout",
     "output_type": "stream",
     "text": [
      "hello, I'm Donald\n",
      "<__main__.Duck object at 0x7f042ff77ef0>\n",
      "{'name': 'Donald', 'sound': ''}\n"
     ]
    }
   ],
   "source": [
    "class Duck:      # in 2.x - class Duck(object)\n",
    "    def __init__(self, name=\"a duck\", sound=''):\n",
    "        self.name = name\n",
    "        self.sound = sound\n",
    "    \n",
    "    def hello(self):\n",
    "        print(\"hello, I'm %s\" % self.name)\n",
    "\n",
    "donald = Duck(\"Donald\")\n",
    "donald.hello()\n",
    "#print(Duck.__dict__)\n",
    "print(donald)\n",
    "print(donald.__dict__)\n"
   ]
  },
  {
   "cell_type": "markdown",
   "metadata": {
    "slideshow": {
     "slide_type": "slide"
    }
   },
   "source": [
    "## Special Methods\n",
    "\n",
    "* `__repr__` - printable (and `eval`-able) represenation\n",
    "* `__str__` - a nicely printable representation\n"
   ]
  },
  {
   "cell_type": "code",
   "execution_count": 22,
   "metadata": {
    "scrolled": true,
    "slideshow": {
     "slide_type": "slide"
    }
   },
   "outputs": [
    {
     "name": "stdout",
     "output_type": "stream",
     "text": [
      "Duck: Donald\n",
      "A duck named Donald\n",
      "A duck named Donald\n",
      "Hi, I'm Donald\n"
     ]
    },
    {
     "data": {
      "text/plain": [
       "Duck: Donald"
      ]
     },
     "execution_count": 22,
     "metadata": {},
     "output_type": "execute_result"
    }
   ],
   "source": [
    "class Duck(object):\n",
    "    def __init__(self, name=\"a duck\"):             \n",
    "        self.name = name\n",
    "    def __repr__(self):\n",
    "        return \"Duck: %s\" % self.name\n",
    "    def __str__(self):\n",
    "         return \"A duck named %s\" % self.name\n",
    "    def hello(self):\n",
    "        return \"Hi, I'm %s\" % self.name\n",
    "\n",
    "donald = Duck(\"Donald\")\n",
    "print(repr(donald))\n",
    "print(str(donald))\n",
    "print(donald)\n",
    "print(donald.hello())\n",
    "donald"
   ]
  },
  {
   "cell_type": "markdown",
   "metadata": {
    "slideshow": {
     "slide_type": "slide"
    }
   },
   "source": [
    "## Instance vs. Class data\n",
    "\n",
    "* instance data elements are attached to self - e.g. self.name\n",
    "* every instance has its own copies of instance data\n",
    "* class data elements are part of the class\n",
    "* class data is shared over all instances of the class\n",
    "* scope is similar to functions - class variables are readable by the instance, but setting the variable creates a local shadow\n",
    "* class methods can be useful for e.g. keeping a list of instances active"
   ]
  },
  {
   "cell_type": "code",
   "execution_count": 27,
   "metadata": {
    "slideshow": {
     "slide_type": "slide"
    }
   },
   "outputs": [
    {
     "name": "stdout",
     "output_type": "stream",
     "text": [
      "quack\n",
      "quack\n",
      "squeak\n",
      "honk\n",
      "squeak\n",
      "{'sound': 'honk'}\n",
      "{}\n",
      "squeak\n"
     ]
    }
   ],
   "source": [
    "class Duck(object):\n",
    "    sound = \"quack\"\n",
    "    \n",
    "print(Duck.sound)\n",
    "donald = Duck()\n",
    "print(donald.sound)\n",
    "Duck.sound = \"squeak\"\n",
    "print(donald.sound)\n",
    "donald.sound = \"honk\"\n",
    "daisy = Duck()\n",
    "print(donald.sound)\n",
    "print(daisy.sound)\n",
    "print(donald.__dict__)\n",
    "print(daisy.__dict__)\n",
    "del donald.sound\n",
    "print(donald.sound)"
   ]
  },
  {
   "cell_type": "code",
   "execution_count": 28,
   "metadata": {
    "slideshow": {
     "slide_type": "slide"
    }
   },
   "outputs": [
    {
     "name": "stdout",
     "output_type": "stream",
     "text": [
      "A.x: 1   a1.x: 1    a2.x: 1\n",
      "A.x: 9   a1.x: 9    a2.x: 9\n",
      "A.x: 3   a1.x: 3    a2.x: 3\n",
      "A.x: 3   a1.x: 3    a2.x: 4\n",
      "A.x: 5   a1.x: 5    a2.x: 4\n"
     ]
    }
   ],
   "source": [
    "class A(object):\n",
    "    x = 1   # class data element\n",
    "\n",
    "    def  update_x(self, value):\n",
    "        self.__class__.x = value\n",
    "a1 = A()\n",
    "a2 = A()\n",
    "print(\"A.x: %d   a1.x: %d    a2.x: %s\" % (A.x, a1.x, a2.x))\n",
    "a1.update_x(9)\n",
    "print(\"A.x: %d   a1.x: %d    a2.x: %s\" % (A.x, a1.x, a2.x))\n",
    "A.x = 3\n",
    "print(\"A.x: %d   a1.x: %d    a2.x: %s\" % (A.x, a1.x, a2.x))\n",
    "a2.x = 4\n",
    "print(\"A.x: %d   a1.x: %d    a2.x: %s\"  % (A.x, a1.x, a2.x))\n",
    "a1.update_x(5)\n",
    "print(\"A.x: %d   a1.x: %d    a2.x: %s\" % (A.x, a1.x, a2.x))\n"
   ]
  },
  {
   "cell_type": "markdown",
   "metadata": {
    "slideshow": {
     "slide_type": "slide"
    }
   },
   "source": [
    "## More on methods\n",
    "\n",
    "* an instance method is “bound”, i.e. it is called on an instance\n",
    "* `a_class.method(an_instance, param) == an_instance.method(param)`"
   ]
  },
  {
   "cell_type": "code",
   "execution_count": 37,
   "metadata": {
    "slideshow": {
     "slide_type": "slide"
    }
   },
   "outputs": [
    {
     "name": "stdout",
     "output_type": "stream",
     "text": [
      "hello, bob from <__main__.A object at 0x7f042f547b38> \n",
      "hello, bob from <__main__.A object at 0x7f042f547b38> \n",
      "hello, new class from <__main__.A object at 0x7f042f5478d0> \n",
      "goodbye from <__main__.A object at 0x7f042f547b38>\n",
      "goodbye from <__main__.A object at 0x7f042f547b38>\n",
      "goodbye from <class '__main__.A'>\n",
      "goodbye from <__main__.A object at 0x7f042f547ac8>\n"
     ]
    }
   ],
   "source": [
    "class A:\n",
    "    def hello(self, name):\n",
    "        return \"hello, %s from %s \" % (name, self)\n",
    "    def goodbye(self):\n",
    "        return \"good bye from the real, true method  for %s\" % self\n",
    "    \n",
    "def goodbye(thing):\n",
    "    return \"goodbye from %s\" % thing\n",
    "      \n",
    "a1 = A()\n",
    "print(A.hello(a1,\"bob\"))\n",
    "print(a1.hello(\"bob\"))\n",
    "  \n",
    "print(A.hello(A(), \"new class\"))\n",
    "print(goodbye(a1))\n",
    "A.goodbye = goodbye\n",
    "print(a1.goodbye())\n",
    "print(A.goodbye(A))\n",
    "a2 = A()\n",
    "print(a2.goodbye())"
   ]
  },
  {
   "cell_type": "markdown",
   "metadata": {
    "slideshow": {
     "slide_type": "slide"
    }
   },
   "source": [
    "## static methods\n",
    "\n",
    "* static method decorator - `@staticmethod`\n",
    "* no object instantiation required\n",
    "* no self parameter\n",
    "* could be implemented as instance method, but static method is more readable, more flexible"
   ]
  },
  {
   "cell_type": "code",
   "execution_count": 38,
   "metadata": {
    "slideshow": {
     "slide_type": "slide"
    }
   },
   "outputs": [
    {
     "name": "stdout",
     "output_type": "stream",
     "text": [
      "hello, bob\n",
      "hello, name\n"
     ]
    }
   ],
   "source": [
    "class A(object):\n",
    "    @staticmethod\n",
    "    def hello(name):\n",
    "        return \"hello, %s\" % name\n",
    "        \n",
    "print(A.hello(\"bob\"))\n",
    "a1 = A()\n",
    "print(a1.hello(\"name\"))\n"
   ]
  },
  {
   "cell_type": "markdown",
   "metadata": {
    "slideshow": {
     "slide_type": "slide"
    }
   },
   "source": [
    "## class methods\n",
    "\n",
    "* class methods are bound to a class (like class data elements)\n",
    "* first parameter is the class, `cls` by convention\n",
    "* useful for calling other static methods, avoids need to hard code class name"
   ]
  },
  {
   "cell_type": "code",
   "execution_count": 39,
   "metadata": {
    "slideshow": {
     "slide_type": "slide"
    }
   },
   "outputs": [
    {
     "name": "stdout",
     "output_type": "stream",
     "text": [
      "hello, I'm bob\n",
      "hello, I'm A\n",
      "hello, I'm B\n"
     ]
    }
   ],
   "source": [
    "class A(object):\n",
    "    class_name = \"A\"\n",
    "    @staticmethod\n",
    "    def hello(name):\n",
    "        return \"hello, I'm %s\" % name\n",
    "        \n",
    "    @classmethod\n",
    "    def class_hello(cls):\n",
    "        return cls.hello(cls.class_name)\n",
    "\n",
    "class B(A):\n",
    "    class_name = \"B\"\n",
    "        \n",
    "print(A.hello(\"bob\"))\n",
    "print(A.class_hello())\n",
    "print(B.class_hello())"
   ]
  },
  {
   "cell_type": "markdown",
   "metadata": {
    "slideshow": {
     "slide_type": "slide"
    }
   },
   "source": [
    "## Building a class from scratch\n",
    "\n",
    "* Classes can be created using `type(<classname>, <bases>, <dict>)`\n"
   ]
  },
  {
   "cell_type": "code",
   "execution_count": 46,
   "metadata": {
    "slideshow": {
     "slide_type": "fragment"
    }
   },
   "outputs": [
    {
     "ename": "SyntaxError",
     "evalue": "invalid syntax (<string>, line 1)",
     "output_type": "error",
     "traceback": [
      "Traceback \u001b[0;36m(most recent call last)\u001b[0m:\n",
      "  File \u001b[1;32m\"/home/naomi/.virtualenvs/jupyter3.7/lib/python3.7/site-packages/IPython/core/interactiveshell.py\"\u001b[0m, line \u001b[1;32m2961\u001b[0m, in \u001b[1;35mrun_code\u001b[0m\n    exec(code_obj, self.user_global_ns, self.user_ns)\n",
      "\u001b[0;36m  File \u001b[0;32m\"<ipython-input-46-0e6f810846bd>\"\u001b[0;36m, line \u001b[0;32m10\u001b[0;36m, in \u001b[0;35m<module>\u001b[0;36m\u001b[0m\n\u001b[0;31m    funct = eval(\"def myfunct(name): print(name)\")\u001b[0m\n",
      "\u001b[0;36m  File \u001b[0;32m\"<string>\"\u001b[0;36m, line \u001b[0;32m1\u001b[0m\n\u001b[0;31m    def myfunct(name): print(name)\u001b[0m\n\u001b[0m      ^\u001b[0m\n\u001b[0;31mSyntaxError\u001b[0m\u001b[0;31m:\u001b[0m invalid syntax\n"
     ]
    }
   ],
   "source": [
    "def init_funct(self, name):\n",
    "    self.name = name\n",
    "\n",
    "def __str__funct(self):\n",
    "    return \"I am a Scratch object named %s\" % self.name\n",
    "    \n",
    "namespace = {'__init__': init_funct, \n",
    "             '__str__':__str__funct, 'x':\"value for x\"}\n",
    " \n",
    "Scratch = type('Scratch', (), namespace)\n",
    "print(Scratch)\n",
    "s = Scratch('my_scratch')\n",
    "print(s)\n",
    "#print(Scratch.x)\n",
    "#print(s.__dict__)\n",
    "print(Scratch.__dict__)\n"
   ]
  },
  {
   "cell_type": "markdown",
   "metadata": {
    "slideshow": {
     "slide_type": "slide"
    }
   },
   "source": [
    "## Inheritance in Python\n",
    "\n",
    "* super class(es) in parentheses\n",
    "* all methods are virtual\n",
    "* if method is not implemented, interpreter searches up the inheritance tree (MRO)"
   ]
  },
  {
   "cell_type": "code",
   "execution_count": 47,
   "metadata": {
    "slideshow": {
     "slide_type": "slide"
    }
   },
   "outputs": [
    {
     "name": "stdout",
     "output_type": "stream",
     "text": [
      "method a_method from class A, instance of <class '__main__.C'>\n",
      "method b_method from class B, instance of <class '__main__.C'>\n",
      "method d_method from class B, instance of <class '__main__.C'>\n"
     ]
    }
   ],
   "source": [
    "class A(object):\n",
    "    def a_method(self):\n",
    "        print(\"method a_method from class A, instance of %s\" % self.__class__) \n",
    "    def d_method(self):\n",
    "        print(\"method d_method from class A, instance of %s\" % self.__class__)\n",
    "class B(A):    \n",
    "    def b_method(self):\n",
    "        print(\"method b_method from class B, instance of %s\" % self.__class__)\n",
    "\n",
    "    def d_method(self):\n",
    "        print(\"method d_method from class B, instance of %s\" % self.__class__)\n",
    "        \n",
    "class C(B):\n",
    "    def c_method(self):\n",
    "        print(\"method c_method from class C, instance of %s\" % self.__class__)\n",
    "\n",
    "a1 = A()\n",
    "b1 = B()\n",
    "c1 = C()\n",
    "c1.a_method()\n",
    "c1.b_method()\n",
    "c1.d_method()"
   ]
  },
  {
   "cell_type": "markdown",
   "metadata": {
    "slideshow": {
     "slide_type": "slide"
    }
   },
   "source": [
    "## `super()`\n",
    "* sometimes you need to have a method implemented in a subclass...\n",
    "* but you also want to have the same method work in the superclass\n",
    "* in 2.x, call with class and instance\n",
    "* in 3.x parameters not needed"
   ]
  },
  {
   "cell_type": "code",
   "execution_count": 48,
   "metadata": {
    "slideshow": {
     "slide_type": "slide"
    }
   },
   "outputs": [
    {
     "name": "stdout",
     "output_type": "stream",
     "text": [
      "1\n",
      "1 2\n"
     ]
    }
   ],
   "source": [
    "class A(object):\n",
    "    def __init__(self, x):\n",
    "        self.x = x\n",
    "\n",
    "class B(A):\n",
    "    def __init__(self, x, y):\n",
    "        #super(B, self).__init__(x) # Python 2.x required this\n",
    "        super().__init__(x)         # Python 3.x is fine with this\n",
    "        self.y = y\n",
    "         \n",
    "a1 = A(1)\n",
    "b1 = B(1,2)\n",
    "print(a1.x)\n",
    "print(b1.x, b1.y)\n"
   ]
  },
  {
   "cell_type": "markdown",
   "metadata": {
    "slideshow": {
     "slide_type": "slide"
    }
   },
   "source": [
    "## Multiple inheritance\n",
    "\n",
    "* not allowed in many languages, e.g. Java\n",
    "* allows inheritance from more than one class\n",
    "* possible conflicts/confusion of inheriting from multiple subclasses of the same parent - who wins?\n",
    "* New style classes search up inheritance tree, left to right, but don't search the same parent twice.\n",
    "\n",
    "\n",
    "EXAMPLES"
   ]
  },
  {
   "cell_type": "markdown",
   "metadata": {
    "slideshow": {
     "slide_type": "slide"
    }
   },
   "source": [
    "## Method Resolution Order (MRO)\n",
    "\n",
    "New Style Classes\n",
    "\n",
    "Suppose you have a class A and classes B and C both inherit from A. You then create a class E which inherits from both B and C. If you then call a method implemented in only one of B and C, but also in A, what happens?\n",
    "\n",
    "\n",
    "Classes have a `__mro__` attribute to help understand this.\n",
    "\n",
    "https://www.python.org/download/releases/2.3/mro/\n"
   ]
  },
  {
   "cell_type": "code",
   "execution_count": 49,
   "metadata": {
    "slideshow": {
     "slide_type": "slide"
    }
   },
   "outputs": [
    {
     "name": "stdout",
     "output_type": "stream",
     "text": [
      "(<class '__main__.E'>, <class '__main__.B'>, <class '__main__.C'>, <class '__main__.A'>, <class 'object'>)\n"
     ]
    }
   ],
   "source": [
    "class A(object):\n",
    "    def a_method(self):\n",
    "        print(\"method a_method from class A, instance of %s\" % self.__class__)\n",
    "    def d_method(self):\n",
    "        print(\"method d_method from class A, instance of %s\" % self.__class__)\n",
    "class B(A):    \n",
    "    def b_method(self):\n",
    "        print(\"method b_method from class B, instance of %s\" % self.__class__)\n",
    "    def d_method(self):\n",
    "        print(\"method d_method from class B, instance of %s\" % self.__class__)\n",
    "        \n",
    "class C(A):\n",
    "    def c_method(self):\n",
    "        print(\"method c_method from class C, instance of %s\" % \n",
    "        self.__class__)\n",
    "    def d_method(self):\n",
    "        print(\"method d_method from class C, instance of %s\" % self.__class__)\n",
    "class E(B,C):\n",
    "    def e_method(self):\n",
    "        print(\"method e_method from class E, instance of %s\" % self.__class__)\n",
    "    def f_method(self):\n",
    "        super(C, self).d_method()\n",
    "\n",
    "a1 = A()\n",
    "b1 = B()\n",
    "c1 = C()\n",
    "e1 = E()\n",
    "print(E.__mro__)"
   ]
  },
  {
   "cell_type": "markdown",
   "metadata": {
    "slideshow": {
     "slide_type": "slide"
    }
   },
   "source": [
    "## Mixins\n",
    "\n",
    "* a way to manage multiple inheritance\n",
    "* separates super classes by functionality, prevents overlap... well... it can help"
   ]
  },
  {
   "cell_type": "code",
   "execution_count": 50,
   "metadata": {
    "slideshow": {
     "slide_type": "slide"
    }
   },
   "outputs": [
    {
     "name": "stdout",
     "output_type": "stream",
     "text": [
      "walking\n",
      "flying\n",
      "swimming\n"
     ]
    }
   ],
   "source": [
    "class animal(object):\n",
    "    def __init__(self, noise):\n",
    "        self.noise = noise\n",
    "\n",
    "class walker(object):\n",
    "    def walk(self):\n",
    "        print(\"walking\")\n",
    "\n",
    "class flyer(object):\n",
    "    def fly(self):\n",
    "        print(\"flying\")\n",
    "        \n",
    "class swimmer(object):\n",
    "    def swim(self):\n",
    "        print(\"swimming\")\n",
    "        \n",
    "class duck(animal, walker, flyer, swimmer):\n",
    "    pass \n",
    "\n",
    "Donald = duck(\"quack\")  \n",
    "\n",
    "Donald.walk()\n",
    "Donald.fly()\n",
    "Donald.swim()"
   ]
  },
  {
   "cell_type": "markdown",
   "metadata": {
    "collapsed": true,
    "slideshow": {
     "slide_type": "slide"
    }
   },
   "source": [
    "## LBYL vs. EAFP\n",
    "\n"
   ]
  },
  {
   "cell_type": "code",
   "execution_count": null,
   "metadata": {
    "slideshow": {
     "slide_type": "subslide"
    }
   },
   "outputs": [],
   "source": [
    "def process_list(a_list):\n",
    "    try:\n",
    "        x = a_list[0]\n",
    "    except TypeError:\n",
    "        print(\"{} is not a list... converting to 1 item list\")\n",
    "        a_list = [a_list]\n",
    "    except IndexError:\n",
    "        pass\n",
    "    for item in a_list:\n",
    "        print(item)\n",
    "        \n",
    "process_list(1)"
   ]
  },
  {
   "cell_type": "markdown",
   "metadata": {
    "slideshow": {
     "slide_type": "slide"
    }
   },
   "source": [
    "## Decorators\n",
    "\n",
    "* A way of wrapping a function in another function\n",
    "* Without some extra work, information, e.g, func_name, about the original function is masked"
   ]
  },
  {
   "cell_type": "code",
   "execution_count": 56,
   "metadata": {
    "nbpresent": {
     "id": "b8cce59c-5953-42bc-80bb-540dee622ef4"
    },
    "slideshow": {
     "slide_type": "fragment"
    }
   },
   "outputs": [
    {
     "name": "stdout",
     "output_type": "stream",
     "text": [
      "func_name before decorator - add\n",
      "func_name after decorator - wrapper\n"
     ]
    },
    {
     "data": {
      "text/plain": [
       "6"
      ]
     },
     "execution_count": 56,
     "metadata": {},
     "output_type": "execute_result"
    }
   ],
   "source": [
    "def require_int (func):\n",
    "    print(\"func_name before decorator -\", func.__name__)\n",
    "    def wrapper (arg1, arg2):\n",
    "        assert isinstance(arg1, int)\n",
    "        assert isinstance(arg2, int)\n",
    "        return func(arg1, arg2)\n",
    "\n",
    "    return wrapper\n",
    "\n",
    "\n",
    "@require_int\n",
    "def add(one, two):\n",
    "    return one + two\n",
    "\n",
    "#add = require_int(add)\n",
    "print(\"func_name after decorator -\", add.__name__)\n",
    "add(3,  3)"
   ]
  },
  {
   "cell_type": "markdown",
   "metadata": {
    "slideshow": {
     "slide_type": "slide"
    }
   },
   "source": [
    "### Using @wraps decorator\n",
    "\n",
    "* in functools library\n",
    "* a decorator to make better decorators\n",
    "* uses both the `partial()` and `update_wrapper()` functions from functools library"
   ]
  },
  {
   "cell_type": "code",
   "execution_count": 55,
   "metadata": {
    "slideshow": {
     "slide_type": "slide"
    }
   },
   "outputs": [
    {
     "name": "stdout",
     "output_type": "stream",
     "text": [
      "func_name before decorator - add\n",
      "func_name after decorator - add\n"
     ]
    },
    {
     "data": {
      "text/plain": [
       "6"
      ]
     },
     "execution_count": 55,
     "metadata": {},
     "output_type": "execute_result"
    }
   ],
   "source": [
    "from functools import wraps\n",
    "\n",
    "def require_int (func):\n",
    "    print(\"func_name before decorator -\", func.__name__)\n",
    "    @wraps(func)\n",
    "    def wrapper (arg1, arg2):\n",
    "        assert isinstance(arg1, int)\n",
    "        assert isinstance(arg2, int)\n",
    "        return func(arg1, arg2)\n",
    "\n",
    "    return wrapper\n",
    "\n",
    "\n",
    "@require_int\n",
    "def add(one, two):\n",
    "    return one + two\n",
    "\n",
    "#add = require_int(add)\n",
    "print(\"func_name after decorator -\", add.__name__)\n",
    "add(3, 3)"
   ]
  },
  {
   "cell_type": "markdown",
   "metadata": {
    "slideshow": {
     "slide_type": "slide"
    }
   },
   "source": [
    "## Properties\n",
    "\n",
    "* add methods to get and set instance data\n",
    "* still act like data attributes\n"
   ]
  },
  {
   "cell_type": "code",
   "execution_count": 57,
   "metadata": {
    "slideshow": {
     "slide_type": "slide"
    }
   },
   "outputs": [
    {
     "name": "stdout",
     "output_type": "stream",
     "text": [
      "setting x\n",
      "getting x\n",
      "2\n",
      "deleting x\n"
     ]
    }
   ],
   "source": [
    "class C(object):\n",
    "    def __init__(self):\n",
    "        self._x = None\n",
    "\n",
    "    def getx(self):\n",
    "        print(\"getting x\")\n",
    "        return self._x\n",
    "\n",
    "    def setx(self, value):\n",
    "        print(\"setting x\")\n",
    "        self._x = value\n",
    "\n",
    "    def delx(self):\n",
    "        print('deleting x')\n",
    "        del self._x  \n",
    "    x = property(getx, setx, delx, \"I'm the 'x' property.\")\n",
    "    \n",
    "c1 = C() \n",
    "c1.x = 2\n",
    "print(c1.x)\n",
    "del c1.x\n",
    "    "
   ]
  },
  {
   "cell_type": "code",
   "execution_count": 58,
   "metadata": {
    "slideshow": {
     "slide_type": "slide"
    }
   },
   "outputs": [
    {
     "name": "stdout",
     "output_type": "stream",
     "text": [
      "100000\n"
     ]
    }
   ],
   "source": [
    "class Parrot():\n",
    "    def __init__(self):\n",
    "        self._voltage = 100000\n",
    "\n",
    "    @property\n",
    "    def voltage(self):\n",
    "        \"\"\"Get the current voltage.\"\"\"\n",
    "        return self._voltage\n",
    "\n",
    "dead_parrot = Parrot()\n",
    "print(dead_parrot.voltage)"
   ]
  },
  {
   "cell_type": "code",
   "execution_count": 64,
   "metadata": {
    "slideshow": {
     "slide_type": "slide"
    }
   },
   "outputs": [
    {
     "name": "stdout",
     "output_type": "stream",
     "text": [
      "None\n"
     ]
    }
   ],
   "source": [
    "class C():\n",
    "    def __init__(self):\n",
    "        self._x = None\n",
    "\n",
    "    @property\n",
    "    def x(self):\n",
    "        \"\"\"I'm the 'x' property.\"\"\"\n",
    "        return self._x\n",
    "\n",
    "    @x.setter\n",
    "    def x(self, value):\n",
    "        self._x = value\n",
    "\n",
    "    @x.deleter\n",
    "    def x(self):\n",
    "        del self._x \n",
    "        \n",
    "c1 = C()\n",
    "print(c1.x)"
   ]
  },
  {
   "cell_type": "markdown",
   "metadata": {
    "slideshow": {
     "slide_type": "slide"
    }
   },
   "source": [
    "## Abstract Base Classes\n",
    "\n",
    "* abstract classes can't be instantiated\n",
    "* abstact classes have at least one abstract method\n",
    "* you must inherit from them, and the implement methods to override astract methods\n",
    "* https://docs.python.org/3/library/abc.html"
   ]
  },
  {
   "cell_type": "code",
   "execution_count": 65,
   "metadata": {
    "slideshow": {
     "slide_type": "slide"
    }
   },
   "outputs": [],
   "source": [
    "from abc import ABC, abstractmethod\n",
    "\n",
    "class A(ABC):\n",
    "    @abstractmethod\n",
    "    def test(self):\n",
    "        print(\"A(bstract)\")"
   ]
  },
  {
   "cell_type": "code",
   "execution_count": 66,
   "metadata": {
    "slideshow": {
     "slide_type": "slide"
    }
   },
   "outputs": [
    {
     "ename": "TypeError",
     "evalue": "Can't instantiate abstract class A with abstract methods test",
     "output_type": "error",
     "traceback": [
      "\u001b[0;31m---------------------------------------------------------------------------\u001b[0m",
      "\u001b[0;31mTypeError\u001b[0m                                 Traceback (most recent call last)",
      "\u001b[0;32m<ipython-input-66-d46a1191428f>\u001b[0m in \u001b[0;36m<module>\u001b[0;34m()\u001b[0m\n\u001b[0;32m----> 1\u001b[0;31m \u001b[0mx\u001b[0m \u001b[0;34m=\u001b[0m \u001b[0mA\u001b[0m\u001b[0;34m(\u001b[0m\u001b[0;34m)\u001b[0m\u001b[0;34m\u001b[0m\u001b[0;34m\u001b[0m\u001b[0m\n\u001b[0m",
      "\u001b[0;31mTypeError\u001b[0m: Can't instantiate abstract class A with abstract methods test"
     ]
    }
   ],
   "source": [
    "x = A()"
   ]
  },
  {
   "cell_type": "code",
   "execution_count": 69,
   "metadata": {
    "slideshow": {
     "slide_type": "slide"
    }
   },
   "outputs": [
    {
     "name": "stdout",
     "output_type": "stream",
     "text": [
      "A(bstract)\n"
     ]
    }
   ],
   "source": [
    "class B(A):\n",
    "    def test(self):\n",
    "        super().test()\n",
    "#        print(\"B\")\n",
    "        \n",
    "b = B()\n",
    "b.test()"
   ]
  },
  {
   "cell_type": "code",
   "execution_count": null,
   "metadata": {
    "slideshow": {
     "slide_type": "slide"
    }
   },
   "outputs": [],
   "source": [
    "B.register(list)"
   ]
  },
  {
   "cell_type": "code",
   "execution_count": null,
   "metadata": {
    "slideshow": {
     "slide_type": "slide"
    }
   },
   "outputs": [],
   "source": [
    "b = B()\n",
    "\n",
    "type(b)"
   ]
  },
  {
   "cell_type": "code",
   "execution_count": null,
   "metadata": {
    "slideshow": {
     "slide_type": "slide"
    }
   },
   "outputs": [],
   "source": [
    "isinstance([], B)"
   ]
  },
  {
   "cell_type": "code",
   "execution_count": null,
   "metadata": {
    "slideshow": {
     "slide_type": "slide"
    }
   },
   "outputs": [],
   "source": [
    "issubclass(list, B)"
   ]
  },
  {
   "cell_type": "markdown",
   "metadata": {
    "slideshow": {
     "slide_type": "skip"
    }
   },
   "source": [
    "\n",
    "\n",
    "\n",
    "* https://docs.python.org/3/library/collections.abc.html\n"
   ]
  },
  {
   "cell_type": "code",
   "execution_count": null,
   "metadata": {
    "scrolled": false,
    "slideshow": {
     "slide_type": "skip"
    }
   },
   "outputs": [],
   "source": [
    "from collections.abc import Iterable\n",
    "\n",
    "class I(Iterable):\n",
    "    pass\n",
    "test_i = I()"
   ]
  },
  {
   "cell_type": "code",
   "execution_count": null,
   "metadata": {
    "slideshow": {
     "slide_type": "skip"
    }
   },
   "outputs": [],
   "source": [
    "class I(Iterable):\n",
    "    def __iter__(self):\n",
    "        super().__iter__(self)\n",
    "test_i = I()"
   ]
  },
  {
   "cell_type": "markdown",
   "metadata": {
    "slideshow": {
     "slide_type": "slide"
    }
   },
   "source": [
    "## Example - typed list\n",
    "\n",
    "How would you make a list that only allowed items of a single type?\n",
    "\n"
   ]
  },
  {
   "cell_type": "markdown",
   "metadata": {
    "scrolled": true,
    "slideshow": {
     "slide_type": "slide"
    }
   },
   "source": [
    "https://docs.python.org/3/reference/datamodel.html#special-method-names\n",
    "\n",
    "* inherit from list?\n",
    "* write a new class, maybe use ABC's?\n",
    "* use UserList?"
   ]
  },
  {
   "cell_type": "markdown",
   "metadata": {
    "slideshow": {
     "slide_type": "skip"
    }
   },
   "source": [
    "## Metaclasses\n",
    "\n",
    "* In Python everything is an object, even classes\n",
    "* You can create a different sort of class object\n",
    "* you can define classes that behave differently\n",
    "* e.g. classes that automatically register themselves when instantiated\n",
    "\n",
    "(see, e.g., http://eli.thegreenplace.net/2011/08/14/python-metaclasses-by-example and https://jeffknupp.com/blog/2013/12/28/improve-your-python-metaclasses-and-dynamic-classes-with-type/ for more on the following example and some use cases)"
   ]
  },
  {
   "cell_type": "code",
   "execution_count": null,
   "metadata": {
    "scrolled": true,
    "slideshow": {
     "slide_type": "skip"
    }
   },
   "outputs": [],
   "source": [
    "class MyMeta(type):\n",
    "    def __new__(meta, name, bases, dct):\n",
    "        print('-----------------------------------')\n",
    "        print(\"Allocating memory for class\", name)\n",
    "        print(meta)\n",
    "        print(bases)\n",
    "        print(dct)\n",
    "        return super(MyMeta, meta).__new__(meta, name, bases, dct)\n",
    "    def __init__(cls, name, bases, dct):\n",
    "        print('-----------------------------------')\n",
    "        print(\"Initializing class\", name)\n",
    "        print(cls)\n",
    "        print(bases)\n",
    "        print(dct)\n",
    "        super(MyMeta, cls).__init__(name, bases, dct)\n",
    "\n",
    "class MyKlass(metaclass=MyMeta):\n",
    "    # __metaclass__ = MyMeta in Python 2\n",
    "\n",
    "    def foo(self, param):\n",
    "        pass\n",
    "\n",
    "    barattr = 2\n",
    "    \n",
    "c1 = MyMeta('hello', (),{})\n",
    "print(dir(c1))"
   ]
  },
  {
   "cell_type": "code",
   "execution_count": null,
   "metadata": {
    "slideshow": {
     "slide_type": "skip"
    }
   },
   "outputs": [],
   "source": [
    "class MyMeta(type):\n",
    "    def __call__(cls, *args, **kwds):\n",
    "        print('__call__ of ', str(cls))\n",
    "        print('__call__ *args=', str(args))\n",
    "        return type.__call__(cls, *args, **kwds)\n",
    "\n",
    "class MyKlass(metaclass=MyMeta):\n",
    "    __metaclass__ = MyMeta\n",
    "    \n",
    "# in Python 2\n",
    "# class MyKlass(Object):\n",
    "#    __metaclass__ = MyMeta\n",
    "\n",
    "    def __init__(self, a, b):\n",
    "        print('%s with a=%s, b=%s' % (self, a, b))\n",
    "\n",
    "print('gonna create foo now...')\n",
    "foo = MyKlass(1, 2)\n"
   ]
  },
  {
   "cell_type": "markdown",
   "metadata": {
    "slideshow": {
     "slide_type": "slide"
    }
   },
   "source": [
    "##  Resources: \n",
    "\n",
    "* [The Python Tutorial](http://docs.python.org/2.7/tutorial/index.html)\n",
    "* [Python Standard Library Reference](https://docs.python.org/2.7/library/index.html)\n",
    "* [Python HOWTO's](https://docs.python.org/3.3/howto/index.html)\n",
    "* Talks by Raymond Hettinger, Dave Beazley, Alex Martelli\n",
    "* Luciano Ramalho, [Fluent Python](http://shop.oreilly.com/product/0636920032519.do)\n",
    "* Dave Beazley, [Python Cookbook](http://shop.oreilly.com/product/0636920027072.do), [ Python Essential Reference](https://www.amazon.com/Python-Essential-Reference-David-Beazley/dp/0672329786)\n",
    "* [Stop Writing Classes](https://www.youtube.com/watch?v=o9pEzgHorH0)\n"
   ]
  }
 ],
 "metadata": {
  "celltoolbar": "Slideshow",
  "kernelspec": {
   "display_name": "Python 3.7",
   "language": "python",
   "name": "python3.7"
  },
  "language_info": {
   "codemirror_mode": {
    "name": "ipython",
    "version": 3
   },
   "file_extension": ".py",
   "mimetype": "text/x-python",
   "name": "python",
   "nbconvert_exporter": "python",
   "pygments_lexer": "ipython3",
   "version": "3.7.3"
  },
  "livereveal": {
   "scroll": true,
   "start_slideshow_at": "selected",
   "theme": "white",
   "transition": "none"
  },
  "toc": {
   "nav_menu": {},
   "number_sections": false,
   "sideBar": true,
   "skip_h1_title": false,
   "toc_cell": false,
   "toc_position": {},
   "toc_section_display": "block",
   "toc_window_display": false
  }
 },
 "nbformat": 4,
 "nbformat_minor": 2
}
